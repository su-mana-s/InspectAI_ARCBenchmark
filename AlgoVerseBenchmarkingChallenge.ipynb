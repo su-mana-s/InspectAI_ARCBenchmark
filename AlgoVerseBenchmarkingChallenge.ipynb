{
  "cells": [
    {
      "cell_type": "markdown",
      "metadata": {},
      "source": [
        "# ARC Challenge With Inspect"
      ]
    },
    {
      "cell_type": "markdown",
      "metadata": {},
      "source": [
        "## Overview\n",
        "\n",
        "### Part A\n",
        "- Setup - Normal benchmark - test/validation sets - Samples - inbuilt solvers and scorers\n",
        "### Part B\n",
        "- EvalSet - 2 models - Comparison - Analysis of Logs, Results \n",
        "### Part C\n",
        "- LogProbs integration - custom solvers and scorers for different metrics(accuracy, stderr, mean over answers, confidence, topk etc), plots\n",
        "### Part D\n",
        "- If you allow for multiple answers - the models usually end up choosing more than is necessary. Even thought they get the right answer in a single answer setting.\n",
        "1. Top logprobs for multi answers - are the 'just right' answers in top k?\n",
        "2. Will letting the model know that there will be negative marking, ie., penalty by avg help?"
      ]
    },
    {
      "cell_type": "markdown",
      "metadata": {},
      "source": [
        "(Probably not the right place to put this - but, can I just say that the ARENA nbs are absolutely delightful?! I have never gone from theory to building as fast or as confidently as I did with them. Brilliantly structured! This was fun!!)"
      ]
    },
    {
      "cell_type": "markdown",
      "metadata": {},
      "source": [
        "## Summary of Analysis/Insights\n",
        "\n",
        "### A. Basic\n",
        "1. Model: gpt-4.1-nano.\n",
        "2. Data: 250 samples from the validation set of the ARC challenge dataset.\n",
        "3. Accuracy: 0.892, stderr: 0.020\n",
        "4. solver, scorer: multiple_choice, choice (inbuilt)\n",
        "\n",
        "### B. Moderate\n",
        "1. Accuracy- on limit=250 samples from the validation set\n",
        "    - gpt-4o-mini: 0.916\n",
        "    - gpt-4.1-nano: 0.888\n",
        "2. \n",
        "    - Questions that Model 1(gpt-4.1-nano) got right that Model 2(gpt-4o-mini) didn't: 10\n",
        "    - Questions that Model 2(gpt-4o-mini) got right that Model 1(gpt-4.1-nano) didn't: 19\n",
        "3. There are 14 questions that both models get wrong having chosen the same wrong options, and 3 questions that they get wrong choosing different wrong options.\n",
        "\n",
        "    - Of these, atleast 1 had different labels ie., [1,2,3,4] instead of [A,B,C,D]. Since the model was prompted to respond with one of the labels it responded with '4' where the target was 'D'. Essentially, it got the answer right, but the question formatting was wrong. (Deliberate on the authors' part, I wonder?)\n",
        "\n",
        "### C. Advanced\n",
        "\n",
        "1. Set-up: Custom Scorers\n",
        "    - Accuracy, stderr: Top K Winner, k=2 ie., a larger margin for error\n",
        "    (Say you want to give it an easier chance of winning, so maybe take k=2\n",
        "    ie., if the correct ans (target) is in the model's first 2 choices\n",
        "    here, greedy pick is essentially k=1)\n",
        "    - Accuracy, stderr: Greedy Pick - ie., acc and stderr of the ans its most confdent in\n",
        "    - Mean score: Average % confidence over all records - by linear probability - for the target\n",
        "    - Mean score: Average % confidence of greedy ans over all records - by linear probability\n",
        "\n",
        "2. The greedy score, ie., the top choice with k=1 align with the initial comparisons above for both models.\n",
        "3. The topk_winner scores, on the other hand, with just k=2, sees mini score a full accuracy = 1 and nano a close second with accuracy = 0.996 !\n",
        "(ie., given just a very minute increase in margin for error - a second chance, essentially - the models generally get everything right?!)\n",
        "4. Confidence is calculated as the linear probability from the logprobs of top-k answers. Top-conf., ie., the model's confidence in its top choice is at a 99% for mini and 97% for nano! \n",
        "5. Whereas the confidence in the actual, ground-truth target answer is a 90% and 87% for mini and nano respectively. This is because, well, they are generally confident of their top choices, regardless of whether they are right or wrong. So, when they get some questions wrong and the target differs, their confidence in their wrong answer remains - thus the lower scores.\n",
        "\n",
        "### D. MC-MCQ - Multi-correct Answers\n",
        "\n",
        "- What happens when models are told that there might be more than 1 answer to a question? A more realistic scenario might involve MCMCQs!\n",
        "- Granted, the data being used doesnt have multi-correct answers-  which makes it even more concerning that models score abysmally(worse than normal) by choosing more options than are necessary.\n",
        "\n",
        "- Set-up: Inspect's Multiple choice prompt for the user prompt. \n",
        "1. Without logprobs - Custom scorer: partial_choice which affords partial credit by averaging correct keys from the set of all returned keys in a multi-choice-multi-correct scenario. ie., in a multi-correct scenario, if the model had returned the perfect target it would have achieved a score of 1. Adding, say, just one other useless option brings the score down to 0.5.\n",
        "    - Both models tend to over-answer \n",
        "    - gpt-4.1-nano - 0.803\n",
        "    - gpt-4o-mini - 0.751\n",
        "But mini was performing better all this while! The scores are significantly worse than from the single answer prompts above!\n",
        "\n",
        "2. With logprobs- Custom scorers: A) Our penalising MCMCQ scorer and B) mc_topk_winner that calculates the accuracy by checking for the correct answer set in top k (here, k=2). Note that this requires an exact match.\n",
        "So, if our required target isnt in top-k, the scorer doesnt even give partial credit- it gives 0.\n",
        "Under this, we have 2 paradigms - w/ penalty and w/o penalty., ie., do we let the model know that it is being penalised?\n",
        "\n",
        "3. w/o penalty - ie., normal prompt for MCMCQ, the model doesn't know that its being penalised for adding wrong answers.\n",
        "    - Analysing the same with logprobs - ie., given that it returns the wrong answers, is the correct answer in topk? The scores below are for topk=2\n",
        "    - mini - 0.816 (mc_topk_winner)\n",
        "    - nano - 0.68 (mc_topk_winner)\n",
        "    - The scores might be lower than the original MCMCQ scores - but these are not meant to be compared! Note definition  of B above.\n",
        "    - See snapshots from the Inspect logs down below\n",
        "\n",
        "4. w/ penalty - ie.,  What if you tell the model that there's a penalty for extra answers? \n",
        "    - Funnily enough - for some cases, the correct answer manages to make it to atleast one of topk=4, whereas in the previous case, it was nowhere to be found. The scores below are for topk=2\n",
        "    - mini - 0.828 (mc_topk_winner)\n",
        "    - nano - 0.756 (mc_topk_winner)\n",
        "    - Slight improvement?\n",
        "\n",
        "\n",
        "\n"
      ]
    },
    {
      "cell_type": "markdown",
      "metadata": {
        "id": "UGSucynXX6Qw"
      },
      "source": [
        "ENV"
      ]
    },
    {
      "cell_type": "code",
      "execution_count": 1,
      "metadata": {
        "id": "dqCn7t1HX78P"
      },
      "outputs": [],
      "source": [
        "import os\n",
        "import random\n",
        "import re\n",
        "import sys\n",
        "import numpy as np\n",
        "from functools import partial\n",
        "from pathlib import Path\n",
        "from pprint import pprint\n",
        "from typing import Any, Literal\n",
        "\n",
        "# from anthropic import Anthropic\n",
        "from openai import OpenAI, AsyncOpenAI\n",
        "\n",
        "import inspect_ai\n",
        "from inspect_ai.dataset import Sample, hf_dataset\n",
        "from inspect_ai.model import ChatMessageAssistant, ChatMessageSystem, ChatMessageUser\n",
        "\n",
        "from inspect_ai import Task, eval, task\n",
        "from inspect_ai.dataset import example_dataset\n",
        "\n",
        "from inspect_ai.scorer import scorer, model_graded_fact, answer, choice, Scorer, Score, Target, accuracy, stderr, MetricProtocol, Metric\n",
        "from inspect_ai.scorer import CORRECT, INCORRECT, Score\n",
        "from inspect_ai.scorer._metrics import mean\n",
        "\n",
        "from inspect_ai.solver import Choices\n",
        "from inspect_ai.solver import chain_of_thought, generate, self_critique, multiple_choice\n",
        "from inspect_ai.solver import Generate, Solver, TaskState, chain, solver, generate\n",
        "from inspect_ai.model import GenerateConfig\n",
        "\n",
        "from inspect_ai.log import read_eval_log\n",
        "import pandas as pd\n",
        "\n",
        "import plotly.graph_objects as go\n",
        "import plotly.express as px\n",
        "\n",
        "from inspect_ai import eval_set"
      ]
    },
    {
      "cell_type": "markdown",
      "metadata": {
        "id": "E0kmNGXIeXha"
      },
      "source": [
        "##### Secrets"
      ]
    },
    {
      "cell_type": "code",
      "execution_count": 2,
      "metadata": {
        "id": "ZC4DjxlleXD-"
      },
      "outputs": [],
      "source": [
        "assert os.getenv('OPENAI_API_KEY') is not None, \"You must set your OpenAI API key\"\n",
        "openai_client = OpenAI()"
      ]
    },
    {
      "cell_type": "markdown",
      "metadata": {},
      "source": [
        "# Part A"
      ]
    },
    {
      "cell_type": "markdown",
      "metadata": {
        "id": "W8orQN6-clS3"
      },
      "source": [
        "### Dataset & Samples"
      ]
    },
    {
      "cell_type": "markdown",
      "metadata": {
        "id": "wRFgScQ1cpZl"
      },
      "source": [
        "- Extract subsets of the 2.59k ARC-Challenge set-  The test set with 1.17k records & validation set with 299 records"
      ]
    },
    {
      "cell_type": "code",
      "execution_count": null,
      "metadata": {
        "colab": {
          "base_uri": "https://localhost:8080/"
        },
        "id": "fFoCS7NsX8RW",
        "outputId": "a2a4f8c0-3220-49c4-d9af-a331e6340b2c"
      },
      "outputs": [],
      "source": [
        "\n",
        "\n",
        "def arc_record_to_sample(record: dict[str, Any]) -> Sample:\n",
        "    \"\"\"    \"\"\"\n",
        "    labels = record[\"choices\"][\"label\"]\n",
        "    choices = record[\"choices\"][\"text\"]\n",
        "\n",
        "    target = chr(ord(\"A\") + labels.index(record[\"answerKey\"]))  # maps target label to A, B, C, ...\n",
        "    input = [ChatMessageUser(content=record[\"question\"])]  # should store input as list of ChatMessage objects\n",
        "    metadata = zip(labels,choices)\n",
        "    # return sample\n",
        "    return Sample(input=input, choices=choices, target=target, metadata={\"labels\":labels})\n",
        "\n",
        "\n",
        "val_dataset = hf_dataset(\n",
        "    path=\"allenai/ai2_arc\",\n",
        "    name=\"ARC-Challenge\",\n",
        "    sample_fields=arc_record_to_sample,\n",
        "    split=\"validation\", \n",
        "    trust=True,\n",
        ")\n",
        "pprint(val_dataset.samples[0].__dict__)"
      ]
    },
    {
      "cell_type": "code",
      "execution_count": 55,
      "metadata": {},
      "outputs": [
        {
          "name": "stdout",
          "output_type": "stream",
          "text": [
            "{'choices': ['Planetary density will decrease.',\n",
            "             'Planetary years will become longer.',\n",
            "             'Planetary days will become shorter.',\n",
            "             'Planetary gravity will become stronger.'],\n",
            " 'files': None,\n",
            " 'id': None,\n",
            " 'input': [ChatMessageUser(id='hgu8qVwF7ZkVkCmQkLFrjb', content='An astronomer observes that a planet rotates faster after a meteorite impact. Which is the most likely effect of this increase in rotation?', source=None, metadata=None, internal=None, role='user', tool_call_id=None)],\n",
            " 'metadata': {'labels': ['A', 'B', 'C', 'D']},\n",
            " 'sandbox': None,\n",
            " 'setup': None,\n",
            " 'target': 'C'}\n"
          ]
        }
      ],
      "source": [
        "test_dataset = hf_dataset(\n",
        "    path=\"allenai/ai2_arc\",\n",
        "    name=\"ARC-Challenge\",\n",
        "    sample_fields=arc_record_to_sample,\n",
        "    split=\"test\", \n",
        "    trust=True,\n",
        ")\n",
        "pprint(test_dataset.samples[0].__dict__)"
      ]
    },
    {
      "cell_type": "code",
      "execution_count": 56,
      "metadata": {},
      "outputs": [],
      "source": [
        "LIMIT = 250"
      ]
    },
    {
      "cell_type": "markdown",
      "metadata": {},
      "source": [
        "### Task"
      ]
    },
    {
      "cell_type": "code",
      "execution_count": 4,
      "metadata": {
        "colab": {
          "base_uri": "https://localhost:8080/",
          "height": 222,
          "referenced_widgets": [
            "d71af3505ed6444fbefeb1af987ccd67",
            "bca629812b3949f59b1018fc5b1879cf"
          ]
        },
        "id": "7T6XBF0_Yx5Z",
        "outputId": "8b00b4ae-0740-4bb9-958b-e635f87adcc3"
      },
      "outputs": [],
      "source": [
        "\"\"\"Model: GPT-4.1-nano\"\"\"\n",
        "@task\n",
        "def arc_eval_task(dataset):\n",
        "  return Task(dataset =  dataset,\n",
        "              # solver = [generate()],\n",
        "              # scorer = match(),\n",
        "              solver=multiple_choice(),\n",
        "              # solver=multiple_choice(multiple_correct=True),\n",
        "              scorer=choice(),\n",
        "              # scorer=partial_choice(),\n",
        "              )\n",
        "m = \"gpt-4.1-nano\"\n",
        "t = 'val'\n"
      ]
    },
    {
      "cell_type": "code",
      "execution_count": null,
      "metadata": {},
      "outputs": [],
      "source": [
        "m = \"gpt-4.1-nano\"\n",
        "t = 'val'\n",
        "log = eval(arc_eval_task(val_dataset), \n",
        "           model=f\"openai/{m}\", log_dir = f\"logs/{m}/{t}\", limit = LIMIT)"
      ]
    },
    {
      "cell_type": "code",
      "execution_count": 59,
      "metadata": {},
      "outputs": [],
      "source": [
        "# m = \"gpt-4.1-nano\"\n",
        "# t = 'test'\n",
        "# log = eval(arc_eval_task(t, test_dataset), \n",
        "#            model=f\"openai/{m}\", log_dir = f\"logs/{m}/{t}\")"
      ]
    },
    {
      "cell_type": "code",
      "execution_count": 60,
      "metadata": {},
      "outputs": [
        {
          "data": {
            "text/plain": [
              "'Open in terminal'"
            ]
          },
          "execution_count": 60,
          "metadata": {},
          "output_type": "execute_result"
        }
      ],
      "source": [
        "\"\"\"Open in terminal\"\"\"\n",
        "# !inspect view"
      ]
    },
    {
      "cell_type": "markdown",
      "metadata": {},
      "source": [
        "# Part B"
      ]
    },
    {
      "cell_type": "markdown",
      "metadata": {},
      "source": [
        "### Comparison: GPT-4.1-nano and GPT-4o-mini "
      ]
    },
    {
      "cell_type": "code",
      "execution_count": null,
      "metadata": {
        "id": "lqaFIMzynM5P"
      },
      "outputs": [],
      "source": [
        "\n",
        "t = \"val\"\n",
        "eval_set(\n",
        "   tasks=[arc_eval_task(val_dataset)],\n",
        "   model=[\"openai/gpt-4.1-nano\", \"openai/gpt-4o-mini\"],\n",
        "   log_dir=\"logs/comparison/val\" ,\n",
        "   # limit=LIMIT  ,\n",
        "   retry_attempts=15\n",
        ")"
      ]
    },
    {
      "cell_type": "code",
      "execution_count": null,
      "metadata": {},
      "outputs": [],
      "source": [
        "#running the same eval set obj for the same path only continues eval and doesnt eval again is done\n",
        "success, logs = eval_set(\n",
        "   tasks=[arc_eval_task(val_dataset)],\n",
        "   model=[\"openai/gpt-4.1-nano\", \"openai/gpt-4o-mini\"],\n",
        "   log_dir=\"logs/comparison/val\" ,\n",
        "   limit=LIMIT  ,\n",
        "   retry_attempts=15\n",
        ")"
      ]
    },
    {
      "cell_type": "markdown",
      "metadata": {},
      "source": [
        "#### Performance"
      ]
    },
    {
      "cell_type": "code",
      "execution_count": 63,
      "metadata": {},
      "outputs": [
        {
          "data": {
            "text/plain": [
              "[EvalLog(version=2, status='success', eval=EvalSpec(eval_id='AbR4PUiT3hUGM9jqzBFdEE', run_id='FH5MUmDUn2NyNeB3VZJCoJ', created='2025-07-17T14:00:18+05:30', task='arc_eval_task', task_id='7PhUXSvyxobBdyfgsKhjp7', task_version=0, task_file=None, task_registry_name='arc_eval_task', task_attribs={}, task_args={'dataset': 'allenai/ai2_arc'}, task_args_passed={'dataset': 'allenai/ai2_arc'}, solver=None, solver_args=None, tags=None, dataset=EvalDataset(name='allenai/ai2_arc', location='allenai/ai2_arc', samples=299, sample_ids=[1, 2, 3, 4, 5, 6, 7, 8, 9, 10, 11, 12, 13, 14, 15, 16, 17, 18, 19, 20, 21, 22, 23, 24, 25, 26, 27, 28, 29, 30, 31, 32, 33, 34, 35, 36, 37, 38, 39, 40, 41, 42, 43, 44, 45, 46, 47, 48, 49, 50, 51, 52, 53, 54, 55, 56, 57, 58, 59, 60, 61, 62, 63, 64, 65, 66, 67, 68, 69, 70, 71, 72, 73, 74, 75, 76, 77, 78, 79, 80, 81, 82, 83, 84, 85, 86, 87, 88, 89, 90, 91, 92, 93, 94, 95, 96, 97, 98, 99, 100, 101, 102, 103, 104, 105, 106, 107, 108, 109, 110, 111, 112, 113, 114, 115, 116, 117, 118, 119, 120, 121, 122, 123, 124, 125, 126, 127, 128, 129, 130, 131, 132, 133, 134, 135, 136, 137, 138, 139, 140, 141, 142, 143, 144, 145, 146, 147, 148, 149, 150, 151, 152, 153, 154, 155, 156, 157, 158, 159, 160, 161, 162, 163, 164, 165, 166, 167, 168, 169, 170, 171, 172, 173, 174, 175, 176, 177, 178, 179, 180, 181, 182, 183, 184, 185, 186, 187, 188, 189, 190, 191, 192, 193, 194, 195, 196, 197, 198, 199, 200, 201, 202, 203, 204, 205, 206, 207, 208, 209, 210, 211, 212, 213, 214, 215, 216, 217, 218, 219, 220, 221, 222, 223, 224, 225, 226, 227, 228, 229, 230, 231, 232, 233, 234, 235, 236, 237, 238, 239, 240, 241, 242, 243, 244, 245, 246, 247, 248, 249, 250, 251, 252, 253, 254, 255, 256, 257, 258, 259, 260, 261, 262, 263, 264, 265, 266, 267, 268, 269, 270, 271, 272, 273, 274, 275, 276, 277, 278, 279, 280, 281, 282, 283, 284, 285, 286, 287, 288, 289, 290, 291, 292, 293, 294, 295, 296, 297, 298, 299], shuffled=False), sandbox=None, model='openai/gpt-4o-mini', model_generate_config=GenerateConfig(max_retries=None, timeout=None, max_connections=None, system_message=None, max_tokens=None, top_p=None, temperature=None, stop_seqs=None, best_of=None, frequency_penalty=None, presence_penalty=None, logit_bias=None, seed=None, top_k=None, num_choices=None, logprobs=None, top_logprobs=None, parallel_tool_calls=None, internal_tools=None, max_tool_output=None, cache_prompt=None, reasoning_effort=None, reasoning_tokens=None, reasoning_summary=None, reasoning_history=None, response_schema=None, extra_body=None), model_base_url=None, model_args={}, model_roles=None, config=EvalConfig(limit=None, sample_id=None, epochs=1, epochs_reducer=['mean'], approval=None, fail_on_error=True, retry_on_error=None, message_limit=None, token_limit=None, time_limit=None, working_limit=None, max_samples=None, max_tasks=4, max_subprocesses=None, max_sandboxes=None, sandbox_cleanup=True, log_samples=True, log_realtime=True, log_images=True, log_buffer=None, log_shared=None, score_display=True), revision=EvalRevision(type='git', origin='https://github.com/su-mana-s/AlgoVerse.git', commit='5284336'), packages={'inspect_ai': '0.3.112'}, metadata=None, scorers=[EvalScorer(name='choice', options={}, metrics=[EvalMetricDefinition(name='inspect_ai/accuracy', options={}), EvalMetricDefinition(name='inspect_ai/stderr', options={})], metadata={})], metrics=None), plan=EvalPlan(name='plan', steps=[EvalPlanStep(solver='multiple_choice', params={})], finish=None, config=GenerateConfig(max_retries=None, timeout=None, max_connections=None, system_message=None, max_tokens=None, top_p=None, temperature=None, stop_seqs=None, best_of=None, frequency_penalty=None, presence_penalty=None, logit_bias=None, seed=None, top_k=None, num_choices=None, logprobs=None, top_logprobs=None, parallel_tool_calls=None, internal_tools=None, max_tool_output=None, cache_prompt=None, reasoning_effort=None, reasoning_tokens=None, reasoning_summary=None, reasoning_history=None, response_schema=None, extra_body=None)), results=EvalResults(total_samples=299, completed_samples=299, scores=[EvalScore(name='choice', scorer='choice', reducer=None, params={}, metrics={'accuracy': EvalMetric(name='accuracy', value=0.919732441471572, params={}, metadata=None), 'stderr': EvalMetric(name='stderr', value=0.01573956217212472, params={}, metadata=None)}, metadata=None)], metadata=None), stats=EvalStats(started_at='2025-07-17T14:00:18+05:30', completed_at='2025-07-17T14:04:21+05:30', model_usage={'openai/gpt-4o-mini': ModelUsage(input_tokens=31765, output_tokens=1152, total_tokens=32917, input_tokens_cache_write=None, input_tokens_cache_read=0, reasoning_tokens=0)}), error=None, samples=None, reductions=[EvalSampleReductions(scorer='choice', reducer=None, samples=[EvalSampleScore(value=1.0, answer='D', explanation='ANSWER: D', metadata=None, sample_id=1), EvalSampleScore(value=1.0, answer='C', explanation='ANSWER: C', metadata=None, sample_id=2), EvalSampleScore(value=1.0, answer='D', explanation='ANSWER: D', metadata=None, sample_id=3), EvalSampleScore(value=1.0, answer='A', explanation='ANSWER: A', metadata=None, sample_id=4), EvalSampleScore(value=1.0, answer='B', explanation='ANSWER: B', metadata=None, sample_id=5), EvalSampleScore(value=1.0, answer='C', explanation='ANSWER: C', metadata=None, sample_id=6), EvalSampleScore(value=1.0, answer='C', explanation='ANSWER: C', metadata=None, sample_id=7), EvalSampleScore(value=1.0, answer='C', explanation='ANSWER: C', metadata=None, sample_id=8), EvalSampleScore(value=1.0, answer='C', explanation='ANSWER: C', metadata=None, sample_id=9), EvalSampleScore(value=1.0, answer='D', explanation='ANSWER: D', metadata=None, sample_id=10), EvalSampleScore(value=0, answer='C', explanation='ANSWER: C', metadata=None, sample_id=11), EvalSampleScore(value=1.0, answer='D', explanation='ANSWER: D', metadata=None, sample_id=12), EvalSampleScore(value=1.0, answer='A', explanation='ANSWER: A', metadata=None, sample_id=13), EvalSampleScore(value=1.0, answer='B', explanation='ANSWER: B', metadata=None, sample_id=14), EvalSampleScore(value=1.0, answer='A', explanation='ANSWER: A', metadata=None, sample_id=15), EvalSampleScore(value=1.0, answer='C', explanation='ANSWER: C', metadata=None, sample_id=16), EvalSampleScore(value=1.0, answer='D', explanation='ANSWER: D', metadata=None, sample_id=17), EvalSampleScore(value=1.0, answer='B', explanation='ANSWER: B', metadata=None, sample_id=18), EvalSampleScore(value=1.0, answer='D', explanation='ANSWER: D', metadata=None, sample_id=19), EvalSampleScore(value=1.0, answer='A', explanation='ANSWER: A', metadata=None, sample_id=20), EvalSampleScore(value=1.0, answer='B', explanation='ANSWER: B', metadata=None, sample_id=21), EvalSampleScore(value=1.0, answer='B', explanation='ANSWER: B', metadata=None, sample_id=22), EvalSampleScore(value=1.0, answer='D', explanation='ANSWER: D', metadata=None, sample_id=23), EvalSampleScore(value=1.0, answer='B', explanation='ANSWER: B', metadata=None, sample_id=24), EvalSampleScore(value=1.0, answer='A', explanation='ANSWER: A', metadata=None, sample_id=25), EvalSampleScore(value=1.0, answer='A', explanation='ANSWER: A', metadata=None, sample_id=26), EvalSampleScore(value=1.0, answer='D', explanation='ANSWER: D', metadata=None, sample_id=27), EvalSampleScore(value=1.0, answer='B', explanation='ANSWER: B', metadata=None, sample_id=28), EvalSampleScore(value=1.0, answer='D', explanation='ANSWER: D', metadata=None, sample_id=29), EvalSampleScore(value=1.0, answer='A', explanation='ANSWER: A', metadata=None, sample_id=30), EvalSampleScore(value=1.0, answer='B', explanation='ANSWER: B', metadata=None, sample_id=31), EvalSampleScore(value=1.0, answer='B', explanation='ANSWER: B', metadata=None, sample_id=32), EvalSampleScore(value=1.0, answer='D', explanation='ANSWER: D', metadata=None, sample_id=33), EvalSampleScore(value=1.0, answer='D', explanation='ANSWER: D', metadata=None, sample_id=34), EvalSampleScore(value=1.0, answer='D', explanation='ANSWER: D', metadata=None, sample_id=35), EvalSampleScore(value=1.0, answer='A', explanation='ANSWER: A', metadata=None, sample_id=36), EvalSampleScore(value=1.0, answer='A', explanation='ANSWER: A', metadata=None, sample_id=37), EvalSampleScore(value=1.0, answer='B', explanation='ANSWER: B', metadata=None, sample_id=38), EvalSampleScore(value=1.0, answer='D', explanation='ANSWER: D', metadata=None, sample_id=39), EvalSampleScore(value=1.0, answer='D', explanation='ANSWER: D', metadata=None, sample_id=40), EvalSampleScore(value=1.0, answer='C', explanation='ANSWER: C', metadata=None, sample_id=41), EvalSampleScore(value=1.0, answer='D', explanation='ANSWER: D', metadata=None, sample_id=42), EvalSampleScore(value=1.0, answer='D', explanation='ANSWER: D', metadata=None, sample_id=43), EvalSampleScore(value=1.0, answer='B', explanation='ANSWER: B', metadata=None, sample_id=44), EvalSampleScore(value=1.0, answer='C', explanation='ANSWER: C', metadata=None, sample_id=45), EvalSampleScore(value=1.0, answer='B', explanation='ANSWER: B', metadata=None, sample_id=46), EvalSampleScore(value=1.0, answer='C', explanation='ANSWER: C', metadata=None, sample_id=47), EvalSampleScore(value=1.0, answer='D', explanation='ANSWER: D', metadata=None, sample_id=48), EvalSampleScore(value=1.0, answer='B', explanation='ANSWER: B', metadata=None, sample_id=49), EvalSampleScore(value=1.0, answer='A', explanation='ANSWER: A', metadata=None, sample_id=50), EvalSampleScore(value=1.0, answer='C', explanation='ANSWER: C', metadata=None, sample_id=51), EvalSampleScore(value=1.0, answer='C', explanation='ANSWER: C', metadata=None, sample_id=52), EvalSampleScore(value=1.0, answer='D', explanation='ANSWER: D', metadata=None, sample_id=53), EvalSampleScore(value=1.0, answer='A', explanation='ANSWER: A', metadata=None, sample_id=54), EvalSampleScore(value=1.0, answer='D', explanation='ANSWER: D', metadata=None, sample_id=55), EvalSampleScore(value=1.0, answer='D', explanation='ANSWER: D', metadata=None, sample_id=56), EvalSampleScore(value=1.0, answer='B', explanation='ANSWER: B', metadata=None, sample_id=57), EvalSampleScore(value=1.0, answer='B', explanation='ANSWER: B', metadata=None, sample_id=58), EvalSampleScore(value=1.0, answer='D', explanation='ANSWER: D', metadata=None, sample_id=59), EvalSampleScore(value=1.0, answer='A', explanation='ANSWER: A', metadata=None, sample_id=60), EvalSampleScore(value=1.0, answer='D', explanation='ANSWER: D', metadata=None, sample_id=61), EvalSampleScore(value=1.0, answer='A', explanation='ANSWER: A', metadata=None, sample_id=62), EvalSampleScore(value=1.0, answer='B', explanation='ANSWER: B', metadata=None, sample_id=63), EvalSampleScore(value=1.0, answer='D', explanation='ANSWER: D', metadata=None, sample_id=64), EvalSampleScore(value=1.0, answer='D', explanation='ANSWER: D', metadata=None, sample_id=65), EvalSampleScore(value=1.0, answer='B', explanation='ANSWER: B', metadata=None, sample_id=66), EvalSampleScore(value=1.0, answer='C', explanation='ANSWER: C', metadata=None, sample_id=67), EvalSampleScore(value=1.0, answer='C', explanation='ANSWER: C', metadata=None, sample_id=68), EvalSampleScore(value=1.0, answer='B', explanation='ANSWER: B', metadata=None, sample_id=69), EvalSampleScore(value=1.0, answer='A', explanation='ANSWER: A', metadata=None, sample_id=70), EvalSampleScore(value=1.0, answer='C', explanation='ANSWER: C', metadata=None, sample_id=71), EvalSampleScore(value=1.0, answer='B', explanation='ANSWER: B', metadata=None, sample_id=72), EvalSampleScore(value=1.0, answer='D', explanation='ANSWER: D', metadata=None, sample_id=73), EvalSampleScore(value=1.0, answer='C', explanation='ANSWER: C', metadata=None, sample_id=74), EvalSampleScore(value=0, answer='C', explanation='ANSWER: C', metadata=None, sample_id=75), EvalSampleScore(value=1.0, answer='B', explanation='ANSWER: B', metadata=None, sample_id=76), EvalSampleScore(value=1.0, answer='A', explanation='ANSWER: A', metadata=None, sample_id=77), EvalSampleScore(value=0, answer='A', explanation='ANSWER: A', metadata=None, sample_id=78), EvalSampleScore(value=1.0, answer='D', explanation='ANSWER: D', metadata=None, sample_id=79), EvalSampleScore(value=1.0, answer='C', explanation='ANSWER: C', metadata=None, sample_id=80), EvalSampleScore(value=1.0, answer='A', explanation='ANSWER: A', metadata=None, sample_id=81), EvalSampleScore(value=1.0, answer='D', explanation='ANSWER: D', metadata=None, sample_id=82), EvalSampleScore(value=1.0, answer='D', explanation='ANSWER: D', metadata=None, sample_id=83), EvalSampleScore(value=1.0, answer='A', explanation='ANSWER: A', metadata=None, sample_id=84), EvalSampleScore(value=1.0, answer='A', explanation='ANSWER: A', metadata=None, sample_id=85), EvalSampleScore(value=1.0, answer='A', explanation='ANSWER: A', metadata=None, sample_id=86), EvalSampleScore(value=1.0, answer='B', explanation='ANSWER: B', metadata=None, sample_id=87), EvalSampleScore(value=1.0, answer='C', explanation='ANSWER: C', metadata=None, sample_id=88), EvalSampleScore(value=1.0, answer='A', explanation='ANSWER: A', metadata=None, sample_id=89), EvalSampleScore(value=1.0, answer='B', explanation='ANSWER: B', metadata=None, sample_id=90), EvalSampleScore(value=0, answer='D', explanation='ANSWER: D', metadata=None, sample_id=91), EvalSampleScore(value=1.0, answer='D', explanation='ANSWER: D', metadata=None, sample_id=92), EvalSampleScore(value=1.0, answer='D', explanation='ANSWER: D', metadata=None, sample_id=93), EvalSampleScore(value=1.0, answer='B', explanation='ANSWER: B', metadata=None, sample_id=94), EvalSampleScore(value=1.0, answer='A', explanation='ANSWER: A', metadata=None, sample_id=95), EvalSampleScore(value=1.0, answer='B', explanation='ANSWER: B', metadata=None, sample_id=96), EvalSampleScore(value=1.0, answer='C', explanation='ANSWER: C', metadata=None, sample_id=97), EvalSampleScore(value=1.0, answer='A', explanation='ANSWER: A', metadata=None, sample_id=98), EvalSampleScore(value=1.0, answer='B', explanation='ANSWER: B', metadata=None, sample_id=99), EvalSampleScore(value=1.0, answer='A', explanation='ANSWER: A', metadata=None, sample_id=100), EvalSampleScore(value=0, answer='D', explanation='ANSWER: D', metadata=None, sample_id=101), EvalSampleScore(value=1.0, answer='C', explanation='ANSWER: C', metadata=None, sample_id=102), EvalSampleScore(value=1.0, answer='B', explanation='ANSWER: B', metadata=None, sample_id=103), EvalSampleScore(value=1.0, answer='C', explanation='ANSWER: C', metadata=None, sample_id=104), EvalSampleScore(value=1.0, answer='A', explanation='ANSWER: A', metadata=None, sample_id=105), EvalSampleScore(value=1.0, answer='C', explanation='ANSWER: C', metadata=None, sample_id=106), EvalSampleScore(value=1.0, answer='C', explanation='ANSWER: C', metadata=None, sample_id=107), EvalSampleScore(value=1.0, answer='C', explanation='ANSWER: C', metadata=None, sample_id=108), EvalSampleScore(value=1.0, answer='B', explanation='ANSWER: B', metadata=None, sample_id=109), EvalSampleScore(value=0, answer='B', explanation='ANSWER: B', metadata=None, sample_id=110), EvalSampleScore(value=1.0, answer='C', explanation='ANSWER: C', metadata=None, sample_id=111), EvalSampleScore(value=0, answer='D', explanation='ANSWER: D', metadata=None, sample_id=112), EvalSampleScore(value=1.0, answer='D', explanation='ANSWER: D', metadata=None, sample_id=113), EvalSampleScore(value=0, answer='B', explanation='ANSWER: B', metadata=None, sample_id=114), EvalSampleScore(value=1.0, answer='B', explanation='ANSWER: B', metadata=None, sample_id=115), EvalSampleScore(value=0, answer='D', explanation='ANSWER: D', metadata=None, sample_id=116), EvalSampleScore(value=1.0, answer='D', explanation='ANSWER: D', metadata=None, sample_id=117), EvalSampleScore(value=1.0, answer='B', explanation='ANSWER: B', metadata=None, sample_id=118), EvalSampleScore(value=0, answer='C', explanation='ANSWER: C', metadata=None, sample_id=119), EvalSampleScore(value=1.0, answer='D', explanation='ANSWER: D', metadata=None, sample_id=120), EvalSampleScore(value=1.0, answer='D', explanation='ANSWER: D', metadata=None, sample_id=121), EvalSampleScore(value=1.0, answer='B', explanation='ANSWER: B', metadata=None, sample_id=122), EvalSampleScore(value=1.0, answer='D', explanation='ANSWER: D', metadata=None, sample_id=123), EvalSampleScore(value=1.0, answer='D', explanation='ANSWER: D', metadata=None, sample_id=124), EvalSampleScore(value=1.0, answer='D', explanation='ANSWER: D', metadata=None, sample_id=125), EvalSampleScore(value=1.0, answer='A', explanation='ANSWER: A', metadata=None, sample_id=126), EvalSampleScore(value=1.0, answer='D', explanation='ANSWER: D', metadata=None, sample_id=127), EvalSampleScore(value=1.0, answer='A', explanation='ANSWER: A', metadata=None, sample_id=128), EvalSampleScore(value=0, answer='A', explanation='ANSWER: A', metadata=None, sample_id=129), EvalSampleScore(value=1.0, answer='A', explanation='ANSWER: A', metadata=None, sample_id=130), EvalSampleScore(value=1.0, answer='B', explanation='ANSWER: B', metadata=None, sample_id=131), EvalSampleScore(value=1.0, answer='C', explanation='ANSWER: C', metadata=None, sample_id=132), EvalSampleScore(value=1.0, answer='D', explanation='ANSWER: D', metadata=None, sample_id=133), EvalSampleScore(value=1.0, answer='A', explanation='ANSWER: A', metadata=None, sample_id=134), EvalSampleScore(value=1.0, answer='C', explanation='ANSWER: C', metadata=None, sample_id=135), EvalSampleScore(value=1.0, answer='D', explanation='ANSWER: D', metadata=None, sample_id=136), EvalSampleScore(value=1.0, answer='C', explanation='ANSWER: C', metadata=None, sample_id=137), EvalSampleScore(value=1.0, answer='A', explanation='ANSWER: A', metadata=None, sample_id=138), EvalSampleScore(value=1.0, answer='B', explanation='ANSWER: B', metadata=None, sample_id=139), EvalSampleScore(value=1.0, answer='C', explanation='ANSWER: C', metadata=None, sample_id=140), EvalSampleScore(value=1.0, answer='A', explanation='ANSWER: A', metadata=None, sample_id=141), EvalSampleScore(value=1.0, answer='D', explanation='ANSWER: D', metadata=None, sample_id=142), EvalSampleScore(value=1.0, answer='A', explanation='ANSWER: A', metadata=None, sample_id=143), EvalSampleScore(value=1.0, answer='D', explanation='ANSWER: D', metadata=None, sample_id=144), EvalSampleScore(value=1.0, answer='B', explanation='ANSWER: B', metadata=None, sample_id=145), EvalSampleScore(value=1.0, answer='C', explanation='ANSWER: C', metadata=None, sample_id=146), EvalSampleScore(value=1.0, answer='A', explanation='ANSWER: A', metadata=None, sample_id=147), EvalSampleScore(value=1.0, answer='B', explanation='ANSWER: B', metadata=None, sample_id=148), EvalSampleScore(value=1.0, answer='B', explanation='ANSWER: B', metadata=None, sample_id=149), EvalSampleScore(value=1.0, answer='B', explanation='ANSWER: B', metadata=None, sample_id=150), EvalSampleScore(value=1.0, answer='D', explanation='ANSWER: D', metadata=None, sample_id=151), EvalSampleScore(value=1.0, answer='D', explanation='ANSWER: D', metadata=None, sample_id=152), EvalSampleScore(value=1.0, answer='A', explanation='ANSWER: A', metadata=None, sample_id=153), EvalSampleScore(value=1.0, answer='A', explanation='ANSWER: A', metadata=None, sample_id=154), EvalSampleScore(value=1.0, answer='C', explanation='ANSWER: C', metadata=None, sample_id=155), EvalSampleScore(value=1.0, answer='C', explanation='ANSWER: C', metadata=None, sample_id=156), EvalSampleScore(value=1.0, answer='A', explanation='ANSWER: A', metadata=None, sample_id=157), EvalSampleScore(value=1.0, answer='C', explanation='ANSWER: C', metadata=None, sample_id=158), EvalSampleScore(value=0, answer='A', explanation='ANSWER: A', metadata=None, sample_id=159), EvalSampleScore(value=1.0, answer='D', explanation='ANSWER: D', metadata=None, sample_id=160), EvalSampleScore(value=1.0, answer='A', explanation='ANSWER: A', metadata=None, sample_id=161), EvalSampleScore(value=1.0, answer='A', explanation='ANSWER: A', metadata=None, sample_id=162), EvalSampleScore(value=1.0, answer='B', explanation='ANSWER: B', metadata=None, sample_id=163), EvalSampleScore(value=1.0, answer='C', explanation='ANSWER: C', metadata=None, sample_id=164), EvalSampleScore(value=1.0, answer='C', explanation='ANSWER: C', metadata=None, sample_id=165), EvalSampleScore(value=1.0, answer='C', explanation='ANSWER: C', metadata=None, sample_id=166), EvalSampleScore(value=1.0, answer='B', explanation='ANSWER: B', metadata=None, sample_id=167), EvalSampleScore(value=1.0, answer='A', explanation='ANSWER: A', metadata=None, sample_id=168), EvalSampleScore(value=0, answer='C', explanation='ANSWER: C', metadata=None, sample_id=169), EvalSampleScore(value=1.0, answer='B', explanation='ANSWER: B', metadata=None, sample_id=170), EvalSampleScore(value=1.0, answer='D', explanation='ANSWER: D', metadata=None, sample_id=171), EvalSampleScore(value=1.0, answer='D', explanation='ANSWER: D', metadata=None, sample_id=172), EvalSampleScore(value=1.0, answer='B', explanation='ANSWER: B', metadata=None, sample_id=173), EvalSampleScore(value=1.0, answer='B', explanation='ANSWER: B', metadata=None, sample_id=174), EvalSampleScore(value=1.0, answer='C', explanation='ANSWER: C', metadata=None, sample_id=175), EvalSampleScore(value=1.0, answer='B', explanation='ANSWER: B', metadata=None, sample_id=176), EvalSampleScore(value=1.0, answer='C', explanation='ANSWER: C', metadata=None, sample_id=177), EvalSampleScore(value=1.0, answer='A', explanation='ANSWER: A', metadata=None, sample_id=178), EvalSampleScore(value=1.0, answer='A', explanation='ANSWER: A', metadata=None, sample_id=179), EvalSampleScore(value=1.0, answer='D', explanation='ANSWER: D', metadata=None, sample_id=180), EvalSampleScore(value=1.0, answer='C', explanation='ANSWER: C', metadata=None, sample_id=181), EvalSampleScore(value=1.0, answer='B', explanation='ANSWER: B', metadata=None, sample_id=182), EvalSampleScore(value=1.0, answer='A', explanation='ANSWER: A', metadata=None, sample_id=183), EvalSampleScore(value=1.0, answer='B', explanation='ANSWER: B', metadata=None, sample_id=184), EvalSampleScore(value=1.0, answer='D', explanation='ANSWER: D', metadata=None, sample_id=185), EvalSampleScore(value=1.0, answer='C', explanation='ANSWER: C', metadata=None, sample_id=186), EvalSampleScore(value=1.0, answer='B', explanation='ANSWER: B', metadata=None, sample_id=187), EvalSampleScore(value=1.0, answer='D', explanation='ANSWER: D', metadata=None, sample_id=188), EvalSampleScore(value=0, answer='C', explanation='ANSWER: C', metadata=None, sample_id=189), EvalSampleScore(value=1.0, answer='C', explanation='ANSWER: C', metadata=None, sample_id=190), EvalSampleScore(value=1.0, answer='B', explanation='ANSWER: B', metadata=None, sample_id=191), EvalSampleScore(value=1.0, answer='C', explanation='ANSWER: C', metadata=None, sample_id=192), EvalSampleScore(value=1.0, answer='D', explanation='ANSWER: D', metadata=None, sample_id=193), EvalSampleScore(value=1.0, answer='C', explanation='ANSWER: C', metadata=None, sample_id=194), EvalSampleScore(value=1.0, answer='C', explanation='ANSWER: C', metadata=None, sample_id=195), EvalSampleScore(value=1.0, answer='C', explanation='ANSWER: C', metadata=None, sample_id=196), EvalSampleScore(value=1.0, answer='C', explanation='ANSWER: C', metadata=None, sample_id=197), EvalSampleScore(value=1.0, answer='A', explanation='ANSWER: A', metadata=None, sample_id=198), EvalSampleScore(value=0, answer='A', explanation='ANSWER: A', metadata=None, sample_id=199), EvalSampleScore(value=1.0, answer='A', explanation='ANSWER: A', metadata=None, sample_id=200), EvalSampleScore(value=1.0, answer='C', explanation='ANSWER: C', metadata=None, sample_id=201), EvalSampleScore(value=1.0, answer='C', explanation='ANSWER: C', metadata=None, sample_id=202), EvalSampleScore(value=1.0, answer='B', explanation='ANSWER: B', metadata=None, sample_id=203), EvalSampleScore(value=1.0, answer='B', explanation='ANSWER: B', metadata=None, sample_id=204), EvalSampleScore(value=1.0, answer='D', explanation='ANSWER: D', metadata=None, sample_id=205), EvalSampleScore(value=1.0, answer='D', explanation='ANSWER: D', metadata=None, sample_id=206), EvalSampleScore(value=1.0, answer='C', explanation='ANSWER: C', metadata=None, sample_id=207), EvalSampleScore(value=1.0, answer='B', explanation='ANSWER: B', metadata=None, sample_id=208), EvalSampleScore(value=1.0, answer='C', explanation='ANSWER: C', metadata=None, sample_id=209), EvalSampleScore(value=1.0, answer='B', explanation='ANSWER: B', metadata=None, sample_id=210), EvalSampleScore(value=1.0, answer='E', explanation='ANSWER: E', metadata=None, sample_id=211), EvalSampleScore(value=1.0, answer='B', explanation='ANSWER: B', metadata=None, sample_id=212), EvalSampleScore(value=0, answer='A', explanation='ANSWER: A', metadata=None, sample_id=213), EvalSampleScore(value=1.0, answer='A', explanation='ANSWER: A', metadata=None, sample_id=214), EvalSampleScore(value=1.0, answer='C', explanation='ANSWER: C', metadata=None, sample_id=215), EvalSampleScore(value=1.0, answer='A', explanation='ANSWER: A', metadata=None, sample_id=216), EvalSampleScore(value=0, answer='A', explanation='ANSWER: A', metadata=None, sample_id=217), EvalSampleScore(value=1.0, answer='B', explanation='ANSWER: B', metadata=None, sample_id=218), EvalSampleScore(value=1.0, answer='A', explanation='ANSWER: A', metadata=None, sample_id=219), EvalSampleScore(value=1.0, answer='D', explanation='ANSWER: D', metadata=None, sample_id=220), EvalSampleScore(value=1.0, answer='D', explanation='ANSWER: D', metadata=None, sample_id=221), EvalSampleScore(value=1.0, answer='C', explanation='ANSWER: C', metadata=None, sample_id=222), EvalSampleScore(value=1.0, answer='D', explanation='ANSWER: D', metadata=None, sample_id=223), EvalSampleScore(value=1.0, answer='D', explanation='ANSWER: D', metadata=None, sample_id=224), EvalSampleScore(value=1.0, answer='A', explanation='ANSWER: A', metadata=None, sample_id=225), EvalSampleScore(value=1.0, answer='B', explanation='ANSWER: B', metadata=None, sample_id=226), EvalSampleScore(value=1.0, answer='C', explanation='ANSWER: C', metadata=None, sample_id=227), EvalSampleScore(value=1.0, answer='D', explanation='ANSWER: D', metadata=None, sample_id=228), EvalSampleScore(value=1.0, answer='A', explanation='ANSWER: A', metadata=None, sample_id=229), EvalSampleScore(value=1.0, answer='B', explanation='ANSWER: B', metadata=None, sample_id=230), EvalSampleScore(value=1.0, answer='B', explanation='ANSWER: B', metadata=None, sample_id=231), EvalSampleScore(value=1.0, answer='B', explanation='ANSWER: B', metadata=None, sample_id=232), EvalSampleScore(value=1.0, answer='A', explanation='ANSWER: A', metadata=None, sample_id=233), EvalSampleScore(value=0, answer='C', explanation='ANSWER: C', metadata=None, sample_id=234), EvalSampleScore(value=1.0, answer='D', explanation='ANSWER: D', metadata=None, sample_id=235), EvalSampleScore(value=1.0, answer='C', explanation='ANSWER: C', metadata=None, sample_id=236), EvalSampleScore(value=1.0, answer='C', explanation='ANSWER: C', metadata=None, sample_id=237), EvalSampleScore(value=1.0, answer='B', explanation='ANSWER: B', metadata=None, sample_id=238), EvalSampleScore(value=0, answer='A', explanation='ANSWER: A', metadata=None, sample_id=239), EvalSampleScore(value=1.0, answer='C', explanation='ANSWER: C', metadata=None, sample_id=240), EvalSampleScore(value=1.0, answer='A', explanation='ANSWER: A', metadata=None, sample_id=241), EvalSampleScore(value=1.0, answer='B', explanation='ANSWER: B', metadata=None, sample_id=242), EvalSampleScore(value=0, answer='B', explanation='ANSWER: B', metadata=None, sample_id=243), EvalSampleScore(value=1.0, answer='A', explanation='ANSWER: A', metadata=None, sample_id=244), EvalSampleScore(value=1.0, answer='D', explanation='ANSWER: D', metadata=None, sample_id=245), EvalSampleScore(value=1.0, answer='A', explanation='ANSWER: A', metadata=None, sample_id=246), EvalSampleScore(value=1.0, answer='A', explanation='ANSWER: A', metadata=None, sample_id=247), EvalSampleScore(value=1.0, answer='B', explanation='ANSWER: B', metadata=None, sample_id=248), EvalSampleScore(value=1.0, answer='D', explanation='ANSWER: D', metadata=None, sample_id=249), EvalSampleScore(value=1.0, answer='B', explanation='ANSWER: B', metadata=None, sample_id=250), EvalSampleScore(value=1.0, answer='C', explanation='ANSWER: C', metadata=None, sample_id=251), EvalSampleScore(value=1.0, answer='D', explanation='ANSWER: D', metadata=None, sample_id=252), EvalSampleScore(value=1.0, answer='A', explanation='ANSWER: A', metadata=None, sample_id=253), EvalSampleScore(value=1.0, answer='A', explanation='ANSWER: A', metadata=None, sample_id=254), EvalSampleScore(value=1.0, answer='D', explanation='ANSWER: D', metadata=None, sample_id=255), EvalSampleScore(value=1.0, answer='C', explanation='ANSWER: C', metadata=None, sample_id=256), EvalSampleScore(value=1.0, answer='D', explanation='ANSWER: D', metadata=None, sample_id=257), EvalSampleScore(value=1.0, answer='D', explanation='ANSWER: D', metadata=None, sample_id=258), EvalSampleScore(value=0, answer='A', explanation='ANSWER: A', metadata=None, sample_id=259), EvalSampleScore(value=0, answer='D', explanation='ANSWER: D', metadata=None, sample_id=260), EvalSampleScore(value=1.0, answer='A', explanation='ANSWER: A', metadata=None, sample_id=261), EvalSampleScore(value=1.0, answer='B', explanation='ANSWER: B', metadata=None, sample_id=262), EvalSampleScore(value=1.0, answer='C', explanation='ANSWER: C', metadata=None, sample_id=263), EvalSampleScore(value=1.0, answer='C', explanation='ANSWER: C', metadata=None, sample_id=264), EvalSampleScore(value=1.0, answer='A', explanation='ANSWER: A', metadata=None, sample_id=265), EvalSampleScore(value=1.0, answer='A', explanation='ANSWER: A', metadata=None, sample_id=266), EvalSampleScore(value=1.0, answer='C', explanation='ANSWER: C', metadata=None, sample_id=267), EvalSampleScore(value=1.0, answer='B', explanation='ANSWER: B', metadata=None, sample_id=268), EvalSampleScore(value=1.0, answer='D', explanation='ANSWER: D', metadata=None, sample_id=269), EvalSampleScore(value=1.0, answer='D', explanation='ANSWER: D', metadata=None, sample_id=270), EvalSampleScore(value=1.0, answer='A', explanation='ANSWER: A', metadata=None, sample_id=271), EvalSampleScore(value=1.0, answer='B', explanation='ANSWER: B', metadata=None, sample_id=272), EvalSampleScore(value=1.0, answer='B', explanation='ANSWER: B', metadata=None, sample_id=273), EvalSampleScore(value=1.0, answer='B', explanation='ANSWER: B', metadata=None, sample_id=274), EvalSampleScore(value=1.0, answer='D', explanation='ANSWER: D', metadata=None, sample_id=275), EvalSampleScore(value=1.0, answer='A', explanation='ANSWER: A', metadata=None, sample_id=276), EvalSampleScore(value=0, answer='B', explanation='ANSWER: B', metadata=None, sample_id=277), EvalSampleScore(value=1.0, answer='C', explanation='ANSWER: C', metadata=None, sample_id=278), EvalSampleScore(value=1.0, answer='C', explanation='ANSWER: C', metadata=None, sample_id=279), EvalSampleScore(value=1.0, answer='B', explanation='ANSWER: B', metadata=None, sample_id=280), EvalSampleScore(value=1.0, answer='D', explanation='ANSWER: D', metadata=None, sample_id=281), EvalSampleScore(value=1.0, answer='D', explanation='To find the distance from the Sun to Earth in light-seconds, we first need to convert the distance from kilometers to meters:\\n\\n1.5 x 10^8 km = 1.5 x 10^8 km * 1000 m/km = 1.5 x 10^11 m.\\n\\nNext, to find the time it takes for light to travel this distance, we use the speed of light:\\n\\nTime (seconds) = Distance (meters) / Speed (meters per second).\\n\\nSo the time it takes for light to travel from the Sun to Earth is:\\n\\nTime = (1.5 x 10^11 m) / (3.0 x 10^8 m/sec) = 0.5 x 10^3 seconds = 500 seconds.\\n\\nSince 1 light-second is the distance light travels in one second, we have:\\n\\nDistance in light-seconds = 500 light-seconds.\\n\\nNow, we can compare this to the options given:\\n\\nA) 2.0 light-seconds\\nB) 0.5 light-seconds\\nC) 2.0 x 10^-3 light-seconds\\nD) 5.0 x 10^2 light-seconds\\n\\nThe correct answer is:\\n\\nANSWER: D', metadata=None, sample_id=282), EvalSampleScore(value=1.0, answer='C', explanation='ANSWER: C', metadata=None, sample_id=283), EvalSampleScore(value=1.0, answer='B', explanation='ANSWER: B', metadata=None, sample_id=284), EvalSampleScore(value=1.0, answer='C', explanation='ANSWER: C', metadata=None, sample_id=285), EvalSampleScore(value=1.0, answer='C', explanation='ANSWER: C', metadata=None, sample_id=286), EvalSampleScore(value=1.0, answer='C', explanation='ANSWER: C', metadata=None, sample_id=287), EvalSampleScore(value=1.0, answer='C', explanation='ANSWER: C', metadata=None, sample_id=288), EvalSampleScore(value=1.0, answer='B', explanation='ANSWER: B', metadata=None, sample_id=289), EvalSampleScore(value=1.0, answer='C', explanation='ANSWER: C', metadata=None, sample_id=290), EvalSampleScore(value=1.0, answer='D', explanation='ANSWER: D', metadata=None, sample_id=291), EvalSampleScore(value=1.0, answer='C', explanation='ANSWER: C', metadata=None, sample_id=292), EvalSampleScore(value=1.0, answer='D', explanation='ANSWER: D', metadata=None, sample_id=293), EvalSampleScore(value=0, answer='B', explanation='ANSWER: B', metadata=None, sample_id=294), EvalSampleScore(value=1.0, answer='C', explanation='ANSWER: C', metadata=None, sample_id=295), EvalSampleScore(value=1.0, answer='B', explanation='ANSWER: B', metadata=None, sample_id=296), EvalSampleScore(value=1.0, answer='C', explanation='ANSWER: C', metadata=None, sample_id=297), EvalSampleScore(value=1.0, answer='D', explanation='ANSWER: D', metadata=None, sample_id=298), EvalSampleScore(value=1.0, answer='D', explanation='ANSWER: D', metadata=None, sample_id=299)])], location='file://c:/Users/18055/Downloads/AlgoVerse/BenchmarkARC/logs/comparison/val/2025-07-17T14-00-18+05-30_arc-eval-task_7PhUXSvyxobBdyfgsKhjp7.eval'),\n",
              " EvalLog(version=2, status='success', eval=EvalSpec(eval_id='PcuMqsFFNs2T4KSbceDZeh', run_id='FH5MUmDUn2NyNeB3VZJCoJ', created='2025-07-17T14:00:18+05:30', task='arc_eval_task', task_id='Xs5Wk2S9RvyvuFMN2935zA', task_version=0, task_file=None, task_registry_name='arc_eval_task', task_attribs={}, task_args={'dataset': 'allenai/ai2_arc'}, task_args_passed={'dataset': 'allenai/ai2_arc'}, solver=None, solver_args=None, tags=None, dataset=EvalDataset(name='allenai/ai2_arc', location='allenai/ai2_arc', samples=299, sample_ids=[1, 2, 3, 4, 5, 6, 7, 8, 9, 10, 11, 12, 13, 14, 15, 16, 17, 18, 19, 20, 21, 22, 23, 24, 25, 26, 27, 28, 29, 30, 31, 32, 33, 34, 35, 36, 37, 38, 39, 40, 41, 42, 43, 44, 45, 46, 47, 48, 49, 50, 51, 52, 53, 54, 55, 56, 57, 58, 59, 60, 61, 62, 63, 64, 65, 66, 67, 68, 69, 70, 71, 72, 73, 74, 75, 76, 77, 78, 79, 80, 81, 82, 83, 84, 85, 86, 87, 88, 89, 90, 91, 92, 93, 94, 95, 96, 97, 98, 99, 100, 101, 102, 103, 104, 105, 106, 107, 108, 109, 110, 111, 112, 113, 114, 115, 116, 117, 118, 119, 120, 121, 122, 123, 124, 125, 126, 127, 128, 129, 130, 131, 132, 133, 134, 135, 136, 137, 138, 139, 140, 141, 142, 143, 144, 145, 146, 147, 148, 149, 150, 151, 152, 153, 154, 155, 156, 157, 158, 159, 160, 161, 162, 163, 164, 165, 166, 167, 168, 169, 170, 171, 172, 173, 174, 175, 176, 177, 178, 179, 180, 181, 182, 183, 184, 185, 186, 187, 188, 189, 190, 191, 192, 193, 194, 195, 196, 197, 198, 199, 200, 201, 202, 203, 204, 205, 206, 207, 208, 209, 210, 211, 212, 213, 214, 215, 216, 217, 218, 219, 220, 221, 222, 223, 224, 225, 226, 227, 228, 229, 230, 231, 232, 233, 234, 235, 236, 237, 238, 239, 240, 241, 242, 243, 244, 245, 246, 247, 248, 249, 250, 251, 252, 253, 254, 255, 256, 257, 258, 259, 260, 261, 262, 263, 264, 265, 266, 267, 268, 269, 270, 271, 272, 273, 274, 275, 276, 277, 278, 279, 280, 281, 282, 283, 284, 285, 286, 287, 288, 289, 290, 291, 292, 293, 294, 295, 296, 297, 298, 299], shuffled=False), sandbox=None, model='openai/gpt-4.1-nano', model_generate_config=GenerateConfig(max_retries=None, timeout=None, max_connections=None, system_message=None, max_tokens=None, top_p=None, temperature=None, stop_seqs=None, best_of=None, frequency_penalty=None, presence_penalty=None, logit_bias=None, seed=None, top_k=None, num_choices=None, logprobs=None, top_logprobs=None, parallel_tool_calls=None, internal_tools=None, max_tool_output=None, cache_prompt=None, reasoning_effort=None, reasoning_tokens=None, reasoning_summary=None, reasoning_history=None, response_schema=None, extra_body=None), model_base_url=None, model_args={}, model_roles=None, config=EvalConfig(limit=None, sample_id=None, epochs=1, epochs_reducer=['mean'], approval=None, fail_on_error=True, retry_on_error=None, message_limit=None, token_limit=None, time_limit=None, working_limit=None, max_samples=None, max_tasks=4, max_subprocesses=None, max_sandboxes=None, sandbox_cleanup=True, log_samples=True, log_realtime=True, log_images=True, log_buffer=None, log_shared=None, score_display=True), revision=EvalRevision(type='git', origin='https://github.com/su-mana-s/AlgoVerse.git', commit='5284336'), packages={'inspect_ai': '0.3.112'}, metadata=None, scorers=[EvalScorer(name='choice', options={}, metrics=[EvalMetricDefinition(name='inspect_ai/accuracy', options={}), EvalMetricDefinition(name='inspect_ai/stderr', options={})], metadata={})], metrics=None), plan=EvalPlan(name='plan', steps=[EvalPlanStep(solver='multiple_choice', params={})], finish=None, config=GenerateConfig(max_retries=None, timeout=None, max_connections=None, system_message=None, max_tokens=None, top_p=None, temperature=None, stop_seqs=None, best_of=None, frequency_penalty=None, presence_penalty=None, logit_bias=None, seed=None, top_k=None, num_choices=None, logprobs=None, top_logprobs=None, parallel_tool_calls=None, internal_tools=None, max_tool_output=None, cache_prompt=None, reasoning_effort=None, reasoning_tokens=None, reasoning_summary=None, reasoning_history=None, response_schema=None, extra_body=None)), results=EvalResults(total_samples=299, completed_samples=299, scores=[EvalScore(name='choice', scorer='choice', reducer=None, params={}, metrics={'accuracy': EvalMetric(name='accuracy', value=0.8896321070234113, params={}, metadata=None), 'stderr': EvalMetric(name='stderr', value=0.018151748596274095, params={}, metadata=None)}, metadata=None)], metadata=None), stats=EvalStats(started_at='2025-07-17T14:00:18+05:30', completed_at='2025-07-17T14:04:19+05:30', model_usage={'openai/gpt-4.1-nano': ModelUsage(input_tokens=31765, output_tokens=1170, total_tokens=32935, input_tokens_cache_write=None, input_tokens_cache_read=0, reasoning_tokens=0)}), error=None, samples=None, reductions=[EvalSampleReductions(scorer='choice', reducer=None, samples=[EvalSampleScore(value=1.0, answer='D', explanation='ANSWER: D', metadata=None, sample_id=1), EvalSampleScore(value=1.0, answer='C', explanation='ANSWER: C', metadata=None, sample_id=2), EvalSampleScore(value=1.0, answer='D', explanation='ANSWER: D', metadata=None, sample_id=3), EvalSampleScore(value=1.0, answer='A', explanation='ANSWER: A', metadata=None, sample_id=4), EvalSampleScore(value=1.0, answer='B', explanation='ANSWER: B', metadata=None, sample_id=5), EvalSampleScore(value=1.0, answer='C', explanation='ANSWER: C', metadata=None, sample_id=6), EvalSampleScore(value=1.0, answer='C', explanation='ANSWER: C', metadata=None, sample_id=7), EvalSampleScore(value=1.0, answer='C', explanation='ANSWER: C', metadata=None, sample_id=8), EvalSampleScore(value=1.0, answer='C', explanation='ANSWER: C', metadata=None, sample_id=9), EvalSampleScore(value=1.0, answer='D', explanation='ANSWER: D', metadata=None, sample_id=10), EvalSampleScore(value=0, answer='C', explanation='ANSWER: C', metadata=None, sample_id=11), EvalSampleScore(value=1.0, answer='D', explanation='ANSWER: D', metadata=None, sample_id=12), EvalSampleScore(value=1.0, answer='A', explanation='ANSWER: A', metadata=None, sample_id=13), EvalSampleScore(value=1.0, answer='B', explanation='ANSWER: B', metadata=None, sample_id=14), EvalSampleScore(value=1.0, answer='A', explanation='ANSWER: A', metadata=None, sample_id=15), EvalSampleScore(value=1.0, answer='C', explanation='ANSWER: C', metadata=None, sample_id=16), EvalSampleScore(value=0, answer='B', explanation='ANSWER: B', metadata=None, sample_id=17), EvalSampleScore(value=1.0, answer='B', explanation='ANSWER: B', metadata=None, sample_id=18), EvalSampleScore(value=1.0, answer='D', explanation='ANSWER: D', metadata=None, sample_id=19), EvalSampleScore(value=1.0, answer='A', explanation='ANSWER: A', metadata=None, sample_id=20), EvalSampleScore(value=1.0, answer='B', explanation='ANSWER: B', metadata=None, sample_id=21), EvalSampleScore(value=1.0, answer='B', explanation='ANSWER: B', metadata=None, sample_id=22), EvalSampleScore(value=1.0, answer='D', explanation='ANSWER: D', metadata=None, sample_id=23), EvalSampleScore(value=1.0, answer='B', explanation='ANSWER: B', metadata=None, sample_id=24), EvalSampleScore(value=1.0, answer='A', explanation='ANSWER: A', metadata=None, sample_id=25), EvalSampleScore(value=1.0, answer='A', explanation='ANSWER: A', metadata=None, sample_id=26), EvalSampleScore(value=1.0, answer='D', explanation='ANSWER: D', metadata=None, sample_id=27), EvalSampleScore(value=1.0, answer='B', explanation='ANSWER: B', metadata=None, sample_id=28), EvalSampleScore(value=1.0, answer='D', explanation='ANSWER: D', metadata=None, sample_id=29), EvalSampleScore(value=1.0, answer='A', explanation='ANSWER: A', metadata=None, sample_id=30), EvalSampleScore(value=1.0, answer='B', explanation='ANSWER: B', metadata=None, sample_id=31), EvalSampleScore(value=1.0, answer='B', explanation='ANSWER: B', metadata=None, sample_id=32), EvalSampleScore(value=1.0, answer='D', explanation='ANSWER: D', metadata=None, sample_id=33), EvalSampleScore(value=1.0, answer='D', explanation='ANSWER: D', metadata=None, sample_id=34), EvalSampleScore(value=1.0, answer='D', explanation='ANSWER: D', metadata=None, sample_id=35), EvalSampleScore(value=1.0, answer='A', explanation='ANSWER: A', metadata=None, sample_id=36), EvalSampleScore(value=1.0, answer='A', explanation='ANSWER: A', metadata=None, sample_id=37), EvalSampleScore(value=1.0, answer='B', explanation='ANSWER: B', metadata=None, sample_id=38), EvalSampleScore(value=1.0, answer='D', explanation='ANSWER: D', metadata=None, sample_id=39), EvalSampleScore(value=1.0, answer='D', explanation='ANSWER: D', metadata=None, sample_id=40), EvalSampleScore(value=1.0, answer='C', explanation='ANSWER: C', metadata=None, sample_id=41), EvalSampleScore(value=1.0, answer='D', explanation='ANSWER: D', metadata=None, sample_id=42), EvalSampleScore(value=1.0, answer='D', explanation='ANSWER: D', metadata=None, sample_id=43), EvalSampleScore(value=1.0, answer='B', explanation='ANSWER: B', metadata=None, sample_id=44), EvalSampleScore(value=1.0, answer='C', explanation='ANSWER: C', metadata=None, sample_id=45), EvalSampleScore(value=1.0, answer='B', explanation='ANSWER: B', metadata=None, sample_id=46), EvalSampleScore(value=1.0, answer='C', explanation='ANSWER: C', metadata=None, sample_id=47), EvalSampleScore(value=1.0, answer='D', explanation='ANSWER: D', metadata=None, sample_id=48), EvalSampleScore(value=0, answer='D', explanation='ANSWER: D', metadata=None, sample_id=49), EvalSampleScore(value=1.0, answer='A', explanation='ANSWER: A', metadata=None, sample_id=50), EvalSampleScore(value=1.0, answer='C', explanation='ANSWER: C', metadata=None, sample_id=51), EvalSampleScore(value=1.0, answer='C', explanation='ANSWER: C', metadata=None, sample_id=52), EvalSampleScore(value=1.0, answer='D', explanation='ANSWER: D', metadata=None, sample_id=53), EvalSampleScore(value=1.0, answer='A', explanation='ANSWER: A', metadata=None, sample_id=54), EvalSampleScore(value=1.0, answer='D', explanation='ANSWER: D', metadata=None, sample_id=55), EvalSampleScore(value=0, answer='C', explanation='ANSWER: C', metadata=None, sample_id=56), EvalSampleScore(value=1.0, answer='B', explanation='ANSWER: B', metadata=None, sample_id=57), EvalSampleScore(value=1.0, answer='B', explanation='ANSWER: B', metadata=None, sample_id=58), EvalSampleScore(value=1.0, answer='D', explanation='ANSWER: D', metadata=None, sample_id=59), EvalSampleScore(value=1.0, answer='A', explanation='ANSWER: A', metadata=None, sample_id=60), EvalSampleScore(value=1.0, answer='D', explanation='ANSWER: D', metadata=None, sample_id=61), EvalSampleScore(value=1.0, answer='A', explanation='ANSWER: A', metadata=None, sample_id=62), EvalSampleScore(value=1.0, answer='B', explanation='ANSWER: B', metadata=None, sample_id=63), EvalSampleScore(value=1.0, answer='D', explanation='ANSWER: D', metadata=None, sample_id=64), EvalSampleScore(value=1.0, answer='D', explanation='ANSWER: D', metadata=None, sample_id=65), EvalSampleScore(value=1.0, answer='B', explanation='ANSWER: B', metadata=None, sample_id=66), EvalSampleScore(value=1.0, answer='C', explanation='ANSWER: C', metadata=None, sample_id=67), EvalSampleScore(value=1.0, answer='C', explanation='ANSWER: C', metadata=None, sample_id=68), EvalSampleScore(value=1.0, answer='B', explanation='ANSWER: B', metadata=None, sample_id=69), EvalSampleScore(value=1.0, answer='A', explanation='ANSWER: A', metadata=None, sample_id=70), EvalSampleScore(value=1.0, answer='C', explanation='ANSWER: C', metadata=None, sample_id=71), EvalSampleScore(value=1.0, answer='B', explanation='ANSWER: B', metadata=None, sample_id=72), EvalSampleScore(value=1.0, answer='D', explanation='ANSWER: D', metadata=None, sample_id=73), EvalSampleScore(value=1.0, answer='C', explanation='ANSWER: C', metadata=None, sample_id=74), EvalSampleScore(value=1.0, answer='B', explanation='ANSWER: B', metadata=None, sample_id=75), EvalSampleScore(value=1.0, answer='B', explanation='ANSWER: B', metadata=None, sample_id=76), EvalSampleScore(value=1.0, answer='A', explanation='ANSWER: A', metadata=None, sample_id=77), EvalSampleScore(value=0, answer='A', explanation='ANSWER: A', metadata=None, sample_id=78), EvalSampleScore(value=1.0, answer='D', explanation='ANSWER: D', metadata=None, sample_id=79), EvalSampleScore(value=1.0, answer='C', explanation='ANSWER: C', metadata=None, sample_id=80), EvalSampleScore(value=1.0, answer='A', explanation='ANSWER: A', metadata=None, sample_id=81), EvalSampleScore(value=1.0, answer='D', explanation='ANSWER: D', metadata=None, sample_id=82), EvalSampleScore(value=1.0, answer='D', explanation='ANSWER: D', metadata=None, sample_id=83), EvalSampleScore(value=1.0, answer='A', explanation='ANSWER: A', metadata=None, sample_id=84), EvalSampleScore(value=1.0, answer='A', explanation='ANSWER: A', metadata=None, sample_id=85), EvalSampleScore(value=1.0, answer='A', explanation='ANSWER: A', metadata=None, sample_id=86), EvalSampleScore(value=1.0, answer='B', explanation='ANSWER: B', metadata=None, sample_id=87), EvalSampleScore(value=1.0, answer='C', explanation='ANSWER: C', metadata=None, sample_id=88), EvalSampleScore(value=1.0, answer='A', explanation='ANSWER: A', metadata=None, sample_id=89), EvalSampleScore(value=1.0, answer='B', explanation='ANSWER: B', metadata=None, sample_id=90), EvalSampleScore(value=0, answer='D', explanation='ANSWER: D', metadata=None, sample_id=91), EvalSampleScore(value=1.0, answer='D', explanation='ANSWER: D', metadata=None, sample_id=92), EvalSampleScore(value=1.0, answer='D', explanation='ANSWER: D', metadata=None, sample_id=93), EvalSampleScore(value=1.0, answer='B', explanation='ANSWER: B', metadata=None, sample_id=94), EvalSampleScore(value=1.0, answer='A', explanation='ANSWER: A', metadata=None, sample_id=95), EvalSampleScore(value=1.0, answer='B', explanation='ANSWER: B', metadata=None, sample_id=96), EvalSampleScore(value=1.0, answer='C', explanation='ANSWER: C', metadata=None, sample_id=97), EvalSampleScore(value=1.0, answer='A', explanation='ANSWER: A', metadata=None, sample_id=98), EvalSampleScore(value=1.0, answer='B', explanation='ANSWER: B', metadata=None, sample_id=99), EvalSampleScore(value=1.0, answer='A', explanation='ANSWER: A', metadata=None, sample_id=100), EvalSampleScore(value=0, answer='D', explanation='ANSWER: D', metadata=None, sample_id=101), EvalSampleScore(value=1.0, answer='C', explanation='ANSWER: C', metadata=None, sample_id=102), EvalSampleScore(value=1.0, answer='B', explanation='ANSWER: B', metadata=None, sample_id=103), EvalSampleScore(value=1.0, answer='C', explanation='ANSWER: C', metadata=None, sample_id=104), EvalSampleScore(value=0, answer='B', explanation='ANSWER: B', metadata=None, sample_id=105), EvalSampleScore(value=1.0, answer='C', explanation='ANSWER: C', metadata=None, sample_id=106), EvalSampleScore(value=1.0, answer='C', explanation='ANSWER: C', metadata=None, sample_id=107), EvalSampleScore(value=1.0, answer='C', explanation='ANSWER: C', metadata=None, sample_id=108), EvalSampleScore(value=1.0, answer='B', explanation='ANSWER: B', metadata=None, sample_id=109), EvalSampleScore(value=0, answer='B', explanation='ANSWER: B', metadata=None, sample_id=110), EvalSampleScore(value=1.0, answer='C', explanation='ANSWER: C', metadata=None, sample_id=111), EvalSampleScore(value=1.0, answer='A', explanation='ANSWER: A', metadata=None, sample_id=112), EvalSampleScore(value=1.0, answer='D', explanation='ANSWER: D', metadata=None, sample_id=113), EvalSampleScore(value=1.0, answer='D', explanation='ANSWER: D', metadata=None, sample_id=114), EvalSampleScore(value=1.0, answer='B', explanation='ANSWER: B', metadata=None, sample_id=115), EvalSampleScore(value=1.0, answer='A', explanation='ANSWER: A', metadata=None, sample_id=116), EvalSampleScore(value=1.0, answer='D', explanation='ANSWER: D', metadata=None, sample_id=117), EvalSampleScore(value=1.0, answer='B', explanation='ANSWER: B', metadata=None, sample_id=118), EvalSampleScore(value=0, answer='C', explanation='ANSWER: C', metadata=None, sample_id=119), EvalSampleScore(value=1.0, answer='D', explanation='ANSWER: D', metadata=None, sample_id=120), EvalSampleScore(value=1.0, answer='D', explanation='ANSWER: D', metadata=None, sample_id=121), EvalSampleScore(value=1.0, answer='B', explanation='ANSWER: B', metadata=None, sample_id=122), EvalSampleScore(value=1.0, answer='D', explanation='ANSWER: D', metadata=None, sample_id=123), EvalSampleScore(value=1.0, answer='D', explanation='ANSWER: D', metadata=None, sample_id=124), EvalSampleScore(value=1.0, answer='D', explanation='ANSWER: D', metadata=None, sample_id=125), EvalSampleScore(value=1.0, answer='A', explanation='ANSWER: A', metadata=None, sample_id=126), EvalSampleScore(value=1.0, answer='D', explanation='ANSWER: D', metadata=None, sample_id=127), EvalSampleScore(value=1.0, answer='A', explanation='ANSWER: A', metadata=None, sample_id=128), EvalSampleScore(value=1.0, answer='C', explanation='ANSWER: C', metadata=None, sample_id=129), EvalSampleScore(value=1.0, answer='A', explanation='ANSWER: A', metadata=None, sample_id=130), EvalSampleScore(value=1.0, answer='B', explanation='ANSWER: B', metadata=None, sample_id=131), EvalSampleScore(value=1.0, answer='C', explanation='ANSWER: C', metadata=None, sample_id=132), EvalSampleScore(value=1.0, answer='D', explanation='ANSWER: D', metadata=None, sample_id=133), EvalSampleScore(value=1.0, answer='A', explanation='ANSWER: A', metadata=None, sample_id=134), EvalSampleScore(value=1.0, answer='C', explanation='ANSWER: C', metadata=None, sample_id=135), EvalSampleScore(value=1.0, answer='D', explanation='ANSWER: D', metadata=None, sample_id=136), EvalSampleScore(value=1.0, answer='C', explanation='ANSWER: C', metadata=None, sample_id=137), EvalSampleScore(value=1.0, answer='A', explanation='ANSWER: A', metadata=None, sample_id=138), EvalSampleScore(value=1.0, answer='B', explanation='ANSWER: B', metadata=None, sample_id=139), EvalSampleScore(value=1.0, answer='C', explanation='ANSWER: C', metadata=None, sample_id=140), EvalSampleScore(value=0, answer='D', explanation='ANSWER: D', metadata=None, sample_id=141), EvalSampleScore(value=1.0, answer='D', explanation='ANSWER: D', metadata=None, sample_id=142), EvalSampleScore(value=1.0, answer='A', explanation='ANSWER: A', metadata=None, sample_id=143), EvalSampleScore(value=1.0, answer='D', explanation='ANSWER: D', metadata=None, sample_id=144), EvalSampleScore(value=1.0, answer='B', explanation='ANSWER: B', metadata=None, sample_id=145), EvalSampleScore(value=1.0, answer='C', explanation='ANSWER: C', metadata=None, sample_id=146), EvalSampleScore(value=1.0, answer='A', explanation='ANSWER: A', metadata=None, sample_id=147), EvalSampleScore(value=1.0, answer='B', explanation='ANSWER: B', metadata=None, sample_id=148), EvalSampleScore(value=1.0, answer='B', explanation='ANSWER: B', metadata=None, sample_id=149), EvalSampleScore(value=1.0, answer='B', explanation='ANSWER: B', metadata=None, sample_id=150), EvalSampleScore(value=1.0, answer='D', explanation='ANSWER: D', metadata=None, sample_id=151), EvalSampleScore(value=1.0, answer='D', explanation='ANSWER: D', metadata=None, sample_id=152), EvalSampleScore(value=1.0, answer='A', explanation='ANSWER: A', metadata=None, sample_id=153), EvalSampleScore(value=1.0, answer='A', explanation='ANSWER: A', metadata=None, sample_id=154), EvalSampleScore(value=1.0, answer='C', explanation='ANSWER: C', metadata=None, sample_id=155), EvalSampleScore(value=1.0, answer='C', explanation='ANSWER: C', metadata=None, sample_id=156), EvalSampleScore(value=1.0, answer='A', explanation='ANSWER: A', metadata=None, sample_id=157), EvalSampleScore(value=1.0, answer='C', explanation='ANSWER: C', metadata=None, sample_id=158), EvalSampleScore(value=1.0, answer='B', explanation='ANSWER: B', metadata=None, sample_id=159), EvalSampleScore(value=1.0, answer='D', explanation='ANSWER: D', metadata=None, sample_id=160), EvalSampleScore(value=1.0, answer='A', explanation='ANSWER: A', metadata=None, sample_id=161), EvalSampleScore(value=1.0, answer='A', explanation='ANSWER: A', metadata=None, sample_id=162), EvalSampleScore(value=1.0, answer='B', explanation='ANSWER: B', metadata=None, sample_id=163), EvalSampleScore(value=1.0, answer='C', explanation='ANSWER: C', metadata=None, sample_id=164), EvalSampleScore(value=1.0, answer='C', explanation='ANSWER: C', metadata=None, sample_id=165), EvalSampleScore(value=1.0, answer='C', explanation='ANSWER: C', metadata=None, sample_id=166), EvalSampleScore(value=1.0, answer='B', explanation='ANSWER: B', metadata=None, sample_id=167), EvalSampleScore(value=1.0, answer='A', explanation='ANSWER: A', metadata=None, sample_id=168), EvalSampleScore(value=0, answer='C', explanation='ANSWER: C', metadata=None, sample_id=169), EvalSampleScore(value=1.0, answer='B', explanation='ANSWER: B', metadata=None, sample_id=170), EvalSampleScore(value=1.0, answer='D', explanation='ANSWER: D', metadata=None, sample_id=171), EvalSampleScore(value=1.0, answer='D', explanation='ANSWER: D', metadata=None, sample_id=172), EvalSampleScore(value=1.0, answer='B', explanation='ANSWER: B', metadata=None, sample_id=173), EvalSampleScore(value=1.0, answer='B', explanation='ANSWER: B', metadata=None, sample_id=174), EvalSampleScore(value=1.0, answer='C', explanation='ANSWER: C', metadata=None, sample_id=175), EvalSampleScore(value=1.0, answer='B', explanation='ANSWER: B', metadata=None, sample_id=176), EvalSampleScore(value=1.0, answer='C', explanation='ANSWER: C', metadata=None, sample_id=177), EvalSampleScore(value=1.0, answer='A', explanation='ANSWER: A', metadata=None, sample_id=178), EvalSampleScore(value=1.0, answer='A', explanation='ANSWER: A', metadata=None, sample_id=179), EvalSampleScore(value=1.0, answer='D', explanation='ANSWER: D', metadata=None, sample_id=180), EvalSampleScore(value=1.0, answer='C', explanation='ANSWER: C', metadata=None, sample_id=181), EvalSampleScore(value=1.0, answer='B', explanation='ANSWER: B', metadata=None, sample_id=182), EvalSampleScore(value=1.0, answer='A', explanation='ANSWER: A', metadata=None, sample_id=183), EvalSampleScore(value=1.0, answer='B', explanation='ANSWER: B', metadata=None, sample_id=184), EvalSampleScore(value=1.0, answer='D', explanation='ANSWER: D', metadata=None, sample_id=185), EvalSampleScore(value=1.0, answer='C', explanation='ANSWER: C', metadata=None, sample_id=186), EvalSampleScore(value=1.0, answer='B', explanation='ANSWER: B', metadata=None, sample_id=187), EvalSampleScore(value=1.0, answer='D', explanation='ANSWER: D', metadata=None, sample_id=188), EvalSampleScore(value=1.0, answer='A', explanation='ANSWER: A', metadata=None, sample_id=189), EvalSampleScore(value=1.0, answer='C', explanation='ANSWER: C', metadata=None, sample_id=190), EvalSampleScore(value=1.0, answer='B', explanation='ANSWER: B', metadata=None, sample_id=191), EvalSampleScore(value=1.0, answer='C', explanation='ANSWER: C', metadata=None, sample_id=192), EvalSampleScore(value=1.0, answer='D', explanation='ANSWER: D', metadata=None, sample_id=193), EvalSampleScore(value=1.0, answer='C', explanation='ANSWER: C', metadata=None, sample_id=194), EvalSampleScore(value=1.0, answer='C', explanation='ANSWER: C', metadata=None, sample_id=195), EvalSampleScore(value=1.0, answer='C', explanation='ANSWER: C', metadata=None, sample_id=196), EvalSampleScore(value=0, answer='D', explanation='ANSWER: D', metadata=None, sample_id=197), EvalSampleScore(value=1.0, answer='A', explanation='ANSWER: A', metadata=None, sample_id=198), EvalSampleScore(value=0, answer='B', explanation='ANSWER: B', metadata=None, sample_id=199), EvalSampleScore(value=1.0, answer='A', explanation='ANSWER: A', metadata=None, sample_id=200), EvalSampleScore(value=1.0, answer='C', explanation='ANSWER: C', metadata=None, sample_id=201), EvalSampleScore(value=1.0, answer='C', explanation='ANSWER: C', metadata=None, sample_id=202), EvalSampleScore(value=1.0, answer='B', explanation='ANSWER: B', metadata=None, sample_id=203), EvalSampleScore(value=1.0, answer='B', explanation='ANSWER: B', metadata=None, sample_id=204), EvalSampleScore(value=1.0, answer='D', explanation='ANSWER: D', metadata=None, sample_id=205), EvalSampleScore(value=1.0, answer='D', explanation='ANSWER: D', metadata=None, sample_id=206), EvalSampleScore(value=1.0, answer='C', explanation='ANSWER: C', metadata=None, sample_id=207), EvalSampleScore(value=1.0, answer='B', explanation='ANSWER: B', metadata=None, sample_id=208), EvalSampleScore(value=1.0, answer='C', explanation='ANSWER: C', metadata=None, sample_id=209), EvalSampleScore(value=1.0, answer='B', explanation='ANSWER: B', metadata=None, sample_id=210), EvalSampleScore(value=0, answer='D', explanation='ANSWER: D', metadata=None, sample_id=211), EvalSampleScore(value=1.0, answer='B', explanation='ANSWER: B', metadata=None, sample_id=212), EvalSampleScore(value=1.0, answer='B', explanation='ANSWER: B', metadata=None, sample_id=213), EvalSampleScore(value=0, answer='B', explanation='ANSWER: B', metadata=None, sample_id=214), EvalSampleScore(value=1.0, answer='C', explanation='ANSWER: C', metadata=None, sample_id=215), EvalSampleScore(value=1.0, answer='A', explanation='ANSWER: A', metadata=None, sample_id=216), EvalSampleScore(value=0, answer='A', explanation='ANSWER: A', metadata=None, sample_id=217), EvalSampleScore(value=1.0, answer='B', explanation='ANSWER: B', metadata=None, sample_id=218), EvalSampleScore(value=1.0, answer='A', explanation='ANSWER: A', metadata=None, sample_id=219), EvalSampleScore(value=1.0, answer='D', explanation='ANSWER: D', metadata=None, sample_id=220), EvalSampleScore(value=0, answer='B', explanation='ANSWER: B', metadata=None, sample_id=221), EvalSampleScore(value=1.0, answer='C', explanation='ANSWER: C', metadata=None, sample_id=222), EvalSampleScore(value=1.0, answer='D', explanation='ANSWER: D', metadata=None, sample_id=223), EvalSampleScore(value=1.0, answer='D', explanation='ANSWER: D', metadata=None, sample_id=224), EvalSampleScore(value=1.0, answer='A', explanation='ANSWER: A', metadata=None, sample_id=225), EvalSampleScore(value=1.0, answer='B', explanation='ANSWER: B', metadata=None, sample_id=226), EvalSampleScore(value=1.0, answer='C', explanation='ANSWER: C', metadata=None, sample_id=227), EvalSampleScore(value=0, answer='C', explanation='ANSWER: C', metadata=None, sample_id=228), EvalSampleScore(value=1.0, answer='A', explanation='ANSWER: A', metadata=None, sample_id=229), EvalSampleScore(value=1.0, answer='B', explanation='ANSWER: B', metadata=None, sample_id=230), EvalSampleScore(value=1.0, answer='B', explanation='ANSWER: B', metadata=None, sample_id=231), EvalSampleScore(value=1.0, answer='B', explanation='ANSWER: B', metadata=None, sample_id=232), EvalSampleScore(value=1.0, answer='A', explanation='ANSWER: A', metadata=None, sample_id=233), EvalSampleScore(value=0, answer='C', explanation='ANSWER: C', metadata=None, sample_id=234), EvalSampleScore(value=1.0, answer='D', explanation='ANSWER: D', metadata=None, sample_id=235), EvalSampleScore(value=1.0, answer='C', explanation='ANSWER: C', metadata=None, sample_id=236), EvalSampleScore(value=0, answer='A', explanation='ANSWER: A', metadata=None, sample_id=237), EvalSampleScore(value=1.0, answer='B', explanation='ANSWER: B', metadata=None, sample_id=238), EvalSampleScore(value=1.0, answer='D', explanation='ANSWER: D', metadata=None, sample_id=239), EvalSampleScore(value=1.0, answer='C', explanation='ANSWER: C', metadata=None, sample_id=240), EvalSampleScore(value=1.0, answer='A', explanation='ANSWER: A', metadata=None, sample_id=241), EvalSampleScore(value=1.0, answer='B', explanation='ANSWER: B', metadata=None, sample_id=242), EvalSampleScore(value=0, answer='C', explanation='ANSWER: C', metadata=None, sample_id=243), EvalSampleScore(value=0, answer='C', explanation='ANSWER: C', metadata=None, sample_id=244), EvalSampleScore(value=1.0, answer='D', explanation='ANSWER: D', metadata=None, sample_id=245), EvalSampleScore(value=0, answer='B', explanation='ANSWER: B', metadata=None, sample_id=246), EvalSampleScore(value=1.0, answer='A', explanation='ANSWER: A', metadata=None, sample_id=247), EvalSampleScore(value=0, answer='C', explanation='ANSWER: C', metadata=None, sample_id=248), EvalSampleScore(value=1.0, answer='D', explanation='ANSWER: D', metadata=None, sample_id=249), EvalSampleScore(value=1.0, answer='B', explanation='ANSWER: B', metadata=None, sample_id=250), EvalSampleScore(value=1.0, answer='C', explanation='ANSWER: C', metadata=None, sample_id=251), EvalSampleScore(value=1.0, answer='D', explanation='ANSWER: D', metadata=None, sample_id=252), EvalSampleScore(value=1.0, answer='A', explanation='ANSWER: A', metadata=None, sample_id=253), EvalSampleScore(value=1.0, answer='A', explanation='ANSWER: A', metadata=None, sample_id=254), EvalSampleScore(value=1.0, answer='D', explanation='ANSWER: D', metadata=None, sample_id=255), EvalSampleScore(value=1.0, answer='C', explanation='ANSWER: C', metadata=None, sample_id=256), EvalSampleScore(value=1.0, answer='D', explanation='ANSWER: D', metadata=None, sample_id=257), EvalSampleScore(value=1.0, answer='D', explanation='ANSWER: D', metadata=None, sample_id=258), EvalSampleScore(value=0, answer='A', explanation='ANSWER: A', metadata=None, sample_id=259), EvalSampleScore(value=0, answer='D', explanation='ANSWER: D', metadata=None, sample_id=260), EvalSampleScore(value=0, answer='D', explanation='ANSWER: D', metadata=None, sample_id=261), EvalSampleScore(value=1.0, answer='B', explanation='ANSWER: B', metadata=None, sample_id=262), EvalSampleScore(value=1.0, answer='C', explanation='ANSWER: C', metadata=None, sample_id=263), EvalSampleScore(value=1.0, answer='C', explanation='ANSWER: C', metadata=None, sample_id=264), EvalSampleScore(value=1.0, answer='A', explanation='ANSWER: A', metadata=None, sample_id=265), EvalSampleScore(value=1.0, answer='A', explanation='ANSWER: A', metadata=None, sample_id=266), EvalSampleScore(value=1.0, answer='C', explanation='ANSWER: C', metadata=None, sample_id=267), EvalSampleScore(value=0, answer='A', explanation='ANSWER: A', metadata=None, sample_id=268), EvalSampleScore(value=0, answer='C', explanation='ANSWER: C', metadata=None, sample_id=269), EvalSampleScore(value=1.0, answer='D', explanation='ANSWER: D', metadata=None, sample_id=270), EvalSampleScore(value=1.0, answer='A', explanation='ANSWER: A', metadata=None, sample_id=271), EvalSampleScore(value=1.0, answer='B', explanation='ANSWER: B', metadata=None, sample_id=272), EvalSampleScore(value=1.0, answer='B', explanation='ANSWER: B', metadata=None, sample_id=273), EvalSampleScore(value=1.0, answer='B', explanation='ANSWER: B', metadata=None, sample_id=274), EvalSampleScore(value=1.0, answer='D', explanation='ANSWER: D', metadata=None, sample_id=275), EvalSampleScore(value=1.0, answer='A', explanation='ANSWER: A', metadata=None, sample_id=276), EvalSampleScore(value=1.0, answer='C', explanation='ANSWER: C', metadata=None, sample_id=277), EvalSampleScore(value=1.0, answer='C', explanation='ANSWER: C', metadata=None, sample_id=278), EvalSampleScore(value=0, answer='B', explanation='ANSWER: B', metadata=None, sample_id=279), EvalSampleScore(value=1.0, answer='B', explanation='ANSWER: B', metadata=None, sample_id=280), EvalSampleScore(value=1.0, answer='D', explanation='ANSWER: D', metadata=None, sample_id=281), EvalSampleScore(value=1.0, answer='D', explanation='First, convert the distance from kilometers to meters:\\n1.5 x 10^8 km = 1.5 x 10^8 km * 10^3 m/km = 1.5 x 10^{11} m.\\n\\nNext, divide the distance by the speed of light to find the time in seconds:\\nTime = Distance / Speed = (1.5 x 10^{11} m) / (3.0 x 10^8 m/sec) = 0.5 x 10^3 sec = 500 seconds.\\n\\nSince 500 seconds = 500 / 1 ≈ 0.5 x 10^3 seconds, which simplifies to approximately 500 seconds, but none of the options list seconds explicitly. The question asks for the distance in light-seconds, which directly equals the time in seconds since the speed of light is 1 light-second per second.\\n\\nTherefore, the distance in light-seconds is approximately 500 seconds, i.e., 500 light-seconds.\\n\\nLooking at the options:\\nA) 2.0 light-seconds\\nB) 0.5 light-seconds\\nC) 2.0 x 10^-3 light-seconds\\nD) 5.0 x 10^2 light-seconds\\n\\nOption D) matches 500 light-seconds.\\n\\nANSWER: D', metadata=None, sample_id=282), EvalSampleScore(value=1.0, answer='C', explanation='ANSWER: C', metadata=None, sample_id=283), EvalSampleScore(value=1.0, answer='B', explanation='ANSWER: B', metadata=None, sample_id=284), EvalSampleScore(value=0, answer='B', explanation='ANSWER: B', metadata=None, sample_id=285), EvalSampleScore(value=1.0, answer='C', explanation='ANSWER: C', metadata=None, sample_id=286), EvalSampleScore(value=1.0, answer='C', explanation='ANSWER: C', metadata=None, sample_id=287), EvalSampleScore(value=1.0, answer='C', explanation='ANSWER: C', metadata=None, sample_id=288), EvalSampleScore(value=1.0, answer='B', explanation='ANSWER: B', metadata=None, sample_id=289), EvalSampleScore(value=1.0, answer='C', explanation='ANSWER: C', metadata=None, sample_id=290), EvalSampleScore(value=1.0, answer='D', explanation='ANSWER: D', metadata=None, sample_id=291), EvalSampleScore(value=1.0, answer='C', explanation='ANSWER: C', metadata=None, sample_id=292), EvalSampleScore(value=1.0, answer='D', explanation='ANSWER: D', metadata=None, sample_id=293), EvalSampleScore(value=0, answer='C', explanation='ANSWER: C', metadata=None, sample_id=294), EvalSampleScore(value=1.0, answer='C', explanation='ANSWER: C', metadata=None, sample_id=295), EvalSampleScore(value=1.0, answer='B', explanation='ANSWER: B', metadata=None, sample_id=296), EvalSampleScore(value=1.0, answer='C', explanation='ANSWER: C', metadata=None, sample_id=297), EvalSampleScore(value=1.0, answer='D', explanation='ANSWER: D', metadata=None, sample_id=298), EvalSampleScore(value=1.0, answer='D', explanation='ANSWER: D', metadata=None, sample_id=299)])], location='file://c:/Users/18055/Downloads/AlgoVerse/BenchmarkARC/logs/comparison/val/2025-07-17T14-00-18+05-30_arc-eval-task_Xs5Wk2S9RvyvuFMN2935zA.eval')]"
            ]
          },
          "execution_count": 63,
          "metadata": {},
          "output_type": "execute_result"
        }
      ],
      "source": [
        "assert success \n",
        "logs"
      ]
    },
    {
      "cell_type": "code",
      "execution_count": 64,
      "metadata": {},
      "outputs": [
        {
          "name": "stdout",
          "output_type": "stream",
          "text": [
            "0\n",
            "arc_eval_task\n",
            "name='allenai/ai2_arc' location='allenai/ai2_arc' samples=299 sample_ids=[1, 2, 3, 4, 5, 6, 7, 8, 9, 10, 11, 12, 13, 14, 15, 16, 17, 18, 19, 20, 21, 22, 23, 24, 25, 26, 27, 28, 29, 30, 31, 32, 33, 34, 35, 36, 37, 38, 39, 40, 41, 42, 43, 44, 45, 46, 47, 48, 49, 50, 51, 52, 53, 54, 55, 56, 57, 58, 59, 60, 61, 62, 63, 64, 65, 66, 67, 68, 69, 70, 71, 72, 73, 74, 75, 76, 77, 78, 79, 80, 81, 82, 83, 84, 85, 86, 87, 88, 89, 90, 91, 92, 93, 94, 95, 96, 97, 98, 99, 100, 101, 102, 103, 104, 105, 106, 107, 108, 109, 110, 111, 112, 113, 114, 115, 116, 117, 118, 119, 120, 121, 122, 123, 124, 125, 126, 127, 128, 129, 130, 131, 132, 133, 134, 135, 136, 137, 138, 139, 140, 141, 142, 143, 144, 145, 146, 147, 148, 149, 150, 151, 152, 153, 154, 155, 156, 157, 158, 159, 160, 161, 162, 163, 164, 165, 166, 167, 168, 169, 170, 171, 172, 173, 174, 175, 176, 177, 178, 179, 180, 181, 182, 183, 184, 185, 186, 187, 188, 189, 190, 191, 192, 193, 194, 195, 196, 197, 198, 199, 200, 201, 202, 203, 204, 205, 206, 207, 208, 209, 210, 211, 212, 213, 214, 215, 216, 217, 218, 219, 220, 221, 222, 223, 224, 225, 226, 227, 228, 229, 230, 231, 232, 233, 234, 235, 236, 237, 238, 239, 240, 241, 242, 243, 244, 245, 246, 247, 248, 249, 250, 251, 252, 253, 254, 255, 256, 257, 258, 259, 260, 261, 262, 263, 264, 265, 266, 267, 268, 269, 270, 271, 272, 273, 274, 275, 276, 277, 278, 279, 280, 281, 282, 283, 284, 285, 286, 287, 288, 289, 290, 291, 292, 293, 294, 295, 296, 297, 298, 299] shuffled=False\n",
            "openai/gpt-4o-mini\n",
            "VPoiE22ndJK28556TqJKiV ANSWER: D\n",
            "1\n",
            "arc_eval_task\n",
            "name='allenai/ai2_arc' location='allenai/ai2_arc' samples=299 sample_ids=[1, 2, 3, 4, 5, 6, 7, 8, 9, 10, 11, 12, 13, 14, 15, 16, 17, 18, 19, 20, 21, 22, 23, 24, 25, 26, 27, 28, 29, 30, 31, 32, 33, 34, 35, 36, 37, 38, 39, 40, 41, 42, 43, 44, 45, 46, 47, 48, 49, 50, 51, 52, 53, 54, 55, 56, 57, 58, 59, 60, 61, 62, 63, 64, 65, 66, 67, 68, 69, 70, 71, 72, 73, 74, 75, 76, 77, 78, 79, 80, 81, 82, 83, 84, 85, 86, 87, 88, 89, 90, 91, 92, 93, 94, 95, 96, 97, 98, 99, 100, 101, 102, 103, 104, 105, 106, 107, 108, 109, 110, 111, 112, 113, 114, 115, 116, 117, 118, 119, 120, 121, 122, 123, 124, 125, 126, 127, 128, 129, 130, 131, 132, 133, 134, 135, 136, 137, 138, 139, 140, 141, 142, 143, 144, 145, 146, 147, 148, 149, 150, 151, 152, 153, 154, 155, 156, 157, 158, 159, 160, 161, 162, 163, 164, 165, 166, 167, 168, 169, 170, 171, 172, 173, 174, 175, 176, 177, 178, 179, 180, 181, 182, 183, 184, 185, 186, 187, 188, 189, 190, 191, 192, 193, 194, 195, 196, 197, 198, 199, 200, 201, 202, 203, 204, 205, 206, 207, 208, 209, 210, 211, 212, 213, 214, 215, 216, 217, 218, 219, 220, 221, 222, 223, 224, 225, 226, 227, 228, 229, 230, 231, 232, 233, 234, 235, 236, 237, 238, 239, 240, 241, 242, 243, 244, 245, 246, 247, 248, 249, 250, 251, 252, 253, 254, 255, 256, 257, 258, 259, 260, 261, 262, 263, 264, 265, 266, 267, 268, 269, 270, 271, 272, 273, 274, 275, 276, 277, 278, 279, 280, 281, 282, 283, 284, 285, 286, 287, 288, 289, 290, 291, 292, 293, 294, 295, 296, 297, 298, 299] shuffled=False\n",
            "openai/gpt-4.1-nano\n",
            "TqUHQDQryY3VV6KyL74KfB ANSWER: D\n"
          ]
        }
      ],
      "source": [
        "# # # logs[0].eval.model\n",
        "for i in range(len(logs)):\n",
        "    print(i)\n",
        "    log_file = str(logs[i].location)[7:]\n",
        "\n",
        "    eval_log = read_eval_log(log_file)\n",
        "    print(eval_log.eval.task)\n",
        "    print(eval_log.eval.dataset)\n",
        "    print(eval_log.eval.model)\n",
        "\n",
        "    rec = eval_log.samples[0] #first record\n",
        "    op_obj = rec.output.choices[0].message\n",
        "    print(op_obj.id, op_obj.content)\n",
        "\n",
        "# rec = eval_log.samples[0]\n",
        "# q = rec.input[0].content\n",
        "# # a = rec.output.choices[0].message\n",
        "# t = rec.target\n",
        "# c_i = rec.scores[\"choice\"].value\n",
        "# a = rec.scores[\"choice\"].answer\n",
        "\n"
      ]
    },
    {
      "cell_type": "code",
      "execution_count": 65,
      "metadata": {},
      "outputs": [
        {
          "data": {
            "text/plain": [
              "['Put the objects in groups.',\n",
              " 'Change the height of the ramp.',\n",
              " 'Choose different objects to roll.',\n",
              " 'Record the details of the investigation.']"
            ]
          },
          "execution_count": 65,
          "metadata": {},
          "output_type": "execute_result"
        }
      ],
      "source": [
        "eval_log.samples[0].choices"
      ]
    },
    {
      "cell_type": "code",
      "execution_count": 66,
      "metadata": {},
      "outputs": [],
      "source": [
        "def log_to_df(eval_log):\n",
        "    df = pd.DataFrame([\n",
        "        {\n",
        "            'question': sample.input[0].content,\n",
        "            'answer': sample.scores[\"choice\"].answer,\n",
        "            'target': sample.target,\n",
        "            'score': sample.scores[\"choice\"].value,\n",
        "            'model': eval_log.eval.model,\n",
        "            'choices': sample.choices\n",
        "        }\n",
        "        for sample in eval_log.samples\n",
        "    ])\n",
        "    return df\n",
        "\n"
      ]
    },
    {
      "cell_type": "code",
      "execution_count": 67,
      "metadata": {},
      "outputs": [
        {
          "name": "stdout",
          "output_type": "stream",
          "text": [
            "0\n",
            "1\n"
          ]
        }
      ],
      "source": [
        "accs = {}\n",
        "errs = {}\n",
        "df = pd.DataFrame()\n",
        "for i in range(len(logs)):\n",
        "    print(i)\n",
        "    log_file = str(logs[i].location)[7:]\n",
        "\n",
        "    eval_log = read_eval_log(log_file)\n",
        "    model = eval_log.eval.model\n",
        "    accs[model] = (eval_log.results.scores[0].metrics['accuracy'].value)\n",
        "    errs[model] = (eval_log.results.scores[0].metrics['stderr'].value)\n",
        "    df = pd.concat([df, log_to_df(eval_log)], ignore_index=True)\n"
      ]
    },
    {
      "cell_type": "code",
      "execution_count": 128,
      "metadata": {},
      "outputs": [
        {
          "name": "stdout",
          "output_type": "stream",
          "text": [
            "Model with better performance by Accuracy:  ('openai/gpt-4o-mini', 0.919732441471572)\n"
          ]
        },
        {
          "data": {
            "text/plain": [
              "[('openai/gpt-4o-mini', 0.919732441471572),\n",
              " ('openai/gpt-4.1-nano', 0.8896321070234113)]"
            ]
          },
          "execution_count": 128,
          "metadata": {},
          "output_type": "execute_result"
        }
      ],
      "source": [
        "#compare metrics\n",
        "model = sorted(accs.items(), key=lambda x : x[-1], reverse=True)\n",
        "print(\"Model with better performance by Accuracy: \" ,model[0])\n",
        "model"
      ]
    },
    {
      "cell_type": "markdown",
      "metadata": {},
      "source": [
        "#### Extract Questions : one model > the other"
      ]
    },
    {
      "cell_type": "code",
      "execution_count": 69,
      "metadata": {},
      "outputs": [
        {
          "name": "stderr",
          "output_type": "stream",
          "text": [
            "C:\\Users\\18055\\AppData\\Local\\Temp\\ipykernel_10360\\3493662579.py:8: FutureWarning: DataFrameGroupBy.apply operated on the grouping columns. This behavior is deprecated, and in a future version of pandas the grouping columns will be excluded from the operation. Either pass `include_groups=False` to exclude the groupings or explicitly select the grouping columns after groupby to silence this warning.\n",
            "  one_off_df = df.groupby('question').apply(one_off).reset_index(drop=True)\n"
          ]
        },
        {
          "data": {
            "text/html": [
              "<div>\n",
              "<style scoped>\n",
              "    .dataframe tbody tr th:only-of-type {\n",
              "        vertical-align: middle;\n",
              "    }\n",
              "\n",
              "    .dataframe tbody tr th {\n",
              "        vertical-align: top;\n",
              "    }\n",
              "\n",
              "    .dataframe thead th {\n",
              "        text-align: right;\n",
              "    }\n",
              "</style>\n",
              "<table border=\"1\" class=\"dataframe\">\n",
              "  <thead>\n",
              "    <tr style=\"text-align: right;\">\n",
              "      <th></th>\n",
              "      <th>question</th>\n",
              "      <th>answer</th>\n",
              "      <th>target</th>\n",
              "      <th>score</th>\n",
              "      <th>model</th>\n",
              "      <th>choices</th>\n",
              "    </tr>\n",
              "  </thead>\n",
              "  <tbody>\n",
              "    <tr>\n",
              "      <th>0</th>\n",
              "      <td>A daphnia population shows a vertical migratio...</td>\n",
              "      <td>D</td>\n",
              "      <td>D</td>\n",
              "      <td>C</td>\n",
              "      <td>openai/gpt-4o-mini</td>\n",
              "      <td>[the pH of the water, the clarity of the water...</td>\n",
              "    </tr>\n",
              "    <tr>\n",
              "      <th>1</th>\n",
              "      <td>A daphnia population shows a vertical migratio...</td>\n",
              "      <td>B</td>\n",
              "      <td>D</td>\n",
              "      <td>I</td>\n",
              "      <td>openai/gpt-4.1-nano</td>\n",
              "      <td>[the pH of the water, the clarity of the water...</td>\n",
              "    </tr>\n",
              "    <tr>\n",
              "      <th>2</th>\n",
              "      <td>A mass of air is at an elevation of 1000 meter...</td>\n",
              "      <td>B</td>\n",
              "      <td>B</td>\n",
              "      <td>C</td>\n",
              "      <td>openai/gpt-4o-mini</td>\n",
              "      <td>[Air particles move up and to the left., Air p...</td>\n",
              "    </tr>\n",
              "    <tr>\n",
              "      <th>3</th>\n",
              "      <td>A mass of air is at an elevation of 1000 meter...</td>\n",
              "      <td>D</td>\n",
              "      <td>B</td>\n",
              "      <td>I</td>\n",
              "      <td>openai/gpt-4.1-nano</td>\n",
              "      <td>[Air particles move up and to the left., Air p...</td>\n",
              "    </tr>\n",
              "    <tr>\n",
              "      <th>4</th>\n",
              "      <td>A student plans an investigation to calculate ...</td>\n",
              "      <td>B</td>\n",
              "      <td>B</td>\n",
              "      <td>C</td>\n",
              "      <td>openai/gpt-4o-mini</td>\n",
              "      <td>[the size of each ball, the thickness of the r...</td>\n",
              "    </tr>\n",
              "  </tbody>\n",
              "</table>\n",
              "</div>"
            ],
            "text/plain": [
              "                                            question answer target score  \\\n",
              "0  A daphnia population shows a vertical migratio...      D      D     C   \n",
              "1  A daphnia population shows a vertical migratio...      B      D     I   \n",
              "2  A mass of air is at an elevation of 1000 meter...      B      B     C   \n",
              "3  A mass of air is at an elevation of 1000 meter...      D      B     I   \n",
              "4  A student plans an investigation to calculate ...      B      B     C   \n",
              "\n",
              "                 model                                            choices  \n",
              "0   openai/gpt-4o-mini  [the pH of the water, the clarity of the water...  \n",
              "1  openai/gpt-4.1-nano  [the pH of the water, the clarity of the water...  \n",
              "2   openai/gpt-4o-mini  [Air particles move up and to the left., Air p...  \n",
              "3  openai/gpt-4.1-nano  [Air particles move up and to the left., Air p...  \n",
              "4   openai/gpt-4o-mini  [the size of each ball, the thickness of the r...  "
            ]
          },
          "execution_count": 69,
          "metadata": {},
          "output_type": "execute_result"
        }
      ],
      "source": [
        "def one_off(group): #to check for one-off answers given records filtered by question\n",
        "    scores = group['score'].values\n",
        "    models = group['model'].values\n",
        "    \n",
        "    if 'C' in scores and 'I' in scores:\n",
        "        return group\n",
        "    return pd.DataFrame()\n",
        "one_off_df = df.groupby('question').apply(one_off).reset_index(drop=True)\n",
        "one_off_df.head()"
      ]
    },
    {
      "cell_type": "code",
      "execution_count": 70,
      "metadata": {},
      "outputs": [
        {
          "name": "stdout",
          "output_type": "stream",
          "text": [
            "Questions that Model 1(gpt-4.1-nano) got right that Model 2(gpt-4o-mini) didn't: 10\n",
            "Questions that Model 2(gpt-4o-mini) got right that Model 1(gpt-4.1-nano) didn't: 19\n"
          ]
        }
      ],
      "source": [
        "\"\"\"Where Model 1 > Model 2\n",
        "Model 1 : openai/gpt-4.1-nano\n",
        "Model 2 : openai/gpt-4o-mini\n",
        "\"\"\"\n",
        "m1 = 'openai/gpt-4.1-nano'\n",
        "m2 = 'openai/gpt-4o-mini'\n",
        "model1 = one_off_df[(one_off_df['model'] == m1) & (one_off_df['score'] == 'C')]\n",
        "print(\"Questions that Model 1(gpt-4.1-nano) got right that Model 2(gpt-4o-mini) didn't:\", len(model1))\n",
        "model2 = one_off_df[(one_off_df['model'] == m2) & (one_off_df['score'] == 'C')]\n",
        "print(\"Questions that Model 2(gpt-4o-mini) got right that Model 1(gpt-4.1-nano) didn't:\", len(model2))"
      ]
    },
    {
      "cell_type": "code",
      "execution_count": 71,
      "metadata": {},
      "outputs": [
        {
          "data": {
            "text/html": [
              "<div>\n",
              "<style scoped>\n",
              "    .dataframe tbody tr th:only-of-type {\n",
              "        vertical-align: middle;\n",
              "    }\n",
              "\n",
              "    .dataframe tbody tr th {\n",
              "        vertical-align: top;\n",
              "    }\n",
              "\n",
              "    .dataframe thead th {\n",
              "        text-align: right;\n",
              "    }\n",
              "</style>\n",
              "<table border=\"1\" class=\"dataframe\">\n",
              "  <thead>\n",
              "    <tr style=\"text-align: right;\">\n",
              "      <th></th>\n",
              "      <th>question</th>\n",
              "      <th>answer</th>\n",
              "      <th>target</th>\n",
              "      <th>score</th>\n",
              "      <th>model</th>\n",
              "      <th>choices</th>\n",
              "    </tr>\n",
              "  </thead>\n",
              "  <tbody>\n",
              "    <tr>\n",
              "      <th>11</th>\n",
              "      <td>An animal has six legs. What is it most likely...</td>\n",
              "      <td>B</td>\n",
              "      <td>B</td>\n",
              "      <td>C</td>\n",
              "      <td>openai/gpt-4.1-nano</td>\n",
              "      <td>[a spider, a fly, a lizard, a centipede]</td>\n",
              "    </tr>\n",
              "    <tr>\n",
              "      <th>21</th>\n",
              "      <td>In an automobile, which of the following compo...</td>\n",
              "      <td>B</td>\n",
              "      <td>B</td>\n",
              "      <td>C</td>\n",
              "      <td>openai/gpt-4.1-nano</td>\n",
              "      <td>[steering wheel, speedometer, brake pedal, car...</td>\n",
              "    </tr>\n",
              "    <tr>\n",
              "      <th>25</th>\n",
              "      <td>Many natural resources are found in Maryland a...</td>\n",
              "      <td>C</td>\n",
              "      <td>C</td>\n",
              "      <td>C</td>\n",
              "      <td>openai/gpt-4.1-nano</td>\n",
              "      <td>[reduces air pollution, increases soil erosion...</td>\n",
              "    </tr>\n",
              "    <tr>\n",
              "      <th>27</th>\n",
              "      <td>Ocean tides of Earth are strongly influenced b...</td>\n",
              "      <td>D</td>\n",
              "      <td>D</td>\n",
              "      <td>C</td>\n",
              "      <td>openai/gpt-4.1-nano</td>\n",
              "      <td>[full and first quarter, full moon and new moo...</td>\n",
              "    </tr>\n",
              "    <tr>\n",
              "      <th>35</th>\n",
              "      <td>Tracey was learning about structural organizat...</td>\n",
              "      <td>A</td>\n",
              "      <td>A</td>\n",
              "      <td>C</td>\n",
              "      <td>openai/gpt-4.1-nano</td>\n",
              "      <td>[a cell, a tissue, a system, an organ]</td>\n",
              "    </tr>\n",
              "    <tr>\n",
              "      <th>39</th>\n",
              "      <td>When a bowling ball is released from a bowler'...</td>\n",
              "      <td>D</td>\n",
              "      <td>D</td>\n",
              "      <td>C</td>\n",
              "      <td>openai/gpt-4.1-nano</td>\n",
              "      <td>[stored in the ball until it hits the pins., i...</td>\n",
              "    </tr>\n",
              "    <tr>\n",
              "      <th>43</th>\n",
              "      <td>Which is not a safety rule for the science lab?</td>\n",
              "      <td>A</td>\n",
              "      <td>A</td>\n",
              "      <td>C</td>\n",
              "      <td>openai/gpt-4.1-nano</td>\n",
              "      <td>[Measure liquids accurately into a beaker., Ne...</td>\n",
              "    </tr>\n",
              "    <tr>\n",
              "      <th>47</th>\n",
              "      <td>Which of the following stream characteristics ...</td>\n",
              "      <td>A</td>\n",
              "      <td>A</td>\n",
              "      <td>C</td>\n",
              "      <td>openai/gpt-4.1-nano</td>\n",
              "      <td>[gradient, elevation, base level, water quality]</td>\n",
              "    </tr>\n",
              "    <tr>\n",
              "      <th>49</th>\n",
              "      <td>Which of these behaviors did a bear most likel...</td>\n",
              "      <td>C</td>\n",
              "      <td>C</td>\n",
              "      <td>C</td>\n",
              "      <td>openai/gpt-4.1-nano</td>\n",
              "      <td>[drinking water, eating fish, opening garbage ...</td>\n",
              "    </tr>\n",
              "    <tr>\n",
              "      <th>55</th>\n",
              "      <td>Which statement describes asteroids and comets?</td>\n",
              "      <td>B</td>\n",
              "      <td>B</td>\n",
              "      <td>C</td>\n",
              "      <td>openai/gpt-4.1-nano</td>\n",
              "      <td>[Asteroids are gaseous, and comets are solid.,...</td>\n",
              "    </tr>\n",
              "  </tbody>\n",
              "</table>\n",
              "</div>"
            ],
            "text/plain": [
              "                                             question answer target score  \\\n",
              "11  An animal has six legs. What is it most likely...      B      B     C   \n",
              "21  In an automobile, which of the following compo...      B      B     C   \n",
              "25  Many natural resources are found in Maryland a...      C      C     C   \n",
              "27  Ocean tides of Earth are strongly influenced b...      D      D     C   \n",
              "35  Tracey was learning about structural organizat...      A      A     C   \n",
              "39  When a bowling ball is released from a bowler'...      D      D     C   \n",
              "43    Which is not a safety rule for the science lab?      A      A     C   \n",
              "47  Which of the following stream characteristics ...      A      A     C   \n",
              "49  Which of these behaviors did a bear most likel...      C      C     C   \n",
              "55    Which statement describes asteroids and comets?      B      B     C   \n",
              "\n",
              "                  model                                            choices  \n",
              "11  openai/gpt-4.1-nano           [a spider, a fly, a lizard, a centipede]  \n",
              "21  openai/gpt-4.1-nano  [steering wheel, speedometer, brake pedal, car...  \n",
              "25  openai/gpt-4.1-nano  [reduces air pollution, increases soil erosion...  \n",
              "27  openai/gpt-4.1-nano  [full and first quarter, full moon and new moo...  \n",
              "35  openai/gpt-4.1-nano             [a cell, a tissue, a system, an organ]  \n",
              "39  openai/gpt-4.1-nano  [stored in the ball until it hits the pins., i...  \n",
              "43  openai/gpt-4.1-nano  [Measure liquids accurately into a beaker., Ne...  \n",
              "47  openai/gpt-4.1-nano   [gradient, elevation, base level, water quality]  \n",
              "49  openai/gpt-4.1-nano  [drinking water, eating fish, opening garbage ...  \n",
              "55  openai/gpt-4.1-nano  [Asteroids are gaseous, and comets are solid.,...  "
            ]
          },
          "execution_count": 71,
          "metadata": {},
          "output_type": "execute_result"
        }
      ],
      "source": [
        "model1"
      ]
    },
    {
      "cell_type": "code",
      "execution_count": 127,
      "metadata": {},
      "outputs": [
        {
          "data": {
            "text/plain": [
              "['A daphnia population shows a vertical migration from the bottom of a one-meter-deep pond during the day to the surface of the pond at night. To which factor is the daphnia population most likely responding?',\n",
              " 'A mass of air is at an elevation of 1000 meters in the low pressure center of a Northern Hemisphere storm. Which of the following best describes the motion of air particles in this air mass due to storm conditions and the rotation of Earth as the air mass moves outward?',\n",
              " 'A student plans an investigation to calculate the speeds of different balls as they roll down a ramp. Which piece of information is least necessary for the student to record?',\n",
              " 'A student removes an ice cube tray from the freezer and places it on a table. The ice cubes are solid and cold. The student forgets to put the ice cube tray back into the freezer. The next day, the ice cubes should be',\n",
              " 'After the last ice age, the melting of the polar and mountain ice caps caused the water levels of the oceans to rise. Which most likely resulted from the rising of ocean water levels?',\n",
              " 'Different species of herbivorous rodents lived in the same ecosystem. Which factor most likely increased, causing more competition for resources among the rodents?',\n",
              " 'Elephants on the African savanna eat shrubs and small trees. This behavior clears land and enables grass to grow. Grazers such as gazelles eat the grass. Lions prey on the gazelles. Which two organisms in this scenario are in the most cooperative relationship?',\n",
              " 'Geologists have identified seven major tectonic plates at the surface of Earth. Which evidence best indicates that tectonic plates collide?',\n",
              " 'Human actions affect the environment. Which human action affects the smallest area of the environment?',\n",
              " 'Jose has two bar magnets. He pushes the ends of the two magnets together and then he lets go. The magnets move quickly apart. Which of the following statements best explains why this happens?',\n",
              " \"Some scientists theorize plate motion could alter the level of water in Earth's seas. How would the nature of plate motion limit the possible changes in sea level?\",\n",
              " 'The Humboldt River Basin is one of the most important sources of several nonrenewable resources. Which of these nonrenewable resources is produced from the Humboldt River Basin?',\n",
              " 'The current, dominant theory of the origin of life on Earth depends on prebiotic substances that developed which property first?',\n",
              " 'What best describes the electrical property of an atom?',\n",
              " 'Which characteristic applies to animals in only one of these taxonomic groups: reptiles, mammals, birds, amphibians, or fishes?',\n",
              " 'Which of the following organs is NOT situated in the abdomen?',\n",
              " 'Which of these is true of algae, bacteria, and flowering plants?',\n",
              " 'Which of these natural disasters are the most unpredictable?',\n",
              " 'Which trait of a pet dog is inherited?']"
            ]
          },
          "execution_count": 127,
          "metadata": {},
          "output_type": "execute_result"
        }
      ],
      "source": [
        "model2.question.to_list()"
      ]
    },
    {
      "cell_type": "code",
      "execution_count": 72,
      "metadata": {},
      "outputs": [
        {
          "name": "stdout",
          "output_type": "stream",
          "text": [
            "avg len of questions that mini got wrong:  133.82608695652175\n",
            "avg len of questions that nano got wrong:  146.21052631578948\n"
          ]
        }
      ],
      "source": [
        "\"\"\"Analysis : Length\"\"\"\n",
        "\n",
        "\"\"\"\n",
        "1) Questions that nano got right but mini struggled with:\n",
        "\"\"\"\n",
        "#avg len of questions that mini got wrong\n",
        "len1 = (df[\"question\"].apply(lambda x:len(str(x))))\n",
        "length_avg_mini = len1.mean()\n",
        "#avg len of questions that nano got wrong\n",
        "len2 = (model2[\"question\"].apply(lambda x:len(str(x))))\n",
        "length_avg_nano = len2.mean()\n",
        "\n",
        "print(\"avg len of questions that mini got wrong: \", length_avg_mini)\n",
        "print(\"avg len of questions that nano got wrong: \", length_avg_nano)"
      ]
    },
    {
      "cell_type": "code",
      "execution_count": 73,
      "metadata": {},
      "outputs": [],
      "source": [
        "# "
      ]
    },
    {
      "cell_type": "markdown",
      "metadata": {},
      "source": [
        "#### Extract Questions : both get wrong"
      ]
    },
    {
      "cell_type": "code",
      "execution_count": 74,
      "metadata": {},
      "outputs": [
        {
          "name": "stderr",
          "output_type": "stream",
          "text": [
            "C:\\Users\\18055\\AppData\\Local\\Temp\\ipykernel_10360\\2108156291.py:8: FutureWarning: DataFrameGroupBy.apply operated on the grouping columns. This behavior is deprecated, and in a future version of pandas the grouping columns will be excluded from the operation. Either pass `include_groups=False` to exclude the groupings or explicitly select the grouping columns after groupby to silence this warning.\n",
            "  both_off_df = (df.groupby('question').apply(both_off).reset_index(drop=True))\n"
          ]
        },
        {
          "data": {
            "text/html": [
              "<div>\n",
              "<style scoped>\n",
              "    .dataframe tbody tr th:only-of-type {\n",
              "        vertical-align: middle;\n",
              "    }\n",
              "\n",
              "    .dataframe tbody tr th {\n",
              "        vertical-align: top;\n",
              "    }\n",
              "\n",
              "    .dataframe thead th {\n",
              "        text-align: right;\n",
              "    }\n",
              "</style>\n",
              "<table border=\"1\" class=\"dataframe\">\n",
              "  <thead>\n",
              "    <tr style=\"text-align: right;\">\n",
              "      <th></th>\n",
              "      <th>question</th>\n",
              "      <th>answer</th>\n",
              "      <th>target</th>\n",
              "      <th>score</th>\n",
              "      <th>model</th>\n",
              "      <th>choices</th>\n",
              "    </tr>\n",
              "  </thead>\n",
              "  <tbody>\n",
              "    <tr>\n",
              "      <th>0</th>\n",
              "      <td>A group of students is investigating two subst...</td>\n",
              "      <td>A</td>\n",
              "      <td>D</td>\n",
              "      <td>I</td>\n",
              "      <td>openai/gpt-4o-mini</td>\n",
              "      <td>[by noticing if they dissolve in water, by stu...</td>\n",
              "    </tr>\n",
              "    <tr>\n",
              "      <th>2</th>\n",
              "      <td>A microscope magnifies an object with 50x magn...</td>\n",
              "      <td>B</td>\n",
              "      <td>D</td>\n",
              "      <td>I</td>\n",
              "      <td>openai/gpt-4o-mini</td>\n",
              "      <td>[100 cm, 25 cm, 2.5 cm, 0.01 cm]</td>\n",
              "    </tr>\n",
              "    <tr>\n",
              "      <th>3</th>\n",
              "      <td>A microscope magnifies an object with 50x magn...</td>\n",
              "      <td>C</td>\n",
              "      <td>D</td>\n",
              "      <td>I</td>\n",
              "      <td>openai/gpt-4.1-nano</td>\n",
              "      <td>[100 cm, 25 cm, 2.5 cm, 0.01 cm]</td>\n",
              "    </tr>\n",
              "    <tr>\n",
              "      <th>4</th>\n",
              "      <td>A particular habitat has experienced many chan...</td>\n",
              "      <td>C</td>\n",
              "      <td>D</td>\n",
              "      <td>I</td>\n",
              "      <td>openai/gpt-4o-mini</td>\n",
              "      <td>[a population with many individuals, great spe...</td>\n",
              "    </tr>\n",
              "    <tr>\n",
              "      <th>6</th>\n",
              "      <td>During an investigation, heat transferred from...</td>\n",
              "      <td>C</td>\n",
              "      <td>D</td>\n",
              "      <td>I</td>\n",
              "      <td>openai/gpt-4o-mini</td>\n",
              "      <td>[The temperature of the liquid increased, or t...</td>\n",
              "    </tr>\n",
              "    <tr>\n",
              "      <th>8</th>\n",
              "      <td>For a science activity, Mia had to draw a pict...</td>\n",
              "      <td>B</td>\n",
              "      <td>D</td>\n",
              "      <td>I</td>\n",
              "      <td>openai/gpt-4o-mini</td>\n",
              "      <td>[gibbous, full moon, new moon, first quarter]</td>\n",
              "    </tr>\n",
              "    <tr>\n",
              "      <th>9</th>\n",
              "      <td>For a science activity, Mia had to draw a pict...</td>\n",
              "      <td>C</td>\n",
              "      <td>D</td>\n",
              "      <td>I</td>\n",
              "      <td>openai/gpt-4.1-nano</td>\n",
              "      <td>[gibbous, full moon, new moon, first quarter]</td>\n",
              "    </tr>\n",
              "    <tr>\n",
              "      <th>10</th>\n",
              "      <td>In what way can soil nutrients in agricultural...</td>\n",
              "      <td>A</td>\n",
              "      <td>C</td>\n",
              "      <td>I</td>\n",
              "      <td>openai/gpt-4o-mini</td>\n",
              "      <td>[overgrazing, wind erosion, increased irrigati...</td>\n",
              "    </tr>\n",
              "    <tr>\n",
              "      <th>11</th>\n",
              "      <td>In what way can soil nutrients in agricultural...</td>\n",
              "      <td>B</td>\n",
              "      <td>C</td>\n",
              "      <td>I</td>\n",
              "      <td>openai/gpt-4.1-nano</td>\n",
              "      <td>[overgrazing, wind erosion, increased irrigati...</td>\n",
              "    </tr>\n",
              "    <tr>\n",
              "      <th>12</th>\n",
              "      <td>Of the choices listed, which represents the na...</td>\n",
              "      <td>B</td>\n",
              "      <td>D</td>\n",
              "      <td>I</td>\n",
              "      <td>openai/gpt-4o-mini</td>\n",
              "      <td>[reading a book about a prairie dog community,...</td>\n",
              "    </tr>\n",
              "    <tr>\n",
              "      <th>14</th>\n",
              "      <td>The most likely reason sound travels faster in...</td>\n",
              "      <td>A</td>\n",
              "      <td>C</td>\n",
              "      <td>I</td>\n",
              "      <td>openai/gpt-4o-mini</td>\n",
              "      <td>[is more elastic., absorbs heat faster., has a...</td>\n",
              "    </tr>\n",
              "    <tr>\n",
              "      <th>16</th>\n",
              "      <td>The shape of plants' leaves that survive well ...</td>\n",
              "      <td>C</td>\n",
              "      <td>B</td>\n",
              "      <td>I</td>\n",
              "      <td>openai/gpt-4o-mini</td>\n",
              "      <td>[red and shiny., wide and flat., thick and wax...</td>\n",
              "    </tr>\n",
              "    <tr>\n",
              "      <th>18</th>\n",
              "      <td>What is the best practice to follow when compl...</td>\n",
              "      <td>C</td>\n",
              "      <td>D</td>\n",
              "      <td>I</td>\n",
              "      <td>openai/gpt-4o-mini</td>\n",
              "      <td>[using caution when handling hot glassware, tu...</td>\n",
              "    </tr>\n",
              "    <tr>\n",
              "      <th>20</th>\n",
              "      <td>Which best demonstrates that waves transfer en...</td>\n",
              "      <td>D</td>\n",
              "      <td>A</td>\n",
              "      <td>I</td>\n",
              "      <td>openai/gpt-4o-mini</td>\n",
              "      <td>[a bell ringing in a tower, a leaf falling fro...</td>\n",
              "    </tr>\n",
              "    <tr>\n",
              "      <th>22</th>\n",
              "      <td>Which event most likely allowed for the explos...</td>\n",
              "      <td>D</td>\n",
              "      <td>C</td>\n",
              "      <td>I</td>\n",
              "      <td>openai/gpt-4o-mini</td>\n",
              "      <td>[formation of the supercontinent Pangea, inten...</td>\n",
              "    </tr>\n",
              "    <tr>\n",
              "      <th>24</th>\n",
              "      <td>Which phase of the Moon occurs after a waxing ...</td>\n",
              "      <td>A</td>\n",
              "      <td>C</td>\n",
              "      <td>I</td>\n",
              "      <td>openai/gpt-4o-mini</td>\n",
              "      <td>[waning gibbous, waxing crescent, full moon, n...</td>\n",
              "    </tr>\n",
              "    <tr>\n",
              "      <th>26</th>\n",
              "      <td>Why is the output energy of a machine always l...</td>\n",
              "      <td>D</td>\n",
              "      <td>C</td>\n",
              "      <td>I</td>\n",
              "      <td>openai/gpt-4o-mini</td>\n",
              "      <td>[Some of the energy is destroyed as the machin...</td>\n",
              "    </tr>\n",
              "  </tbody>\n",
              "</table>\n",
              "</div>"
            ],
            "text/plain": [
              "                                             question answer target score  \\\n",
              "0   A group of students is investigating two subst...      A      D     I   \n",
              "2   A microscope magnifies an object with 50x magn...      B      D     I   \n",
              "3   A microscope magnifies an object with 50x magn...      C      D     I   \n",
              "4   A particular habitat has experienced many chan...      C      D     I   \n",
              "6   During an investigation, heat transferred from...      C      D     I   \n",
              "8   For a science activity, Mia had to draw a pict...      B      D     I   \n",
              "9   For a science activity, Mia had to draw a pict...      C      D     I   \n",
              "10  In what way can soil nutrients in agricultural...      A      C     I   \n",
              "11  In what way can soil nutrients in agricultural...      B      C     I   \n",
              "12  Of the choices listed, which represents the na...      B      D     I   \n",
              "14  The most likely reason sound travels faster in...      A      C     I   \n",
              "16  The shape of plants' leaves that survive well ...      C      B     I   \n",
              "18  What is the best practice to follow when compl...      C      D     I   \n",
              "20  Which best demonstrates that waves transfer en...      D      A     I   \n",
              "22  Which event most likely allowed for the explos...      D      C     I   \n",
              "24  Which phase of the Moon occurs after a waxing ...      A      C     I   \n",
              "26  Why is the output energy of a machine always l...      D      C     I   \n",
              "\n",
              "                  model                                            choices  \n",
              "0    openai/gpt-4o-mini  [by noticing if they dissolve in water, by stu...  \n",
              "2    openai/gpt-4o-mini                   [100 cm, 25 cm, 2.5 cm, 0.01 cm]  \n",
              "3   openai/gpt-4.1-nano                   [100 cm, 25 cm, 2.5 cm, 0.01 cm]  \n",
              "4    openai/gpt-4o-mini  [a population with many individuals, great spe...  \n",
              "6    openai/gpt-4o-mini  [The temperature of the liquid increased, or t...  \n",
              "8    openai/gpt-4o-mini      [gibbous, full moon, new moon, first quarter]  \n",
              "9   openai/gpt-4.1-nano      [gibbous, full moon, new moon, first quarter]  \n",
              "10   openai/gpt-4o-mini  [overgrazing, wind erosion, increased irrigati...  \n",
              "11  openai/gpt-4.1-nano  [overgrazing, wind erosion, increased irrigati...  \n",
              "12   openai/gpt-4o-mini  [reading a book about a prairie dog community,...  \n",
              "14   openai/gpt-4o-mini  [is more elastic., absorbs heat faster., has a...  \n",
              "16   openai/gpt-4o-mini  [red and shiny., wide and flat., thick and wax...  \n",
              "18   openai/gpt-4o-mini  [using caution when handling hot glassware, tu...  \n",
              "20   openai/gpt-4o-mini  [a bell ringing in a tower, a leaf falling fro...  \n",
              "22   openai/gpt-4o-mini  [formation of the supercontinent Pangea, inten...  \n",
              "24   openai/gpt-4o-mini  [waning gibbous, waxing crescent, full moon, n...  \n",
              "26   openai/gpt-4o-mini  [Some of the energy is destroyed as the machin...  "
            ]
          },
          "execution_count": 74,
          "metadata": {},
          "output_type": "execute_result"
        }
      ],
      "source": [
        "def both_off(group): #to check for one-off answers given records filtered by question\n",
        "    scores = group['score'].values\n",
        "    models = group['model'].values\n",
        "    \n",
        "    if 'C' not in scores :\n",
        "        return group\n",
        "    return pd.DataFrame()\n",
        "both_off_df = (df.groupby('question').apply(both_off).reset_index(drop=True))\n",
        "both_off_df = both_off_df.drop_duplicates(subset=['question', 'answer']) #ignore duplicate vals where both models answered with the same wrong answer.\n",
        "both_off_df"
      ]
    },
    {
      "cell_type": "code",
      "execution_count": 75,
      "metadata": {},
      "outputs": [
        {
          "data": {
            "text/html": [
              "<div>\n",
              "<style scoped>\n",
              "    .dataframe tbody tr th:only-of-type {\n",
              "        vertical-align: middle;\n",
              "    }\n",
              "\n",
              "    .dataframe tbody tr th {\n",
              "        vertical-align: top;\n",
              "    }\n",
              "\n",
              "    .dataframe thead th {\n",
              "        text-align: right;\n",
              "    }\n",
              "</style>\n",
              "<table border=\"1\" class=\"dataframe\">\n",
              "  <thead>\n",
              "    <tr style=\"text-align: right;\">\n",
              "      <th></th>\n",
              "      <th>question</th>\n",
              "      <th>answer</th>\n",
              "      <th>target</th>\n",
              "      <th>score</th>\n",
              "      <th>model</th>\n",
              "      <th>choices</th>\n",
              "    </tr>\n",
              "  </thead>\n",
              "  <tbody>\n",
              "    <tr>\n",
              "      <th>2</th>\n",
              "      <td>A microscope magnifies an object with 50x magn...</td>\n",
              "      <td>B</td>\n",
              "      <td>D</td>\n",
              "      <td>I</td>\n",
              "      <td>openai/gpt-4o-mini</td>\n",
              "      <td>[100 cm, 25 cm, 2.5 cm, 0.01 cm]</td>\n",
              "    </tr>\n",
              "    <tr>\n",
              "      <th>3</th>\n",
              "      <td>A microscope magnifies an object with 50x magn...</td>\n",
              "      <td>C</td>\n",
              "      <td>D</td>\n",
              "      <td>I</td>\n",
              "      <td>openai/gpt-4.1-nano</td>\n",
              "      <td>[100 cm, 25 cm, 2.5 cm, 0.01 cm]</td>\n",
              "    </tr>\n",
              "    <tr>\n",
              "      <th>8</th>\n",
              "      <td>For a science activity, Mia had to draw a pict...</td>\n",
              "      <td>B</td>\n",
              "      <td>D</td>\n",
              "      <td>I</td>\n",
              "      <td>openai/gpt-4o-mini</td>\n",
              "      <td>[gibbous, full moon, new moon, first quarter]</td>\n",
              "    </tr>\n",
              "    <tr>\n",
              "      <th>9</th>\n",
              "      <td>For a science activity, Mia had to draw a pict...</td>\n",
              "      <td>C</td>\n",
              "      <td>D</td>\n",
              "      <td>I</td>\n",
              "      <td>openai/gpt-4.1-nano</td>\n",
              "      <td>[gibbous, full moon, new moon, first quarter]</td>\n",
              "    </tr>\n",
              "    <tr>\n",
              "      <th>10</th>\n",
              "      <td>In what way can soil nutrients in agricultural...</td>\n",
              "      <td>A</td>\n",
              "      <td>C</td>\n",
              "      <td>I</td>\n",
              "      <td>openai/gpt-4o-mini</td>\n",
              "      <td>[overgrazing, wind erosion, increased irrigati...</td>\n",
              "    </tr>\n",
              "    <tr>\n",
              "      <th>11</th>\n",
              "      <td>In what way can soil nutrients in agricultural...</td>\n",
              "      <td>B</td>\n",
              "      <td>C</td>\n",
              "      <td>I</td>\n",
              "      <td>openai/gpt-4.1-nano</td>\n",
              "      <td>[overgrazing, wind erosion, increased irrigati...</td>\n",
              "    </tr>\n",
              "  </tbody>\n",
              "</table>\n",
              "</div>"
            ],
            "text/plain": [
              "                                             question answer target score  \\\n",
              "2   A microscope magnifies an object with 50x magn...      B      D     I   \n",
              "3   A microscope magnifies an object with 50x magn...      C      D     I   \n",
              "8   For a science activity, Mia had to draw a pict...      B      D     I   \n",
              "9   For a science activity, Mia had to draw a pict...      C      D     I   \n",
              "10  In what way can soil nutrients in agricultural...      A      C     I   \n",
              "11  In what way can soil nutrients in agricultural...      B      C     I   \n",
              "\n",
              "                  model                                            choices  \n",
              "2    openai/gpt-4o-mini                   [100 cm, 25 cm, 2.5 cm, 0.01 cm]  \n",
              "3   openai/gpt-4.1-nano                   [100 cm, 25 cm, 2.5 cm, 0.01 cm]  \n",
              "8    openai/gpt-4o-mini      [gibbous, full moon, new moon, first quarter]  \n",
              "9   openai/gpt-4.1-nano      [gibbous, full moon, new moon, first quarter]  \n",
              "10   openai/gpt-4o-mini  [overgrazing, wind erosion, increased irrigati...  \n",
              "11  openai/gpt-4.1-nano  [overgrazing, wind erosion, increased irrigati...  "
            ]
          },
          "execution_count": 75,
          "metadata": {},
          "output_type": "execute_result"
        }
      ],
      "source": [
        "\"\"\"Where both answer with the same wrong answer\"\"\"\n",
        "#will have only 1 record - with the answer being that chosen by both models\n",
        "\n",
        "\"\"\"Where both are wrong but offer different answers\"\"\"\n",
        "\n",
        "both_off_df[both_off_df.duplicated(subset=['question'], keep=False)]\n"
      ]
    },
    {
      "cell_type": "code",
      "execution_count": 76,
      "metadata": {},
      "outputs": [
        {
          "name": "stdout",
          "output_type": "stream",
          "text": [
            "A group of students is investigating two substances to determine which is table salt and which is table sugar. How would the students best identify each substance? ['by noticing if they dissolve in water', 'by studying the color of the substance', 'by observing if they stick to a surface', 'by examining the shape of the crystal']\n",
            "A microscope magnifies an object with 50x magnification. How long is the object if the image appears to be 0.5 cm long? ['100 cm', '25 cm', '2.5 cm', '0.01 cm']\n",
            "A microscope magnifies an object with 50x magnification. How long is the object if the image appears to be 0.5 cm long? ['100 cm', '25 cm', '2.5 cm', '0.01 cm']\n",
            "A particular habitat has experienced many changes in environmental conditions over the last 75 years. Which is most likely a characteristic of a species that has the best chance to survive these environmental changes? ['a population with many individuals', 'great species diversity in the present community', 'adaptations that allow individuals to live in a variety of conditions', 'behaviors that promote the development of adaptations in new environments']\n",
            "During an investigation, heat transferred from a liquid to the environment. Which pair of explanations can best account for this result? ['The temperature of the liquid increased, or the liquid became a gas.', 'The temperature of the liquid increased, or the liquid became a solid.', 'The temperature of the liquid decreased, or the liquid became a gas.', 'The temperature of the liquid decreased, or the liquid became a solid.']\n",
            "For a science activity, Mia had to draw a picture of the Moon each night. If Mia drew a new moon, what type of moon did Mia draw about one week later? ['gibbous', 'full moon', 'new moon', 'first quarter']\n",
            "For a science activity, Mia had to draw a picture of the Moon each night. If Mia drew a new moon, what type of moon did Mia draw about one week later? ['gibbous', 'full moon', 'new moon', 'first quarter']\n",
            "In what way can soil nutrients in agricultural ground be depleted? ['overgrazing', 'wind erosion', 'increased irrigating', 'increased fertilization']\n",
            "In what way can soil nutrients in agricultural ground be depleted? ['overgrazing', 'wind erosion', 'increased irrigating', 'increased fertilization']\n",
            "Of the choices listed, which represents the natural world using a model? ['reading a book about a prairie dog community', 'looking at a picture of a prairie dog community', 'researching a prairie dog community using the Internet', 'observing a prairie dog community in an exhibit at the zoo']\n",
            "The most likely reason sound travels faster in saltwater than in freshwater is that saltwater ['is more elastic.', 'absorbs heat faster.', 'has a higher density.', 'reflects sound better.']\n",
            "The shape of plants' leaves that survive well in a rainy climate are most often ['red and shiny.', 'wide and flat.', 'thick and waxy.', 'sharp and narrow.']\n",
            "What is the best practice to follow when completing an experiment? ['using caution when handling hot glassware', 'turning off burners when you are not using them', 'studying lab procedures prior to conducting the experiment', 'checking with your teacher on the procedure to dispose of chemicals']\n",
            "Which best demonstrates that waves transfer energy? ['a bell ringing in a tower', 'a leaf falling from a tree', 'a ball rolling down a hill', 'a flag moving in the wind']\n",
            "Which event most likely allowed for the explosion of mammal diversity that occurred during the Cretaceous period? ['formation of the supercontinent Pangea', 'intense volcanic activity', 'cooler temperatures', 'rising sea levels']\n",
            "Which phase of the Moon occurs after a waxing gibbous? ['waning gibbous', 'waxing crescent', 'full moon', 'new moon']\n",
            "Why is the output energy of a machine always less than the input energy? ['Some of the energy is destroyed as the machine operates.', 'The machine must overcome the constant force of magnetism.', 'Useful energy decreases as energy is transferred to the surroundings.', 'Some of the energy is released as heat when converted.']\n"
          ]
        }
      ],
      "source": [
        "\"\"\"Analysing Questions Quality for all that both got wrong\"\"\"\n",
        "for q, c in zip((both_off_df.question), both_off_df.choices):\n",
        "    print(q, c)"
      ]
    },
    {
      "cell_type": "markdown",
      "metadata": {},
      "source": [
        "Accuracies:\n",
        "[('openai/gpt-4o-mini', 0.919732441471572),\n",
        " ('openai/gpt-4.1-nano', 0.8896321070234113)]\n",
        "\n",
        "1. Some questions, both the models get wrong - most times with the same wrong answer - but sometimes (~3/14) answer with 2 different wrong options.\n",
        "\n",
        "2. In cases where 1 models gets the correct answer and the other doesnt:\n",
        "    Questions that Model 1(gpt-4.1-nano) got right that Model 2(gpt-4o-mini) didn't: 10\n",
        "    Questions that Model 2(gpt-4o-mini) got right that Model 1(gpt-4.1-nano) didn't: 19\n",
        "\n",
        "\n",
        "\n",
        "\n",
        "3. Specific Questions and what might be going wrong:\n",
        "\n",
        "- A microscope magnifies an object with 50x magnification. How long is the object if the image appears to be 0.5 cm long? ['100 cm', '25 cm', '2.5 cm', '0.01 cm']\n",
        "^ involves math \n",
        "\n",
        "- Certain questions like the following, the model gets right, but the options themselves are wrong.:\n",
        " In a car accident, a seat belt helps prevent injuries by applying a force\n",
        "\n",
        "    '1) less than the force of the moving passenger', '2) greater than the force of the moving car', \"3) in the same direction as the car's motion\", \"4) in the opposite direction of the passenger's motion\"\n",
        "\n",
        "    The model answers 4 which is essentially D - the target. Was this set up on purpose to check for over-fitting? Is this expected behaviour?\n",
        "\n",
        "\n",
        "\n"
      ]
    },
    {
      "cell_type": "markdown",
      "metadata": {},
      "source": [
        "# Part C"
      ]
    },
    {
      "cell_type": "markdown",
      "metadata": {},
      "source": [
        "## LogProbs"
      ]
    },
    {
      "cell_type": "markdown",
      "metadata": {},
      "source": [
        "### Custom Solvers"
      ]
    },
    {
      "cell_type": "code",
      "execution_count": 77,
      "metadata": {},
      "outputs": [],
      "source": [
        "SINGLE_ANSWER_TEMPLATE = r\"\"\"\n",
        "Answer the following multiple choice question. The entire content of your response should be of the following format: 'LETTER' (without quotes) where LETTER is one of {letters}.\n",
        "\n",
        "{question}\n",
        "\n",
        "{choices}\n",
        "\"\"\".strip()\n",
        "\n"
      ]
    },
    {
      "cell_type": "code",
      "execution_count": 78,
      "metadata": {},
      "outputs": [],
      "source": [
        "@solver\n",
        "def mcq_user_message() -> Solver:\n",
        "    async def solve(state: TaskState, generate: Generate) -> TaskState:\n",
        "        ch = [choice.value for choice in state.choices]\n",
        "        l=state.metadata['labels']\n",
        "        letters = \",\".join(l)\n",
        "        choices = [l[i]+') '+ch[i] for i in range(len(ch))] \n",
        "        # choices = dict(zip(letters, ch))\n",
        "        # choices = ch\n",
        "        state.user_prompt.text = SINGLE_ANSWER_TEMPLATE.format(question=state.user_prompt.text, \n",
        "                                                               choices=choices,\n",
        "                                                               letters=letters)\n",
        "        # print(state.user_prompt.text)\n",
        "\n",
        "        return state\n",
        "\n",
        "    return solve\n"
      ]
    },
    {
      "cell_type": "code",
      "execution_count": null,
      "metadata": {},
      "outputs": [],
      "source": [
        "def logprobs_generate(model_name=\"gpt-4\", topk=4):\n",
        "    @solver\n",
        "    def _logprobs_generate():\n",
        "        async def solve(state, generate):\n",
        "            client = AsyncOpenAI()\n",
        "            messages = [{\"role\": \"user\", \"content\": state.user_prompt.text}]\n",
        "            \n",
        "            response = await client.chat.completions.create(\n",
        "                model=model_name,\n",
        "                messages=messages,\n",
        "                logprobs=True,\n",
        "                top_logprobs=topk,\n",
        "            )\n",
        "\n",
        "            state.output.completion = response.choices[0].message.content\n",
        "\n",
        "            # print(state.output.completion)\n",
        "            \n",
        "            if response.choices[0].logprobs:\n",
        "                logprobs_data = []\n",
        "                for token in response.choices[0].logprobs.content:\n",
        "                    logprobs_data.append({\n",
        "                        'token': token.token,\n",
        "                        'logprob': token.logprob,\n",
        "                        'bytes': token.bytes,\n",
        "                        'top_logprobs': [\n",
        "                            {'token': t.token, 'logprob': t.logprob, 'bytes': t.bytes}\n",
        "                            for t in token.top_logprobs\n",
        "                        ] if token.top_logprobs else []\n",
        "                    })\n",
        "                \n",
        "                # Store as plain dict to avoid serialization issues\n",
        "                state.metadata['logprobs'] = logprobs_data\n",
        "            \n",
        "            return state\n",
        "\n",
        "        return solve\n",
        "    \n",
        "    return _logprobs_generate()\n",
        "\n"
      ]
    },
    {
      "cell_type": "markdown",
      "metadata": {},
      "source": [
        "### Custom Scorers"
      ]
    },
    {
      "cell_type": "code",
      "execution_count": 80,
      "metadata": {},
      "outputs": [],
      "source": [
        "def linear_probability(logprob):\n",
        "    return (np.exp(logprob))\n"
      ]
    },
    {
      "cell_type": "code",
      "execution_count": 81,
      "metadata": {},
      "outputs": [],
      "source": [
        "@scorer(metrics=[accuracy(), stderr()])\n",
        "def mcq_scorer() -> Scorer:\n",
        "    async def score(state: TaskState, target: Target) -> Score:\n",
        "        choices = [choice.value for choice in state.choices]\n",
        "        letters=state.metadata['labels']\n",
        "        explanation = state.output.completion\n",
        "        tar = state.target\n",
        "        logprobs = state.metadata['logprobs']\n",
        "\n",
        "\n",
        "        explanation = explanation.strip().lower()\n",
        "        target_matches_choices = ((target.text).strip().lower()) == (explanation)\n",
        "        answers = [lp['token'] for lp in logprobs]\n",
        "        \n",
        "        # print(state.output.completion, explanation, target.text, ((target.text).strip().lower()), target_matches_choices)\n",
        "        # print(logprobs)\n",
        "        \n",
        "        topks = [(lp['token'].strip().upper(), lp['logprob']) for lp in logprobs[0]['top_logprobs']]\n",
        "        topk_toks = {}\n",
        "        for (ans, lp) in topks:\n",
        "            if ans in letters and ans not in topk_toks:\n",
        "                topk_toks[ans] = lp\n",
        "\n",
        "        state.metadata['topk'] = topk_toks\n",
        "\n",
        "        probs = {} #all probs from lp\n",
        "        for tok, lp in topk_toks.items():\n",
        "            probs[tok] = linear_probability(lp)\n",
        "        state.metadata['linprobs'] = probs\n",
        "        \n",
        "        return Score(\n",
        "        value=CORRECT if target_matches_choices else INCORRECT,\n",
        "        answer=\", \".join(answers),\n",
        "        explanation=explanation,\n",
        "    )\n",
        "    return score\n",
        "\n",
        "\"\"\"Greedy Pick - ie., acc and stderr of the ans its most confdent in\"\"\"\n",
        "@scorer(metrics=[accuracy(), stderr()])\n",
        "def greedy_scorer()-> Scorer:\n",
        "    async def score(state: TaskState, target: Target) -> Score:\n",
        "        topk_toks = state.metadata['topk']\n",
        "        probs = state.metadata['linprobs'] #all probs from lp\n",
        "        \n",
        "        explanation = state.output.completion\n",
        "        explanation = explanation.strip()\n",
        "\n",
        "        sort_p = sorted(probs.items(), key=lambda x: x[1], reverse=True)\n",
        "        greedy_res = sort_p[0][0]\n",
        "        top_prob = sort_p[0][1]\n",
        "        target_matches_choices = ((target.text).strip().lower()) == (greedy_res.strip().lower())\n",
        "        return Score(\n",
        "            value=CORRECT if target_matches_choices else INCORRECT, #  greedy - ie., the most confident?\n",
        "            metadata=probs #all confidence scores\n",
        "        )\n",
        "    return score\n",
        "\n",
        "\n",
        "\"\"\"Average % confidence of greedy ans over all records - by linear probability\"\"\"\n",
        "@scorer(metrics=[mean()])\n",
        "def top_conf()-> Scorer:\n",
        "    async def score(state: TaskState, target: Target) -> Score:\n",
        "        topk_toks = state.metadata['topk']\n",
        "        probs = state.metadata['linprobs'] #all probs from lp\n",
        "        \n",
        "        explanation = state.output.completion\n",
        "        explanation = explanation.strip()\n",
        "\n",
        "        top_prob = sorted(probs.items(), key=lambda x: x[1], reverse=True)[0][1]\n",
        "        # print(topk_toks, probs, explanation)\n",
        "        prob  = probs[explanation] if explanation in probs else 0#confidence in chosen answer\n",
        "        #confidence in correct answer?\n",
        "        # trg_prob = probs[state.target.text]\n",
        "        return Score(\n",
        "            value=top_prob*100, #  greedy - ie., the most confident?\n",
        "            metadata=probs #all confidence scores\n",
        "        )\n",
        "    return score\n",
        "\n",
        "\n",
        "\n",
        "\n",
        "\"\"\"Average % confidence over all records - by linear probability - for the target\"\"\"\n",
        "@scorer(metrics=[mean()])\n",
        "def trg_conf()-> Scorer:\n",
        "    async def score(state: TaskState, target: Target) -> Score:\n",
        "        topk_toks = state.metadata['topk']\n",
        "        probs = state.metadata['linprobs'] #all probs from lp\n",
        "        explanation = state.output.completion\n",
        "        explanation = explanation.strip()\n",
        "    \n",
        "        # print(topk_toks, probs, explanation)\n",
        "        prob  = probs[explanation] if explanation in probs else 0#confidence in chosen answer\n",
        "        #confidence in correct answer?\n",
        "        trg_prob = probs[state.target.text] if state.target.text in probs else 0\n",
        "        return Score(\n",
        "            value=trg_prob*100, # ll b greedy - ie., the most confident\n",
        "            metadata=probs #all confidence scores\n",
        "        )\n",
        "    return score\n",
        "\n",
        "\"\"\"Average confidence over all records - by normalised log probabilities of target/answer\"\"\"\n",
        "@scorer(metrics=[mean()])\n",
        "def norm_conf(of=None)-> Scorer:\n",
        "    async def score(state: TaskState, target: Target) -> Score:\n",
        "        topk_toks = state.metadata['topk']\n",
        "        explanation = state.output.completion\n",
        "        explanation = explanation.strip()\n",
        "\n",
        "        probs = state.metadata['linprobs'] #all probs from lp\n",
        "        tokens = probs.keys()\n",
        "        Z = sum(probs.values()) or 1.0 \n",
        "        norm_conf  = {l: probs[l] / Z for l in tokens}\n",
        "\n",
        "        if of == \"target\":\n",
        "            trg_prob = norm_conf[state.target.text] if state.target.text in norm_conf else 0\n",
        "        else:#of the answer\n",
        "            trg_prob = norm_conf[explanation] if explanation in norm_conf else 0\n",
        "\n",
        "    \n",
        "        # prob  = probs[explanation] if explanation in probs else 0#confidence in chosen answer\n",
        "        # trg_prob = probs[state.target.text] if state.target.text in probs else 0\n",
        "\n",
        "        \n",
        "        return Score(\n",
        "            value=trg_prob*100, # ll b greedy - ie., the most confident\n",
        "            metadata=probs #all confidence scores\n",
        "        )\n",
        "    return score\n",
        "\n",
        "\"\"\"Top K Winner\"\"\"\n",
        "@scorer(metrics=[accuracy(), stderr()])\n",
        "def topk_winner(k=2)-> Scorer:\n",
        "    \"\"\"\n",
        "    Say you want to give it an easier chance of winning, so maybe take k=2\n",
        "    ie., if the correct ans (target) is in the model's first 2 choices\n",
        "    here, greedy pick is essentially k=1\n",
        "\n",
        "    Or, say if the model's choice of probability for that token is > some x\n",
        "    \"\"\"\n",
        "    async def score(state: TaskState, target: Target) -> Score:\n",
        "        topk_toks = state.metadata['topk']\n",
        "        explanation = state.output.completion\n",
        "        explanation = explanation.strip()\n",
        "\n",
        "        probs = state.metadata['linprobs'] #all probs from lp\n",
        "        tokens = probs.keys()\n",
        "    \n",
        "        sort_p = sorted(probs.items(), key=lambda x: x[1], reverse=True)\n",
        "        topktoks = [x[0] for x in sort_p]\n",
        "        greedy_res = topktoks[:k]\n",
        "        target_matches_choices = (explanation.upper() in greedy_res)\n",
        "\n",
        "        return Score(\n",
        "            value = CORRECT if target_matches_choices else INCORRECT, # ll b greedy - ie., the most confident\n",
        "            metadata=probs #all confidence scores\n",
        "        )\n",
        "    return score\n",
        "\n"
      ]
    },
    {
      "cell_type": "code",
      "execution_count": 82,
      "metadata": {},
      "outputs": [
        {
          "data": {
            "application/vnd.jupyter.widget-view+json": {
              "model_id": "d8cda67352f04f209ca3d3cc0cffcfd2",
              "version_major": 2,
              "version_minor": 0
            },
            "text/plain": [
              "Output()"
            ]
          },
          "metadata": {},
          "output_type": "display_data"
        },
        {
          "data": {
            "text/html": [
              "<pre style=\"white-space:pre;overflow-x:auto;line-height:normal;font-family:Menlo,'DejaVu Sans Mono',consolas,'Courier New',monospace\"></pre>\n"
            ],
            "text/plain": []
          },
          "metadata": {},
          "output_type": "display_data"
        }
      ],
      "source": [
        "\n",
        "m1 = 'gpt-4.1-nano'\n",
        "m2 = 'gpt-4o-mini'\n",
        "limit = LIMIT\n",
        "topk = 4\n",
        "\n",
        "task = Task(\n",
        "    dataset=val_dataset,\n",
        "    plan=[mcq_user_message(), logprobs_generate(m1, topk)], \n",
        "    scorer=[mcq_scorer(),\n",
        "            greedy_scorer(), \n",
        "            top_conf(), \n",
        "            trg_conf(),\n",
        "            norm_conf(\"target\"), #optional - if none given, calc conf of answer\n",
        "            topk_winner(2)\n",
        "            ]\n",
        ")\n",
        "logm1 = eval(task, \n",
        "           model=f\"openai/{m1}\", log_dir = f\"logs/logprobs/{m1}/trash\", limit = LIMIT)"
      ]
    },
    {
      "cell_type": "code",
      "execution_count": 83,
      "metadata": {},
      "outputs": [
        {
          "data": {
            "application/vnd.jupyter.widget-view+json": {
              "model_id": "f68bc64a78c144d2ac6caf05db8709e3",
              "version_major": 2,
              "version_minor": 0
            },
            "text/plain": [
              "Output()"
            ]
          },
          "metadata": {},
          "output_type": "display_data"
        },
        {
          "data": {
            "text/html": [
              "<pre style=\"white-space:pre;overflow-x:auto;line-height:normal;font-family:Menlo,'DejaVu Sans Mono',consolas,'Courier New',monospace\"></pre>\n"
            ],
            "text/plain": []
          },
          "metadata": {},
          "output_type": "display_data"
        }
      ],
      "source": [
        "task = Task(\n",
        "    dataset=val_dataset,\n",
        "    plan=[mcq_user_message(), logprobs_generate(m2, topk)], \n",
        "    scorer=[mcq_scorer(),\n",
        "            greedy_scorer(), \n",
        "            top_conf(), \n",
        "            trg_conf(),\n",
        "            norm_conf(\"target\"), #optional - if none given, calc conf of answer\n",
        "            topk_winner(2)\n",
        "            ]\n",
        ")\n",
        "logm2 = eval(task, \n",
        "           model=f\"openai/{m2}\", log_dir = f\"logs/logprobs/{m2}\", limit = LIMIT)"
      ]
    },
    {
      "cell_type": "markdown",
      "metadata": {},
      "source": [
        "So, given just a very minute increase in margin for error - a second chance, essentially - the models generally get everything right?!"
      ]
    },
    {
      "cell_type": "code",
      "execution_count": 84,
      "metadata": {},
      "outputs": [],
      "source": [
        "m1logs = read_eval_log(logm1[0].location)\n",
        "m2logs = read_eval_log(logm2[0].location)"
      ]
    },
    {
      "cell_type": "code",
      "execution_count": 130,
      "metadata": {},
      "outputs": [],
      "source": [
        "def log_to_df2(eval_log):\n",
        "    df = pd.DataFrame([\n",
        "        {\n",
        "            'question': sample.input[0].content,\n",
        "            # 'answer': sample.scores[\"choice\"].answer,\n",
        "            'target': sample.target,\n",
        "            # 'score': sample.scores[\"choice\"].value,\n",
        "            'model': eval_log.eval.model,\n",
        "            'choices': sample.choices,\n",
        "            'mcq_scorer' :  sample.scores['mcq_scorer'].value,\n",
        "            'greedy_scorer' : sample.scores['greedy_scorer'].value,\n",
        "            'topk_winner': sample.scores['topk_winner'].value,\n",
        "            'top_conf': sample.scores['top_conf'].value,\n",
        "            'trg_conf': sample.scores['trg_conf'].value,\n",
        "            'norm_conf': sample.scores['norm_conf'].value\n",
        "\n",
        "        }\n",
        "        for sample in eval_log.samples\n",
        "    ])\n",
        "    return df\n",
        "\n"
      ]
    },
    {
      "cell_type": "code",
      "execution_count": 86,
      "metadata": {},
      "outputs": [],
      "source": [
        "agg_scores1 = m1logs.results.scores\n",
        "agg_scores2 = m2logs.results.scores"
      ]
    },
    {
      "cell_type": "code",
      "execution_count": 132,
      "metadata": {},
      "outputs": [],
      "source": [
        "model_data = {}\n",
        "model_data[m1] = {\n",
        "\"Normal\": agg_scores1[0].metrics[\"accuracy\"].value,\n",
        "\"Greedy\": agg_scores1[1].metrics[\"accuracy\"].value,\n",
        "\"TopK\": agg_scores1[-1].metrics[\"accuracy\"].value\n",
        "}\n",
        "model_data[m2] = {\n",
        "\"Normal\": agg_scores2[0].metrics[\"accuracy\"].value,\n",
        "\"Greedy\": agg_scores2[1].metrics[\"accuracy\"].value,\n",
        "\"TopK\": agg_scores2[-1].metrics[\"accuracy\"].value\n",
        "}\n",
        "conf_data = {}\n",
        "conf_data[m1] = {\n",
        "\"Answer\": agg_scores1[2].metrics[\"mean\"].value,\n",
        "\"Target\": agg_scores1[3].metrics[\"mean\"].value,\n",
        "\"Norm\": agg_scores1[4].metrics[\"mean\"].value\n",
        "}\n",
        "conf_data[m2] = {\n",
        "\"Answer\": agg_scores2[2].metrics[\"mean\"].value,\n",
        "\"Target\": agg_scores2[3].metrics[\"mean\"].value,\n",
        "\"Norm\": agg_scores2[4].metrics[\"mean\"].value\n",
        "}\n"
      ]
    },
    {
      "cell_type": "code",
      "execution_count": 88,
      "metadata": {},
      "outputs": [],
      "source": [
        "def plot_acc(model_data, title, y, range):\n",
        "    df_data = []\n",
        "    for model, scores in model_data.items():\n",
        "        for paradigm, accuracy in scores.items():\n",
        "            df_data.append({\n",
        "                'Model': model,\n",
        "                'Scoring Paradigm': paradigm,\n",
        "                y: accuracy\n",
        "            })\n",
        "\n",
        "    df = pd.DataFrame(df_data)\n",
        "    fig_px = px.bar(df, \n",
        "                    x='Scoring Paradigm', \n",
        "                    y=y,\n",
        "                    color='Model',\n",
        "                    barmode='group',\n",
        "                    title=title,\n",
        "                    color_discrete_sequence=['#3498db', '#e74c3c'])\n",
        "\n",
        "    fig_px.update_layout(\n",
        "        xaxis_title='Scoring Paradigm',\n",
        "        yaxis_title=y,\n",
        "        yaxis=dict(range=range),\n",
        "        template='plotly_white',\n",
        "        legend=dict(\n",
        "            orientation=\"h\",\n",
        "            yanchor=\"bottom\",\n",
        "            y=1.02,\n",
        "            xanchor=\"right\",\n",
        "            x=1\n",
        "        ),\n",
        "        width=500,\n",
        "        height=400\n",
        "    )\n",
        "\n",
        "    fig_px.show()\n"
      ]
    },
    {
      "cell_type": "code",
      "execution_count": 89,
      "metadata": {},
      "outputs": [
        {
          "data": {
            "application/vnd.plotly.v1+json": {
              "config": {
                "plotlyServerURL": "https://plot.ly"
              },
              "data": [
                {
                  "alignmentgroup": "True",
                  "hovertemplate": "Model=gpt-4.1-nano<br>Scoring Paradigm=%{x}<br>Accuracy=%{y}<extra></extra>",
                  "legendgroup": "gpt-4.1-nano",
                  "marker": {
                    "color": "#3498db",
                    "pattern": {
                      "shape": ""
                    }
                  },
                  "name": "gpt-4.1-nano",
                  "offsetgroup": "gpt-4.1-nano",
                  "orientation": "v",
                  "showlegend": true,
                  "textposition": "auto",
                  "type": "bar",
                  "x": [
                    "Normal",
                    "Greedy",
                    "TopK"
                  ],
                  "xaxis": "x",
                  "y": {
                    "bdata": "gZVDi2zn6z8pXI/C9SjsP6wcWmQ73+8/",
                    "dtype": "f8"
                  },
                  "yaxis": "y"
                },
                {
                  "alignmentgroup": "True",
                  "hovertemplate": "Model=gpt-4o-mini<br>Scoring Paradigm=%{x}<br>Accuracy=%{y}<extra></extra>",
                  "legendgroup": "gpt-4o-mini",
                  "marker": {
                    "color": "#e74c3c",
                    "pattern": {
                      "shape": ""
                    }
                  },
                  "name": "gpt-4o-mini",
                  "offsetgroup": "gpt-4o-mini",
                  "orientation": "v",
                  "showlegend": true,
                  "textposition": "auto",
                  "type": "bar",
                  "x": [
                    "Normal",
                    "Greedy",
                    "TopK"
                  ],
                  "xaxis": "x",
                  "y": {
                    "bdata": "eekmMQis7D8hsHJoke3sPwAAAAAAAPA/",
                    "dtype": "f8"
                  },
                  "yaxis": "y"
                }
              ],
              "layout": {
                "barmode": "group",
                "height": 400,
                "legend": {
                  "orientation": "h",
                  "title": {
                    "text": "Model"
                  },
                  "tracegroupgap": 0,
                  "x": 1,
                  "xanchor": "right",
                  "y": 1.02,
                  "yanchor": "bottom"
                },
                "template": {
                  "data": {
                    "bar": [
                      {
                        "error_x": {
                          "color": "#2a3f5f"
                        },
                        "error_y": {
                          "color": "#2a3f5f"
                        },
                        "marker": {
                          "line": {
                            "color": "white",
                            "width": 0.5
                          },
                          "pattern": {
                            "fillmode": "overlay",
                            "size": 10,
                            "solidity": 0.2
                          }
                        },
                        "type": "bar"
                      }
                    ],
                    "barpolar": [
                      {
                        "marker": {
                          "line": {
                            "color": "white",
                            "width": 0.5
                          },
                          "pattern": {
                            "fillmode": "overlay",
                            "size": 10,
                            "solidity": 0.2
                          }
                        },
                        "type": "barpolar"
                      }
                    ],
                    "carpet": [
                      {
                        "aaxis": {
                          "endlinecolor": "#2a3f5f",
                          "gridcolor": "#C8D4E3",
                          "linecolor": "#C8D4E3",
                          "minorgridcolor": "#C8D4E3",
                          "startlinecolor": "#2a3f5f"
                        },
                        "baxis": {
                          "endlinecolor": "#2a3f5f",
                          "gridcolor": "#C8D4E3",
                          "linecolor": "#C8D4E3",
                          "minorgridcolor": "#C8D4E3",
                          "startlinecolor": "#2a3f5f"
                        },
                        "type": "carpet"
                      }
                    ],
                    "choropleth": [
                      {
                        "colorbar": {
                          "outlinewidth": 0,
                          "ticks": ""
                        },
                        "type": "choropleth"
                      }
                    ],
                    "contour": [
                      {
                        "colorbar": {
                          "outlinewidth": 0,
                          "ticks": ""
                        },
                        "colorscale": [
                          [
                            0,
                            "#0d0887"
                          ],
                          [
                            0.1111111111111111,
                            "#46039f"
                          ],
                          [
                            0.2222222222222222,
                            "#7201a8"
                          ],
                          [
                            0.3333333333333333,
                            "#9c179e"
                          ],
                          [
                            0.4444444444444444,
                            "#bd3786"
                          ],
                          [
                            0.5555555555555556,
                            "#d8576b"
                          ],
                          [
                            0.6666666666666666,
                            "#ed7953"
                          ],
                          [
                            0.7777777777777778,
                            "#fb9f3a"
                          ],
                          [
                            0.8888888888888888,
                            "#fdca26"
                          ],
                          [
                            1,
                            "#f0f921"
                          ]
                        ],
                        "type": "contour"
                      }
                    ],
                    "contourcarpet": [
                      {
                        "colorbar": {
                          "outlinewidth": 0,
                          "ticks": ""
                        },
                        "type": "contourcarpet"
                      }
                    ],
                    "heatmap": [
                      {
                        "colorbar": {
                          "outlinewidth": 0,
                          "ticks": ""
                        },
                        "colorscale": [
                          [
                            0,
                            "#0d0887"
                          ],
                          [
                            0.1111111111111111,
                            "#46039f"
                          ],
                          [
                            0.2222222222222222,
                            "#7201a8"
                          ],
                          [
                            0.3333333333333333,
                            "#9c179e"
                          ],
                          [
                            0.4444444444444444,
                            "#bd3786"
                          ],
                          [
                            0.5555555555555556,
                            "#d8576b"
                          ],
                          [
                            0.6666666666666666,
                            "#ed7953"
                          ],
                          [
                            0.7777777777777778,
                            "#fb9f3a"
                          ],
                          [
                            0.8888888888888888,
                            "#fdca26"
                          ],
                          [
                            1,
                            "#f0f921"
                          ]
                        ],
                        "type": "heatmap"
                      }
                    ],
                    "histogram": [
                      {
                        "marker": {
                          "pattern": {
                            "fillmode": "overlay",
                            "size": 10,
                            "solidity": 0.2
                          }
                        },
                        "type": "histogram"
                      }
                    ],
                    "histogram2d": [
                      {
                        "colorbar": {
                          "outlinewidth": 0,
                          "ticks": ""
                        },
                        "colorscale": [
                          [
                            0,
                            "#0d0887"
                          ],
                          [
                            0.1111111111111111,
                            "#46039f"
                          ],
                          [
                            0.2222222222222222,
                            "#7201a8"
                          ],
                          [
                            0.3333333333333333,
                            "#9c179e"
                          ],
                          [
                            0.4444444444444444,
                            "#bd3786"
                          ],
                          [
                            0.5555555555555556,
                            "#d8576b"
                          ],
                          [
                            0.6666666666666666,
                            "#ed7953"
                          ],
                          [
                            0.7777777777777778,
                            "#fb9f3a"
                          ],
                          [
                            0.8888888888888888,
                            "#fdca26"
                          ],
                          [
                            1,
                            "#f0f921"
                          ]
                        ],
                        "type": "histogram2d"
                      }
                    ],
                    "histogram2dcontour": [
                      {
                        "colorbar": {
                          "outlinewidth": 0,
                          "ticks": ""
                        },
                        "colorscale": [
                          [
                            0,
                            "#0d0887"
                          ],
                          [
                            0.1111111111111111,
                            "#46039f"
                          ],
                          [
                            0.2222222222222222,
                            "#7201a8"
                          ],
                          [
                            0.3333333333333333,
                            "#9c179e"
                          ],
                          [
                            0.4444444444444444,
                            "#bd3786"
                          ],
                          [
                            0.5555555555555556,
                            "#d8576b"
                          ],
                          [
                            0.6666666666666666,
                            "#ed7953"
                          ],
                          [
                            0.7777777777777778,
                            "#fb9f3a"
                          ],
                          [
                            0.8888888888888888,
                            "#fdca26"
                          ],
                          [
                            1,
                            "#f0f921"
                          ]
                        ],
                        "type": "histogram2dcontour"
                      }
                    ],
                    "mesh3d": [
                      {
                        "colorbar": {
                          "outlinewidth": 0,
                          "ticks": ""
                        },
                        "type": "mesh3d"
                      }
                    ],
                    "parcoords": [
                      {
                        "line": {
                          "colorbar": {
                            "outlinewidth": 0,
                            "ticks": ""
                          }
                        },
                        "type": "parcoords"
                      }
                    ],
                    "pie": [
                      {
                        "automargin": true,
                        "type": "pie"
                      }
                    ],
                    "scatter": [
                      {
                        "fillpattern": {
                          "fillmode": "overlay",
                          "size": 10,
                          "solidity": 0.2
                        },
                        "type": "scatter"
                      }
                    ],
                    "scatter3d": [
                      {
                        "line": {
                          "colorbar": {
                            "outlinewidth": 0,
                            "ticks": ""
                          }
                        },
                        "marker": {
                          "colorbar": {
                            "outlinewidth": 0,
                            "ticks": ""
                          }
                        },
                        "type": "scatter3d"
                      }
                    ],
                    "scattercarpet": [
                      {
                        "marker": {
                          "colorbar": {
                            "outlinewidth": 0,
                            "ticks": ""
                          }
                        },
                        "type": "scattercarpet"
                      }
                    ],
                    "scattergeo": [
                      {
                        "marker": {
                          "colorbar": {
                            "outlinewidth": 0,
                            "ticks": ""
                          }
                        },
                        "type": "scattergeo"
                      }
                    ],
                    "scattergl": [
                      {
                        "marker": {
                          "colorbar": {
                            "outlinewidth": 0,
                            "ticks": ""
                          }
                        },
                        "type": "scattergl"
                      }
                    ],
                    "scattermap": [
                      {
                        "marker": {
                          "colorbar": {
                            "outlinewidth": 0,
                            "ticks": ""
                          }
                        },
                        "type": "scattermap"
                      }
                    ],
                    "scattermapbox": [
                      {
                        "marker": {
                          "colorbar": {
                            "outlinewidth": 0,
                            "ticks": ""
                          }
                        },
                        "type": "scattermapbox"
                      }
                    ],
                    "scatterpolar": [
                      {
                        "marker": {
                          "colorbar": {
                            "outlinewidth": 0,
                            "ticks": ""
                          }
                        },
                        "type": "scatterpolar"
                      }
                    ],
                    "scatterpolargl": [
                      {
                        "marker": {
                          "colorbar": {
                            "outlinewidth": 0,
                            "ticks": ""
                          }
                        },
                        "type": "scatterpolargl"
                      }
                    ],
                    "scatterternary": [
                      {
                        "marker": {
                          "colorbar": {
                            "outlinewidth": 0,
                            "ticks": ""
                          }
                        },
                        "type": "scatterternary"
                      }
                    ],
                    "surface": [
                      {
                        "colorbar": {
                          "outlinewidth": 0,
                          "ticks": ""
                        },
                        "colorscale": [
                          [
                            0,
                            "#0d0887"
                          ],
                          [
                            0.1111111111111111,
                            "#46039f"
                          ],
                          [
                            0.2222222222222222,
                            "#7201a8"
                          ],
                          [
                            0.3333333333333333,
                            "#9c179e"
                          ],
                          [
                            0.4444444444444444,
                            "#bd3786"
                          ],
                          [
                            0.5555555555555556,
                            "#d8576b"
                          ],
                          [
                            0.6666666666666666,
                            "#ed7953"
                          ],
                          [
                            0.7777777777777778,
                            "#fb9f3a"
                          ],
                          [
                            0.8888888888888888,
                            "#fdca26"
                          ],
                          [
                            1,
                            "#f0f921"
                          ]
                        ],
                        "type": "surface"
                      }
                    ],
                    "table": [
                      {
                        "cells": {
                          "fill": {
                            "color": "#EBF0F8"
                          },
                          "line": {
                            "color": "white"
                          }
                        },
                        "header": {
                          "fill": {
                            "color": "#C8D4E3"
                          },
                          "line": {
                            "color": "white"
                          }
                        },
                        "type": "table"
                      }
                    ]
                  },
                  "layout": {
                    "annotationdefaults": {
                      "arrowcolor": "#2a3f5f",
                      "arrowhead": 0,
                      "arrowwidth": 1
                    },
                    "autotypenumbers": "strict",
                    "coloraxis": {
                      "colorbar": {
                        "outlinewidth": 0,
                        "ticks": ""
                      }
                    },
                    "colorscale": {
                      "diverging": [
                        [
                          0,
                          "#8e0152"
                        ],
                        [
                          0.1,
                          "#c51b7d"
                        ],
                        [
                          0.2,
                          "#de77ae"
                        ],
                        [
                          0.3,
                          "#f1b6da"
                        ],
                        [
                          0.4,
                          "#fde0ef"
                        ],
                        [
                          0.5,
                          "#f7f7f7"
                        ],
                        [
                          0.6,
                          "#e6f5d0"
                        ],
                        [
                          0.7,
                          "#b8e186"
                        ],
                        [
                          0.8,
                          "#7fbc41"
                        ],
                        [
                          0.9,
                          "#4d9221"
                        ],
                        [
                          1,
                          "#276419"
                        ]
                      ],
                      "sequential": [
                        [
                          0,
                          "#0d0887"
                        ],
                        [
                          0.1111111111111111,
                          "#46039f"
                        ],
                        [
                          0.2222222222222222,
                          "#7201a8"
                        ],
                        [
                          0.3333333333333333,
                          "#9c179e"
                        ],
                        [
                          0.4444444444444444,
                          "#bd3786"
                        ],
                        [
                          0.5555555555555556,
                          "#d8576b"
                        ],
                        [
                          0.6666666666666666,
                          "#ed7953"
                        ],
                        [
                          0.7777777777777778,
                          "#fb9f3a"
                        ],
                        [
                          0.8888888888888888,
                          "#fdca26"
                        ],
                        [
                          1,
                          "#f0f921"
                        ]
                      ],
                      "sequentialminus": [
                        [
                          0,
                          "#0d0887"
                        ],
                        [
                          0.1111111111111111,
                          "#46039f"
                        ],
                        [
                          0.2222222222222222,
                          "#7201a8"
                        ],
                        [
                          0.3333333333333333,
                          "#9c179e"
                        ],
                        [
                          0.4444444444444444,
                          "#bd3786"
                        ],
                        [
                          0.5555555555555556,
                          "#d8576b"
                        ],
                        [
                          0.6666666666666666,
                          "#ed7953"
                        ],
                        [
                          0.7777777777777778,
                          "#fb9f3a"
                        ],
                        [
                          0.8888888888888888,
                          "#fdca26"
                        ],
                        [
                          1,
                          "#f0f921"
                        ]
                      ]
                    },
                    "colorway": [
                      "#636efa",
                      "#EF553B",
                      "#00cc96",
                      "#ab63fa",
                      "#FFA15A",
                      "#19d3f3",
                      "#FF6692",
                      "#B6E880",
                      "#FF97FF",
                      "#FECB52"
                    ],
                    "font": {
                      "color": "#2a3f5f"
                    },
                    "geo": {
                      "bgcolor": "white",
                      "lakecolor": "white",
                      "landcolor": "white",
                      "showlakes": true,
                      "showland": true,
                      "subunitcolor": "#C8D4E3"
                    },
                    "hoverlabel": {
                      "align": "left"
                    },
                    "hovermode": "closest",
                    "mapbox": {
                      "style": "light"
                    },
                    "paper_bgcolor": "white",
                    "plot_bgcolor": "white",
                    "polar": {
                      "angularaxis": {
                        "gridcolor": "#EBF0F8",
                        "linecolor": "#EBF0F8",
                        "ticks": ""
                      },
                      "bgcolor": "white",
                      "radialaxis": {
                        "gridcolor": "#EBF0F8",
                        "linecolor": "#EBF0F8",
                        "ticks": ""
                      }
                    },
                    "scene": {
                      "xaxis": {
                        "backgroundcolor": "white",
                        "gridcolor": "#DFE8F3",
                        "gridwidth": 2,
                        "linecolor": "#EBF0F8",
                        "showbackground": true,
                        "ticks": "",
                        "zerolinecolor": "#EBF0F8"
                      },
                      "yaxis": {
                        "backgroundcolor": "white",
                        "gridcolor": "#DFE8F3",
                        "gridwidth": 2,
                        "linecolor": "#EBF0F8",
                        "showbackground": true,
                        "ticks": "",
                        "zerolinecolor": "#EBF0F8"
                      },
                      "zaxis": {
                        "backgroundcolor": "white",
                        "gridcolor": "#DFE8F3",
                        "gridwidth": 2,
                        "linecolor": "#EBF0F8",
                        "showbackground": true,
                        "ticks": "",
                        "zerolinecolor": "#EBF0F8"
                      }
                    },
                    "shapedefaults": {
                      "line": {
                        "color": "#2a3f5f"
                      }
                    },
                    "ternary": {
                      "aaxis": {
                        "gridcolor": "#DFE8F3",
                        "linecolor": "#A2B1C6",
                        "ticks": ""
                      },
                      "baxis": {
                        "gridcolor": "#DFE8F3",
                        "linecolor": "#A2B1C6",
                        "ticks": ""
                      },
                      "bgcolor": "white",
                      "caxis": {
                        "gridcolor": "#DFE8F3",
                        "linecolor": "#A2B1C6",
                        "ticks": ""
                      }
                    },
                    "title": {
                      "x": 0.05
                    },
                    "xaxis": {
                      "automargin": true,
                      "gridcolor": "#EBF0F8",
                      "linecolor": "#EBF0F8",
                      "ticks": "",
                      "title": {
                        "standoff": 15
                      },
                      "zerolinecolor": "#EBF0F8",
                      "zerolinewidth": 2
                    },
                    "yaxis": {
                      "automargin": true,
                      "gridcolor": "#EBF0F8",
                      "linecolor": "#EBF0F8",
                      "ticks": "",
                      "title": {
                        "standoff": 15
                      },
                      "zerolinecolor": "#EBF0F8",
                      "zerolinewidth": 2
                    }
                  }
                },
                "title": {
                  "text": "Model Performance Comparison Across Scoring Paradigms"
                },
                "width": 500,
                "xaxis": {
                  "anchor": "y",
                  "domain": [
                    0,
                    1
                  ],
                  "title": {
                    "text": "Scoring Paradigm"
                  }
                },
                "yaxis": {
                  "anchor": "x",
                  "domain": [
                    0,
                    1
                  ],
                  "range": [
                    0,
                    1.1
                  ],
                  "title": {
                    "text": "Accuracy"
                  }
                }
              }
            }
          },
          "metadata": {},
          "output_type": "display_data"
        }
      ],
      "source": [
        "plot_acc(model_data, 'Model Performance Comparison Across Scoring Paradigms', 'Accuracy', [0, 1.1])"
      ]
    },
    {
      "cell_type": "code",
      "execution_count": 90,
      "metadata": {},
      "outputs": [
        {
          "data": {
            "application/vnd.plotly.v1+json": {
              "config": {
                "plotlyServerURL": "https://plot.ly"
              },
              "data": [
                {
                  "alignmentgroup": "True",
                  "hovertemplate": "Model=gpt-4.1-nano<br>Scoring Paradigm=%{x}<br>Confidence=%{y}<extra></extra>",
                  "legendgroup": "gpt-4.1-nano",
                  "marker": {
                    "color": "#3498db",
                    "pattern": {
                      "shape": ""
                    }
                  },
                  "name": "gpt-4.1-nano",
                  "offsetgroup": "gpt-4.1-nano",
                  "orientation": "v",
                  "showlegend": true,
                  "textposition": "auto",
                  "type": "bar",
                  "x": [
                    "Answer",
                    "Target",
                    "Norm"
                  ],
                  "xaxis": "x",
                  "y": {
                    "bdata": "NvMiTjd2WECuZrgaldVVQATGi0W+1VVA",
                    "dtype": "f8"
                  },
                  "yaxis": "y"
                },
                {
                  "alignmentgroup": "True",
                  "hovertemplate": "Model=gpt-4o-mini<br>Scoring Paradigm=%{x}<br>Confidence=%{y}<extra></extra>",
                  "legendgroup": "gpt-4o-mini",
                  "marker": {
                    "color": "#e74c3c",
                    "pattern": {
                      "shape": ""
                    }
                  },
                  "name": "gpt-4o-mini",
                  "offsetgroup": "gpt-4o-mini",
                  "orientation": "v",
                  "showlegend": true,
                  "textposition": "auto",
                  "type": "bar",
                  "x": [
                    "Answer",
                    "Target",
                    "Norm"
                  ],
                  "xaxis": "x",
                  "y": {
                    "bdata": "jWBjVdbJWEAA/jeW14VWQCxk7qPXhVZA",
                    "dtype": "f8"
                  },
                  "yaxis": "y"
                }
              ],
              "layout": {
                "barmode": "group",
                "height": 400,
                "legend": {
                  "orientation": "h",
                  "title": {
                    "text": "Model"
                  },
                  "tracegroupgap": 0,
                  "x": 1,
                  "xanchor": "right",
                  "y": 1.02,
                  "yanchor": "bottom"
                },
                "template": {
                  "data": {
                    "bar": [
                      {
                        "error_x": {
                          "color": "#2a3f5f"
                        },
                        "error_y": {
                          "color": "#2a3f5f"
                        },
                        "marker": {
                          "line": {
                            "color": "white",
                            "width": 0.5
                          },
                          "pattern": {
                            "fillmode": "overlay",
                            "size": 10,
                            "solidity": 0.2
                          }
                        },
                        "type": "bar"
                      }
                    ],
                    "barpolar": [
                      {
                        "marker": {
                          "line": {
                            "color": "white",
                            "width": 0.5
                          },
                          "pattern": {
                            "fillmode": "overlay",
                            "size": 10,
                            "solidity": 0.2
                          }
                        },
                        "type": "barpolar"
                      }
                    ],
                    "carpet": [
                      {
                        "aaxis": {
                          "endlinecolor": "#2a3f5f",
                          "gridcolor": "#C8D4E3",
                          "linecolor": "#C8D4E3",
                          "minorgridcolor": "#C8D4E3",
                          "startlinecolor": "#2a3f5f"
                        },
                        "baxis": {
                          "endlinecolor": "#2a3f5f",
                          "gridcolor": "#C8D4E3",
                          "linecolor": "#C8D4E3",
                          "minorgridcolor": "#C8D4E3",
                          "startlinecolor": "#2a3f5f"
                        },
                        "type": "carpet"
                      }
                    ],
                    "choropleth": [
                      {
                        "colorbar": {
                          "outlinewidth": 0,
                          "ticks": ""
                        },
                        "type": "choropleth"
                      }
                    ],
                    "contour": [
                      {
                        "colorbar": {
                          "outlinewidth": 0,
                          "ticks": ""
                        },
                        "colorscale": [
                          [
                            0,
                            "#0d0887"
                          ],
                          [
                            0.1111111111111111,
                            "#46039f"
                          ],
                          [
                            0.2222222222222222,
                            "#7201a8"
                          ],
                          [
                            0.3333333333333333,
                            "#9c179e"
                          ],
                          [
                            0.4444444444444444,
                            "#bd3786"
                          ],
                          [
                            0.5555555555555556,
                            "#d8576b"
                          ],
                          [
                            0.6666666666666666,
                            "#ed7953"
                          ],
                          [
                            0.7777777777777778,
                            "#fb9f3a"
                          ],
                          [
                            0.8888888888888888,
                            "#fdca26"
                          ],
                          [
                            1,
                            "#f0f921"
                          ]
                        ],
                        "type": "contour"
                      }
                    ],
                    "contourcarpet": [
                      {
                        "colorbar": {
                          "outlinewidth": 0,
                          "ticks": ""
                        },
                        "type": "contourcarpet"
                      }
                    ],
                    "heatmap": [
                      {
                        "colorbar": {
                          "outlinewidth": 0,
                          "ticks": ""
                        },
                        "colorscale": [
                          [
                            0,
                            "#0d0887"
                          ],
                          [
                            0.1111111111111111,
                            "#46039f"
                          ],
                          [
                            0.2222222222222222,
                            "#7201a8"
                          ],
                          [
                            0.3333333333333333,
                            "#9c179e"
                          ],
                          [
                            0.4444444444444444,
                            "#bd3786"
                          ],
                          [
                            0.5555555555555556,
                            "#d8576b"
                          ],
                          [
                            0.6666666666666666,
                            "#ed7953"
                          ],
                          [
                            0.7777777777777778,
                            "#fb9f3a"
                          ],
                          [
                            0.8888888888888888,
                            "#fdca26"
                          ],
                          [
                            1,
                            "#f0f921"
                          ]
                        ],
                        "type": "heatmap"
                      }
                    ],
                    "histogram": [
                      {
                        "marker": {
                          "pattern": {
                            "fillmode": "overlay",
                            "size": 10,
                            "solidity": 0.2
                          }
                        },
                        "type": "histogram"
                      }
                    ],
                    "histogram2d": [
                      {
                        "colorbar": {
                          "outlinewidth": 0,
                          "ticks": ""
                        },
                        "colorscale": [
                          [
                            0,
                            "#0d0887"
                          ],
                          [
                            0.1111111111111111,
                            "#46039f"
                          ],
                          [
                            0.2222222222222222,
                            "#7201a8"
                          ],
                          [
                            0.3333333333333333,
                            "#9c179e"
                          ],
                          [
                            0.4444444444444444,
                            "#bd3786"
                          ],
                          [
                            0.5555555555555556,
                            "#d8576b"
                          ],
                          [
                            0.6666666666666666,
                            "#ed7953"
                          ],
                          [
                            0.7777777777777778,
                            "#fb9f3a"
                          ],
                          [
                            0.8888888888888888,
                            "#fdca26"
                          ],
                          [
                            1,
                            "#f0f921"
                          ]
                        ],
                        "type": "histogram2d"
                      }
                    ],
                    "histogram2dcontour": [
                      {
                        "colorbar": {
                          "outlinewidth": 0,
                          "ticks": ""
                        },
                        "colorscale": [
                          [
                            0,
                            "#0d0887"
                          ],
                          [
                            0.1111111111111111,
                            "#46039f"
                          ],
                          [
                            0.2222222222222222,
                            "#7201a8"
                          ],
                          [
                            0.3333333333333333,
                            "#9c179e"
                          ],
                          [
                            0.4444444444444444,
                            "#bd3786"
                          ],
                          [
                            0.5555555555555556,
                            "#d8576b"
                          ],
                          [
                            0.6666666666666666,
                            "#ed7953"
                          ],
                          [
                            0.7777777777777778,
                            "#fb9f3a"
                          ],
                          [
                            0.8888888888888888,
                            "#fdca26"
                          ],
                          [
                            1,
                            "#f0f921"
                          ]
                        ],
                        "type": "histogram2dcontour"
                      }
                    ],
                    "mesh3d": [
                      {
                        "colorbar": {
                          "outlinewidth": 0,
                          "ticks": ""
                        },
                        "type": "mesh3d"
                      }
                    ],
                    "parcoords": [
                      {
                        "line": {
                          "colorbar": {
                            "outlinewidth": 0,
                            "ticks": ""
                          }
                        },
                        "type": "parcoords"
                      }
                    ],
                    "pie": [
                      {
                        "automargin": true,
                        "type": "pie"
                      }
                    ],
                    "scatter": [
                      {
                        "fillpattern": {
                          "fillmode": "overlay",
                          "size": 10,
                          "solidity": 0.2
                        },
                        "type": "scatter"
                      }
                    ],
                    "scatter3d": [
                      {
                        "line": {
                          "colorbar": {
                            "outlinewidth": 0,
                            "ticks": ""
                          }
                        },
                        "marker": {
                          "colorbar": {
                            "outlinewidth": 0,
                            "ticks": ""
                          }
                        },
                        "type": "scatter3d"
                      }
                    ],
                    "scattercarpet": [
                      {
                        "marker": {
                          "colorbar": {
                            "outlinewidth": 0,
                            "ticks": ""
                          }
                        },
                        "type": "scattercarpet"
                      }
                    ],
                    "scattergeo": [
                      {
                        "marker": {
                          "colorbar": {
                            "outlinewidth": 0,
                            "ticks": ""
                          }
                        },
                        "type": "scattergeo"
                      }
                    ],
                    "scattergl": [
                      {
                        "marker": {
                          "colorbar": {
                            "outlinewidth": 0,
                            "ticks": ""
                          }
                        },
                        "type": "scattergl"
                      }
                    ],
                    "scattermap": [
                      {
                        "marker": {
                          "colorbar": {
                            "outlinewidth": 0,
                            "ticks": ""
                          }
                        },
                        "type": "scattermap"
                      }
                    ],
                    "scattermapbox": [
                      {
                        "marker": {
                          "colorbar": {
                            "outlinewidth": 0,
                            "ticks": ""
                          }
                        },
                        "type": "scattermapbox"
                      }
                    ],
                    "scatterpolar": [
                      {
                        "marker": {
                          "colorbar": {
                            "outlinewidth": 0,
                            "ticks": ""
                          }
                        },
                        "type": "scatterpolar"
                      }
                    ],
                    "scatterpolargl": [
                      {
                        "marker": {
                          "colorbar": {
                            "outlinewidth": 0,
                            "ticks": ""
                          }
                        },
                        "type": "scatterpolargl"
                      }
                    ],
                    "scatterternary": [
                      {
                        "marker": {
                          "colorbar": {
                            "outlinewidth": 0,
                            "ticks": ""
                          }
                        },
                        "type": "scatterternary"
                      }
                    ],
                    "surface": [
                      {
                        "colorbar": {
                          "outlinewidth": 0,
                          "ticks": ""
                        },
                        "colorscale": [
                          [
                            0,
                            "#0d0887"
                          ],
                          [
                            0.1111111111111111,
                            "#46039f"
                          ],
                          [
                            0.2222222222222222,
                            "#7201a8"
                          ],
                          [
                            0.3333333333333333,
                            "#9c179e"
                          ],
                          [
                            0.4444444444444444,
                            "#bd3786"
                          ],
                          [
                            0.5555555555555556,
                            "#d8576b"
                          ],
                          [
                            0.6666666666666666,
                            "#ed7953"
                          ],
                          [
                            0.7777777777777778,
                            "#fb9f3a"
                          ],
                          [
                            0.8888888888888888,
                            "#fdca26"
                          ],
                          [
                            1,
                            "#f0f921"
                          ]
                        ],
                        "type": "surface"
                      }
                    ],
                    "table": [
                      {
                        "cells": {
                          "fill": {
                            "color": "#EBF0F8"
                          },
                          "line": {
                            "color": "white"
                          }
                        },
                        "header": {
                          "fill": {
                            "color": "#C8D4E3"
                          },
                          "line": {
                            "color": "white"
                          }
                        },
                        "type": "table"
                      }
                    ]
                  },
                  "layout": {
                    "annotationdefaults": {
                      "arrowcolor": "#2a3f5f",
                      "arrowhead": 0,
                      "arrowwidth": 1
                    },
                    "autotypenumbers": "strict",
                    "coloraxis": {
                      "colorbar": {
                        "outlinewidth": 0,
                        "ticks": ""
                      }
                    },
                    "colorscale": {
                      "diverging": [
                        [
                          0,
                          "#8e0152"
                        ],
                        [
                          0.1,
                          "#c51b7d"
                        ],
                        [
                          0.2,
                          "#de77ae"
                        ],
                        [
                          0.3,
                          "#f1b6da"
                        ],
                        [
                          0.4,
                          "#fde0ef"
                        ],
                        [
                          0.5,
                          "#f7f7f7"
                        ],
                        [
                          0.6,
                          "#e6f5d0"
                        ],
                        [
                          0.7,
                          "#b8e186"
                        ],
                        [
                          0.8,
                          "#7fbc41"
                        ],
                        [
                          0.9,
                          "#4d9221"
                        ],
                        [
                          1,
                          "#276419"
                        ]
                      ],
                      "sequential": [
                        [
                          0,
                          "#0d0887"
                        ],
                        [
                          0.1111111111111111,
                          "#46039f"
                        ],
                        [
                          0.2222222222222222,
                          "#7201a8"
                        ],
                        [
                          0.3333333333333333,
                          "#9c179e"
                        ],
                        [
                          0.4444444444444444,
                          "#bd3786"
                        ],
                        [
                          0.5555555555555556,
                          "#d8576b"
                        ],
                        [
                          0.6666666666666666,
                          "#ed7953"
                        ],
                        [
                          0.7777777777777778,
                          "#fb9f3a"
                        ],
                        [
                          0.8888888888888888,
                          "#fdca26"
                        ],
                        [
                          1,
                          "#f0f921"
                        ]
                      ],
                      "sequentialminus": [
                        [
                          0,
                          "#0d0887"
                        ],
                        [
                          0.1111111111111111,
                          "#46039f"
                        ],
                        [
                          0.2222222222222222,
                          "#7201a8"
                        ],
                        [
                          0.3333333333333333,
                          "#9c179e"
                        ],
                        [
                          0.4444444444444444,
                          "#bd3786"
                        ],
                        [
                          0.5555555555555556,
                          "#d8576b"
                        ],
                        [
                          0.6666666666666666,
                          "#ed7953"
                        ],
                        [
                          0.7777777777777778,
                          "#fb9f3a"
                        ],
                        [
                          0.8888888888888888,
                          "#fdca26"
                        ],
                        [
                          1,
                          "#f0f921"
                        ]
                      ]
                    },
                    "colorway": [
                      "#636efa",
                      "#EF553B",
                      "#00cc96",
                      "#ab63fa",
                      "#FFA15A",
                      "#19d3f3",
                      "#FF6692",
                      "#B6E880",
                      "#FF97FF",
                      "#FECB52"
                    ],
                    "font": {
                      "color": "#2a3f5f"
                    },
                    "geo": {
                      "bgcolor": "white",
                      "lakecolor": "white",
                      "landcolor": "white",
                      "showlakes": true,
                      "showland": true,
                      "subunitcolor": "#C8D4E3"
                    },
                    "hoverlabel": {
                      "align": "left"
                    },
                    "hovermode": "closest",
                    "mapbox": {
                      "style": "light"
                    },
                    "paper_bgcolor": "white",
                    "plot_bgcolor": "white",
                    "polar": {
                      "angularaxis": {
                        "gridcolor": "#EBF0F8",
                        "linecolor": "#EBF0F8",
                        "ticks": ""
                      },
                      "bgcolor": "white",
                      "radialaxis": {
                        "gridcolor": "#EBF0F8",
                        "linecolor": "#EBF0F8",
                        "ticks": ""
                      }
                    },
                    "scene": {
                      "xaxis": {
                        "backgroundcolor": "white",
                        "gridcolor": "#DFE8F3",
                        "gridwidth": 2,
                        "linecolor": "#EBF0F8",
                        "showbackground": true,
                        "ticks": "",
                        "zerolinecolor": "#EBF0F8"
                      },
                      "yaxis": {
                        "backgroundcolor": "white",
                        "gridcolor": "#DFE8F3",
                        "gridwidth": 2,
                        "linecolor": "#EBF0F8",
                        "showbackground": true,
                        "ticks": "",
                        "zerolinecolor": "#EBF0F8"
                      },
                      "zaxis": {
                        "backgroundcolor": "white",
                        "gridcolor": "#DFE8F3",
                        "gridwidth": 2,
                        "linecolor": "#EBF0F8",
                        "showbackground": true,
                        "ticks": "",
                        "zerolinecolor": "#EBF0F8"
                      }
                    },
                    "shapedefaults": {
                      "line": {
                        "color": "#2a3f5f"
                      }
                    },
                    "ternary": {
                      "aaxis": {
                        "gridcolor": "#DFE8F3",
                        "linecolor": "#A2B1C6",
                        "ticks": ""
                      },
                      "baxis": {
                        "gridcolor": "#DFE8F3",
                        "linecolor": "#A2B1C6",
                        "ticks": ""
                      },
                      "bgcolor": "white",
                      "caxis": {
                        "gridcolor": "#DFE8F3",
                        "linecolor": "#A2B1C6",
                        "ticks": ""
                      }
                    },
                    "title": {
                      "x": 0.05
                    },
                    "xaxis": {
                      "automargin": true,
                      "gridcolor": "#EBF0F8",
                      "linecolor": "#EBF0F8",
                      "ticks": "",
                      "title": {
                        "standoff": 15
                      },
                      "zerolinecolor": "#EBF0F8",
                      "zerolinewidth": 2
                    },
                    "yaxis": {
                      "automargin": true,
                      "gridcolor": "#EBF0F8",
                      "linecolor": "#EBF0F8",
                      "ticks": "",
                      "title": {
                        "standoff": 15
                      },
                      "zerolinecolor": "#EBF0F8",
                      "zerolinewidth": 2
                    }
                  }
                },
                "title": {
                  "text": "Model Performance Comparison Across Scoring Paradigms"
                },
                "width": 500,
                "xaxis": {
                  "anchor": "y",
                  "domain": [
                    0,
                    1
                  ],
                  "title": {
                    "text": "Scoring Paradigm"
                  }
                },
                "yaxis": {
                  "anchor": "x",
                  "domain": [
                    0,
                    1
                  ],
                  "range": [
                    0,
                    110
                  ],
                  "title": {
                    "text": "Confidence"
                  }
                }
              }
            }
          },
          "metadata": {},
          "output_type": "display_data"
        }
      ],
      "source": [
        "plot_acc(conf_data, 'Model Performance Comparison Across Scoring Paradigms', 'Confidence', [0, 110])"
      ]
    },
    {
      "cell_type": "code",
      "execution_count": 133,
      "metadata": {},
      "outputs": [
        {
          "data": {
            "text/plain": [
              "{'gpt-4.1-nano': {'Normal': 0.872, 'Greedy': 0.88, 'TopK': 0.996},\n",
              " 'gpt-4o-mini': {'Normal': 0.896, 'Greedy': 0.904, 'TopK': 1.0}}"
            ]
          },
          "execution_count": 133,
          "metadata": {},
          "output_type": "execute_result"
        }
      ],
      "source": [
        "model_data"
      ]
    },
    {
      "cell_type": "code",
      "execution_count": null,
      "metadata": {},
      "outputs": [
        {
          "data": {
            "text/plain": [
              "{'gpt-4.1-nano': {'Answer': 97.84712556279268,\n",
              "  'Target': 87.3372256089012,\n",
              "  'Norm': 87.33973826074367},\n",
              " 'gpt-4o-mini': {'Answer': 99.15370688156891,\n",
              "  'Target': 90.0912833735274,\n",
              "  'Norm': 90.09128664284134}}"
            ]
          },
          "execution_count": 135,
          "metadata": {},
          "output_type": "execute_result"
        },
        {
          "ename": "",
          "evalue": "",
          "output_type": "error",
          "traceback": [
            "\u001b[1;31mThe Kernel crashed while executing code in the current cell or a previous cell. \n",
            "\u001b[1;31mPlease review the code in the cell(s) to identify a possible cause of the failure. \n",
            "\u001b[1;31mClick <a href='https://aka.ms/vscodeJupyterKernelCrash'>here</a> for more info. \n",
            "\u001b[1;31mView Jupyter <a href='command:jupyter.viewOutput'>log</a> for further details."
          ]
        }
      ],
      "source": [
        "conf_data"
      ]
    },
    {
      "cell_type": "code",
      "execution_count": 91,
      "metadata": {},
      "outputs": [
        {
          "data": {
            "text/html": [
              "<div>\n",
              "<style scoped>\n",
              "    .dataframe tbody tr th:only-of-type {\n",
              "        vertical-align: middle;\n",
              "    }\n",
              "\n",
              "    .dataframe tbody tr th {\n",
              "        vertical-align: top;\n",
              "    }\n",
              "\n",
              "    .dataframe thead th {\n",
              "        text-align: right;\n",
              "    }\n",
              "</style>\n",
              "<table border=\"1\" class=\"dataframe\">\n",
              "  <thead>\n",
              "    <tr style=\"text-align: right;\">\n",
              "      <th></th>\n",
              "      <th>question</th>\n",
              "      <th>target</th>\n",
              "      <th>model</th>\n",
              "      <th>choices</th>\n",
              "      <th>mcq_scorer</th>\n",
              "      <th>greedy_scorer</th>\n",
              "      <th>topk_winner</th>\n",
              "      <th>top_conf</th>\n",
              "      <th>trg_conf</th>\n",
              "      <th>norm_conf</th>\n",
              "    </tr>\n",
              "  </thead>\n",
              "  <tbody>\n",
              "    <tr>\n",
              "      <th>0</th>\n",
              "      <td>Juan and LaKeisha roll a few objects down a ra...</td>\n",
              "      <td>D</td>\n",
              "      <td>openai/gpt-4.1-nano</td>\n",
              "      <td>[Put the objects in groups., Change the height...</td>\n",
              "      <td>C</td>\n",
              "      <td>C</td>\n",
              "      <td>C</td>\n",
              "      <td>99.999218</td>\n",
              "      <td>99.999218</td>\n",
              "      <td>99.999264</td>\n",
              "    </tr>\n",
              "  </tbody>\n",
              "</table>\n",
              "</div>"
            ],
            "text/plain": [
              "                                            question target  \\\n",
              "0  Juan and LaKeisha roll a few objects down a ra...      D   \n",
              "\n",
              "                 model                                            choices  \\\n",
              "0  openai/gpt-4.1-nano  [Put the objects in groups., Change the height...   \n",
              "\n",
              "  mcq_scorer greedy_scorer topk_winner   top_conf   trg_conf  norm_conf  \n",
              "0          C             C           C  99.999218  99.999218  99.999264  "
            ]
          },
          "execution_count": 91,
          "metadata": {},
          "output_type": "execute_result"
        }
      ],
      "source": [
        "m1_df = log_to_df2(m1logs)\n",
        "m2_df = log_to_df2(m2logs)\n",
        "m1_df.head(1)"
      ]
    },
    {
      "cell_type": "markdown",
      "metadata": {},
      "source": [
        "1. The normal accuracy metric shows that gpt nano performs better than 4o mini. But given the chance ie., @topk=2, 4o mini chieves a 100% accuracy and nano is not too far behind.  \n",
        "2. The confience data - calculated as linear probabilities from the log probs suggest that 4o mini is generally more confident than is nano in its answers. The target confidence is lower than the answer owing to all the answers that it didnt get right.\n"
      ]
    },
    {
      "cell_type": "code",
      "execution_count": null,
      "metadata": {},
      "outputs": [],
      "source": []
    },
    {
      "cell_type": "markdown",
      "metadata": {},
      "source": [
        "# Part D"
      ]
    },
    {
      "cell_type": "markdown",
      "metadata": {},
      "source": [
        "## MC-MCQ"
      ]
    },
    {
      "cell_type": "markdown",
      "metadata": {},
      "source": [
        "What happens when models are told that there might be more than 1 answer to a question? \n",
        "\n",
        "Granted, the data being used doesnt have multi-correct answers-  which makes it even more concerning that models score abysmally(worse than normal) by choosing more options than are necessary."
      ]
    },
    {
      "cell_type": "markdown",
      "metadata": {},
      "source": [
        "### W/O logprobs"
      ]
    },
    {
      "cell_type": "markdown",
      "metadata": {},
      "source": [
        "- Both models tend to over-answer (given the normal multi-choice-correct prompt built in @inspect.ai) nd therefore achieve lower scores than they did when prompted for a single-answer.\n",
        "- Wrong answers are penalised - ie., score=average"
      ]
    },
    {
      "cell_type": "markdown",
      "metadata": {},
      "source": [
        "<i> choice() inbuilt scorer in Inspect only gives full credit for multi-correct answers - ie., no partial credit(avg over correct ans) "
      ]
    },
    {
      "cell_type": "code",
      "execution_count": 92,
      "metadata": {},
      "outputs": [],
      "source": [
        "MULTIPLE_ANSWER_TEMPLATE = r\"\"\"\n",
        "Answer the following multiple choice question where multiple answers may be correct. The entire content of your response should be of the following format: 'LETTERS' (without quotes) where LETTERS is one or more of {letters}.\n",
        "\n",
        "{question}\n",
        "\n",
        "{choices}\n",
        "\"\"\".strip()\n",
        "\n",
        "MULTIPLE_ANSWER_TEMPLATE_PENALTY = r\"\"\"\n",
        "Answer the following multiple choice question where multiple answers may be correct. The entire content of your response should be of the following format: 'LETTERS' (without quotes) where LETTERS is one or more of {letters}. Note that including wrong/extra answers will be penalised.\n",
        "\n",
        "{question}\n",
        "\n",
        "{choices}\n",
        "\"\"\".strip()\n"
      ]
    },
    {
      "cell_type": "code",
      "execution_count": 93,
      "metadata": {},
      "outputs": [],
      "source": [
        "\n",
        "\"\"\"Custom scorer: partial_choice which affords partial credit by averaging correct keys from the set of all returned keys in a multi-choice-multi-correct scenario\"\"\"\n",
        "\n",
        "from inspect_ai.solver import Choices, TaskState\n",
        "from inspect_ai.solver._multiple_choice import (\n",
        "    answer_character,\n",
        "    answer_index,\n",
        "    answer_options,\n",
        "    unshuffle_choices,\n",
        ")\n",
        "def _score_target(target: Target, choices: Choices) -> tuple[list[int], list[str]]:\n",
        "    target_positions = [\n",
        "        answer_index(target_character) for target_character in target.text\n",
        "    ]\n",
        "\n",
        "    choice_positions = [i for i, choice in enumerate(choices) if choice.correct is True]\n",
        "\n",
        "    answers = [answer_character(choice) for choice in choice_positions]\n",
        "\n",
        "    return target_positions, answers\n",
        "\n",
        "@scorer(metrics=[mean(), accuracy(), stderr()])\n",
        "def partial_choice() -> Scorer:\n",
        "    async def score(state: TaskState, target: Target) -> Score:\n",
        "            choices = state.choices\n",
        "\n",
        "            explanation = state.output.completion\n",
        "\n",
        "            target_positions, answers = _score_target(target, choices)\n",
        "\n",
        "            generated_selected_choices = [\n",
        "                i for i, choice in enumerate(choices) if choice.correct is True\n",
        "            ]\n",
        "\n",
        "            target_matches_choices = generated_selected_choices == sorted(target_positions)\n",
        "            truth = [True if g in target_positions else False for g in generated_selected_choices]\n",
        "            score = sum(truth) / len(truth) if len(truth) > 0 else 0.0\n",
        "\n",
        "            return Score(\n",
        "                # value=CORRECT if target_matches_choices else INCORRECT,\n",
        "                value=score,\n",
        "                answer=\", \".join(answers),\n",
        "                explanation=explanation,\n",
        "            )\n",
        "\n",
        "    return score"
      ]
    },
    {
      "cell_type": "code",
      "execution_count": 99,
      "metadata": {},
      "outputs": [],
      "source": [
        "def mcmcq_task(dataset):\n",
        "  return Task(dataset =  dataset,\n",
        "              # solver = [generate()],\n",
        "              # scorer = match(),\n",
        "            #   solver=multiple_choice(),\n",
        "              solver=multiple_choice(multiple_correct=True),\n",
        "              scorer=partial_choice(),\n",
        "              )"
      ]
    },
    {
      "cell_type": "code",
      "execution_count": 100,
      "metadata": {},
      "outputs": [
        {
          "data": {
            "application/vnd.jupyter.widget-view+json": {
              "model_id": "50cb5e78df524b44a2fd7ac4486bbe8d",
              "version_major": 2,
              "version_minor": 0
            },
            "text/plain": [
              "Output()"
            ]
          },
          "metadata": {},
          "output_type": "display_data"
        },
        {
          "data": {
            "text/html": [
              "<pre style=\"white-space:pre;overflow-x:auto;line-height:normal;font-family:Menlo,'DejaVu Sans Mono',consolas,'Courier New',monospace\"></pre>\n"
            ],
            "text/plain": []
          },
          "metadata": {},
          "output_type": "display_data"
        },
        {
          "data": {
            "text/html": [
              "<pre style=\"white-space:pre;overflow-x:auto;line-height:normal;font-family:Menlo,'DejaVu Sans Mono',consolas,'Courier New',monospace\"><span style=\"color: #000080; text-decoration-color: #000080; font-weight: bold\">Completed all tasks in </span><span style=\"color: #000080; text-decoration-color: #000080; font-weight: bold\">'logs/comparison/mcmcq/val'</span><span style=\"color: #000080; text-decoration-color: #000080; font-weight: bold\"> successfully</span>\n",
              "</pre>\n"
            ],
            "text/plain": [
              "\u001b[1;34mCompleted all tasks in \u001b[0m\u001b[1;34m'logs/comparison/mcmcq/val'\u001b[0m\u001b[1;34m successfully\u001b[0m\n"
            ]
          },
          "metadata": {},
          "output_type": "display_data"
        },
        {
          "data": {
            "text/plain": [
              "(True, )"
            ]
          },
          "execution_count": 100,
          "metadata": {},
          "output_type": "execute_result"
        }
      ],
      "source": [
        "t = \"val\"\n",
        "eval_set(\n",
        "   tasks=[mcmcq_task(val_dataset)],\n",
        "   model=[\"openai/gpt-4.1-nano\", \"openai/gpt-4o-mini\"],\n",
        "   log_dir=f\"logs/comparison/mcmcq/{t}\" ,\n",
        "   limit=LIMIT ,\n",
        "   retry_attempts=15\n",
        ")"
      ]
    },
    {
      "cell_type": "code",
      "execution_count": 101,
      "metadata": {},
      "outputs": [
        {
          "data": {
            "text/html": [
              "<pre style=\"white-space:pre;overflow-x:auto;line-height:normal;font-family:Menlo,'DejaVu Sans Mono',consolas,'Courier New',monospace\"><span style=\"color: #000080; text-decoration-color: #000080; font-weight: bold\">Completed all tasks in </span><span style=\"color: #000080; text-decoration-color: #000080; font-weight: bold\">'logs/comparison/mcmcq/val'</span><span style=\"color: #000080; text-decoration-color: #000080; font-weight: bold\"> successfully</span>\n",
              "</pre>\n"
            ],
            "text/plain": [
              "\u001b[1;34mCompleted all tasks in \u001b[0m\u001b[1;34m'logs/comparison/mcmcq/val'\u001b[0m\u001b[1;34m successfully\u001b[0m\n"
            ]
          },
          "metadata": {},
          "output_type": "display_data"
        }
      ],
      "source": [
        "suc, logs_m1m2_mcmcq = eval_set(\n",
        "   tasks=[mcmcq_task(val_dataset)],\n",
        "   model=[\"openai/gpt-4.1-nano\", \"openai/gpt-4o-mini\"],\n",
        "   log_dir=f\"logs/comparison/mcmcq/{t}\" ,\n",
        "   limit=100 ,\n",
        "   retry_attempts=15\n",
        ")"
      ]
    },
    {
      "cell_type": "markdown",
      "metadata": {},
      "source": [
        "On a MCMCQ task that is scored by penalising wrong answers: ie., count(correct_answers)/len(all_answers) :\n",
        "- gpt-4.1-nano - 0.803\n",
        "- gpt-4o-mini - 0.751\n",
        "\n",
        "Which are significantly worse than the single answer probabilities above.\n"
      ]
    },
    {
      "cell_type": "markdown",
      "metadata": {},
      "source": [
        "### W/ Logprobs"
      ]
    },
    {
      "cell_type": "markdown",
      "metadata": {},
      "source": [
        "Analysing the same with logprobs - ie., given that it returns the wrong answers, is the correct answer in topk?"
      ]
    },
    {
      "cell_type": "code",
      "execution_count": 102,
      "metadata": {},
      "outputs": [],
      "source": [
        "@solver\n",
        "def mcmcq_user_message(penalty=False) -> Solver:\n",
        "    async def solve(state: TaskState, generate: Generate) -> TaskState:\n",
        "        ch = [choice.value for choice in state.choices]\n",
        "        l=state.metadata['labels']\n",
        "        letters = \",\".join(l)\n",
        "        choices = [l[i]+') '+ch[i] for i in range(len(ch))] \n",
        "        # choices = dict(zip(letters, ch))\n",
        "        # choices = ch\n",
        "        \n",
        "        if penalty: #lets the model know of the penalty\n",
        "            state.user_prompt.text = MULTIPLE_ANSWER_TEMPLATE_PENALTY.format(question=state.user_prompt.text, \n",
        "                                                               choices=choices,\n",
        "                                                               letters=letters)\n",
        "        else:\n",
        "            state.user_prompt.text = MULTIPLE_ANSWER_TEMPLATE.format(question=state.user_prompt.text, \n",
        "                                                               choices=choices,\n",
        "                                                               letters=letters)\n",
        "        # print(state.user_prompt.text)\n",
        "\n",
        "        return state\n",
        "\n",
        "    return solve\n"
      ]
    },
    {
      "cell_type": "code",
      "execution_count": 103,
      "metadata": {},
      "outputs": [],
      "source": [
        "def score_mc(tar, answer):\n",
        "    score = 0\n",
        "    for c in tar:\n",
        "        if c.strip().upper() in answer:\n",
        "            score += 1\n",
        "    score = score/len(answer)\n",
        "    return score"
      ]
    },
    {
      "cell_type": "code",
      "execution_count": null,
      "metadata": {},
      "outputs": [],
      "source": [
        "@scorer(metrics=[accuracy(), stderr()])\n",
        "def mcmcq_scorer() -> Scorer:\n",
        "    async def score(state: TaskState, target: Target) -> Score:\n",
        "        choices = [choice.value for choice in state.choices]\n",
        "        letters=state.metadata['labels']\n",
        "        explanation = state.output.completion\n",
        "        tar = state.target\n",
        "        logprobs = state.metadata['logprobs']\n",
        "        answer = [c.strip().upper() for c in explanation]\n",
        "\n",
        "\n",
        "        \n",
        "        sc = score_mc(tar, answer)\n",
        "        \n",
        "        return Score(\n",
        "        value=sc,\n",
        "        answer=\",\".join(answer),\n",
        "        explanation=explanation,\n",
        "    )\n",
        "    return score\n",
        "\n",
        "\"\"\"Top K Winner\"\"\"\n",
        "@scorer(metrics=[accuracy(), stderr()])\n",
        "def mc_topk_winner(k=2)-> Scorer:\n",
        "    \"\"\"\n",
        "    Say you want to give it an easier chance of winning, so maybe take k=2\n",
        "    ie., if the correct ans (target) is in the model's first 2 choices\n",
        "    here, greedy pick is essentially k=1\n",
        "\n",
        "    Or, say if the model's choice of probability for that token is > some x\n",
        "    \"\"\"\n",
        "    async def score(state: TaskState, target: Target) -> Score:\n",
        "        choices = [choice.value for choice in state.choices]\n",
        "        letters=state.metadata['labels']\n",
        "        explanation = state.output.completion\n",
        "        tar = state.target\n",
        "\n",
        "        logprobs = state.metadata['logprobs']\n",
        "        \n",
        "        # topk_toks = state.metadata['topk']\n",
        "\n",
        "        explanation = state.output.completion\n",
        "        explanation = explanation.strip()\n",
        "\n",
        "        target_matches_choices = False\n",
        "        ans = ''\n",
        "        conf = 0\n",
        "        for lp in logprobs[0]['top_logprobs'][:k]: #top k\n",
        "            answer = [c.strip().upper() for c in lp['token']]\n",
        "            sc = score_mc(tar=tar, answer=answer)\n",
        "            if sc == 1: #the perfect answer\n",
        "                target_matches_choices = True\n",
        "                conf = linear_probability(lp['logprob'])#confidence in correct answer - target\n",
        "                ans = \",\".join(answer) #final answer\n",
        "\n",
        "\n",
        "\n",
        "        # probs = state.metadata['linprobs'] #all probs from lp\n",
        "        # tokens = probs.keys()\n",
        "    \n",
        "        # sort_p = sorted(probs.items(), key=lambda x: x[1], reverse=True)\n",
        "        # topktoks = [x[0] for x in sort_p]\n",
        "        # greedy_res = topktoks[:k]\n",
        "        # target_matches_choices = (explanation.upper() in greedy_res)\n",
        "\n",
        "        return Score(\n",
        "            value = CORRECT if target_matches_choices else INCORRECT, # ll b greedy - ie., the most confident\n",
        "            answer= ans,\n",
        "            metadata={'linprob(conf in) of trg ':conf} #all confidence scores\n",
        "        )\n",
        "    return score\n",
        "\n"
      ]
    },
    {
      "cell_type": "markdown",
      "metadata": {},
      "source": [
        "#### Is the actual target anywhere near the top?"
      ]
    },
    {
      "cell_type": "code",
      "execution_count": 106,
      "metadata": {},
      "outputs": [
        {
          "data": {
            "application/vnd.jupyter.widget-view+json": {
              "model_id": "e1b160c738bf43c0a193bd0e2e7c6369",
              "version_major": 2,
              "version_minor": 0
            },
            "text/plain": [
              "Output()"
            ]
          },
          "metadata": {},
          "output_type": "display_data"
        },
        {
          "data": {
            "text/html": [
              "<pre style=\"white-space:pre;overflow-x:auto;line-height:normal;font-family:Menlo,'DejaVu Sans Mono',consolas,'Courier New',monospace\"></pre>\n"
            ],
            "text/plain": []
          },
          "metadata": {},
          "output_type": "display_data"
        },
        {
          "data": {
            "application/vnd.jupyter.widget-view+json": {
              "model_id": "fe248dd9970d4116b969d8e2dfc4cd57",
              "version_major": 2,
              "version_minor": 0
            },
            "text/plain": [
              "Output()"
            ]
          },
          "metadata": {},
          "output_type": "display_data"
        },
        {
          "data": {
            "text/html": [
              "<pre style=\"white-space:pre;overflow-x:auto;line-height:normal;font-family:Menlo,'DejaVu Sans Mono',consolas,'Courier New',monospace\"></pre>\n"
            ],
            "text/plain": []
          },
          "metadata": {},
          "output_type": "display_data"
        }
      ],
      "source": [
        "\n",
        "m1 = 'gpt-4.1-nano'\n",
        "m2 = 'gpt-4o-mini'\n",
        "limit = LIMIT\n",
        "topk = 4\n",
        "\n",
        "task = Task(\n",
        "    dataset=val_dataset,\n",
        "    plan=[mcmcq_user_message(), logprobs_generate(m1, topk)], \n",
        "    scorer=[mcmcq_scorer(),\n",
        "            mc_topk_winner(2)\n",
        "            ]\n",
        ")\n",
        "logm1_lp_mcmcq = eval(task, \n",
        "           model=f\"openai/{m1}\", log_dir = f\"logs/logprobs/comparison/wop\", limit = limit)\n",
        "\n",
        "task = Task(\n",
        "    dataset=val_dataset,\n",
        "    plan=[mcmcq_user_message(), logprobs_generate(m2, topk)], \n",
        "    scorer=[mcmcq_scorer(),\n",
        "            mc_topk_winner(2)\n",
        "            ]\n",
        ")\n",
        "logm2_lp_mcmcq = eval(task, \n",
        "           model=f\"openai/{m2}\", log_dir = f\"logs/logprobs/comparison/wop\", limit = limit)"
      ]
    },
    {
      "attachments": {
        "image.png": {
          "image/png": "[encoded data removed]"
        }
      },
      "cell_type": "markdown",
      "metadata": {},
      "source": [
        "Note: The original mcmcq score might be > the top k score ie., there might be cases where mcmcq affords partial credit, but the actual target is nowhere to be found in topk\n",
        "\n",
        "For eg: - here, target = D, answer = BD, and the topk answers progressively worsen :')\n",
        "\n",
        "![image.png](attachment:image.png)"
      ]
    },
    {
      "cell_type": "markdown",
      "metadata": {},
      "source": [
        "#### What if you tell the model that there's a penalty for extra answers?"
      ]
    },
    {
      "cell_type": "code",
      "execution_count": 109,
      "metadata": {},
      "outputs": [
        {
          "data": {
            "application/vnd.jupyter.widget-view+json": {
              "model_id": "09854312fc05491493ebd53e8d676176",
              "version_major": 2,
              "version_minor": 0
            },
            "text/plain": [
              "Output()"
            ]
          },
          "metadata": {},
          "output_type": "display_data"
        },
        {
          "data": {
            "text/html": [
              "<pre style=\"white-space:pre;overflow-x:auto;line-height:normal;font-family:Menlo,'DejaVu Sans Mono',consolas,'Courier New',monospace\"></pre>\n"
            ],
            "text/plain": []
          },
          "metadata": {},
          "output_type": "display_data"
        },
        {
          "data": {
            "application/vnd.jupyter.widget-view+json": {
              "model_id": "7319c73e6d9d44d29296e2ab91b8f7d3",
              "version_major": 2,
              "version_minor": 0
            },
            "text/plain": [
              "Output()"
            ]
          },
          "metadata": {},
          "output_type": "display_data"
        },
        {
          "data": {
            "text/html": [
              "<pre style=\"white-space:pre;overflow-x:auto;line-height:normal;font-family:Menlo,'DejaVu Sans Mono',consolas,'Courier New',monospace\"></pre>\n"
            ],
            "text/plain": []
          },
          "metadata": {},
          "output_type": "display_data"
        }
      ],
      "source": [
        "\n",
        "m1 = 'gpt-4.1-nano'\n",
        "m2 = 'gpt-4o-mini'\n",
        "limit = LIMIT\n",
        "topk = 4\n",
        "\n",
        "task = Task(\n",
        "    dataset=val_dataset,\n",
        "    plan=[mcmcq_user_message(True), logprobs_generate(m1, topk)], \n",
        "    scorer=[mcmcq_scorer(),\n",
        "            mc_topk_winner(2)\n",
        "            ]\n",
        ")\n",
        "logm1_lp_wp = eval(task, \n",
        "           model=f\"openai/{m1}\", log_dir = f\"logs/logprobs/comparison/wp\", limit = limit)\n",
        "\n",
        "task = Task(\n",
        "    dataset=val_dataset,\n",
        "    plan=[mcmcq_user_message(True), logprobs_generate(m2, topk)], \n",
        "    scorer=[mcmcq_scorer(),\n",
        "            mc_topk_winner(2)\n",
        "            ]\n",
        ")\n",
        "logm2_lp_wp = eval(task, \n",
        "           model=f\"openai/{m2}\", log_dir = f\"logs/logprobs/comparison/wp\", limit = limit)"
      ]
    },
    {
      "attachments": {
        "image.png": {
          "image/png": "[encoded data removed]"
        }
      },
      "cell_type": "markdown",
      "metadata": {},
      "source": [
        "Funnily enough - in this case, the correct answer (D) manages to make it to top 3, whereas in the previous case, it was nowhere to be found in tok4 - though the actual confidence/prob/logprob is so bad its almost useless\n",
        "\n",
        "![image.png](attachment:image.png)"
      ]
    }
  ],
  "metadata": {
    "colab": {
      "provenance": []
    },
    "kernelspec": {
      "display_name": "Python 3",
      "name": "python3"
    },
    "language_info": {
      "codemirror_mode": {
        "name": "ipython",
        "version": 3
      },
      "file_extension": ".py",
      "mimetype": "text/x-python",
      "name": "python",
      "nbconvert_exporter": "python",
      "pygments_lexer": "ipython3",
      "version": "3.13.5"
    },
    "widgets": {
      "application/vnd.jupyter.widget-state+json": {
        "bca629812b3949f59b1018fc5b1879cf": {
          "model_module": "@jupyter-widgets/base",
          "model_module_version": "1.2.0",
          "model_name": "LayoutModel",
          "state": {
            "_model_module": "@jupyter-widgets/base",
            "_model_module_version": "1.2.0",
            "_model_name": "LayoutModel",
            "_view_count": null,
            "_view_module": "@jupyter-widgets/base",
            "_view_module_version": "1.2.0",
            "_view_name": "LayoutView",
            "align_content": null,
            "align_items": null,
            "align_self": null,
            "border": null,
            "bottom": null,
            "display": null,
            "flex": null,
            "flex_flow": null,
            "grid_area": null,
            "grid_auto_columns": null,
            "grid_auto_flow": null,
            "grid_auto_rows": null,
            "grid_column": null,
            "grid_gap": null,
            "grid_row": null,
            "grid_template_areas": null,
            "grid_template_columns": null,
            "grid_template_rows": null,
            "height": null,
            "justify_content": null,
            "justify_items": null,
            "left": null,
            "margin": null,
            "max_height": null,
            "max_width": null,
            "min_height": null,
            "min_width": null,
            "object_fit": null,
            "object_position": null,
            "order": null,
            "overflow": null,
            "overflow_x": null,
            "overflow_y": null,
            "padding": null,
            "right": null,
            "top": null,
            "visibility": null,
            "width": null
          }
        },
        "d71af3505ed6444fbefeb1af987ccd67": {
          "model_module": "@jupyter-widgets/output",
          "model_module_version": "1.0.0",
          "model_name": "OutputModel",
          "state": {
            "_dom_classes": [],
            "_model_module": "@jupyter-widgets/output",
            "_model_module_version": "1.0.0",
            "_model_name": "OutputModel",
            "_view_count": null,
            "_view_module": "@jupyter-widgets/output",
            "_view_module_version": "1.0.0",
            "_view_name": "OutputView",
            "layout": "IPY_MODEL_bca629812b3949f59b1018fc5b1879cf",
            "msg_id": "",
            "outputs": [
              {
                "data": {
                  "text/html": "<pre style=\"white-space:pre;overflow-x:auto;line-height:normal;font-family:Menlo,'DejaVu Sans Mono',consolas,'Courier New',monospace\">╭─────────────────────────────────────────────────────────────────────────────────────────────────────────────────╮\n│<span style=\"color: #000080; text-decoration-color: #000080; font-weight: bold\">arc_eval_task (1,172 samples): openai/gpt-4o-mini</span>                                                                │\n╰─────────────────────────────────────────────────────────────────────────────────────────────────────────────────╯\ndataset: allenai/ai2_arc                                                                                           \n                                                                                                                   \n<span style=\"color: #808080; text-decoration-color: #808080; font-weight: bold\">total time:                </span><span style=\"color: #808080; text-decoration-color: #808080\">  0:08:16                                                                               </span>\n<span style=\"color: #808080; text-decoration-color: #808080; font-weight: bold\">openai/gpt-4o-mini         </span><span style=\"color: #808080; text-decoration-color: #808080\">  247,467 tokens [</span><span style=\"color: #808080; text-decoration-color: #808080; font-weight: bold\">I: </span><span style=\"color: #808080; text-decoration-color: #808080\">38,833, </span><span style=\"color: #808080; text-decoration-color: #808080; font-weight: bold\">CW: </span><span style=\"color: #808080; text-decoration-color: #808080\">0, </span><span style=\"color: #808080; text-decoration-color: #808080; font-weight: bold\">CR: </span><span style=\"color: #808080; text-decoration-color: #808080\">0, </span><span style=\"color: #808080; text-decoration-color: #808080; font-weight: bold\">O: </span><span style=\"color: #808080; text-decoration-color: #808080\">208,634, </span><span style=\"color: #808080; text-decoration-color: #808080; font-weight: bold\">R: </span><span style=\"color: #808080; text-decoration-color: #808080\">0]                            </span>\n                                                                                                                   \n<span style=\"color: #008000; text-decoration-color: #008000; font-weight: bold\">accuracy: 0.0196</span><span style=\"color: #008000; text-decoration-color: #008000\">  </span><span style=\"color: #008000; text-decoration-color: #008000; font-weight: bold\">stderr: 0.00405</span>                                                                                  \n                                                                                                                   \n<span style=\"color: #808080; text-decoration-color: #808080; font-weight: bold\">Log:</span> <a href=\"logs/2025-07-13T06-30-15+00-00_arc-eval-task_ND9xhFSFFPHvykJdSZEnfL.eval\" target=\"_blank\"><span style=\"color: #000080; text-decoration-color: #000080\">logs/2025-07-13T06-30-15+00-00_arc-eval-task_ND9xhFSFFPHvykJdSZEnfL.eval</span></a>                                      \n                                                                                                                   \n</pre>\n",
                  "text/plain": "╭─────────────────────────────────────────────────────────────────────────────────────────────────────────────────╮\n│\u001b[1marc_eval_task (1,172 samples): openai/gpt-4o-mini\u001b[0m                                                                │\n╰─────────────────────────────────────────────────────────────────────────────────────────────────────────────────╯\ndataset: allenai/ai2_arc                                                                                           \n                                                                                                                   \n\u001b[1mtotal time:                \u001b[0m  0:08:16                                                                               \n\u001b[1mopenai/gpt-4o-mini         \u001b[0m  247,467 tokens [\u001b[1mI: \u001b[0m38,833, \u001b[1mCW: \u001b[0m0, \u001b[1mCR: \u001b[0m0, \u001b[1mO: \u001b[0m208,634, \u001b[1mR: \u001b[0m0]                            \n                                                                                                                   \n\u001b[1maccuracy: 0.0196\u001b[0m  \u001b[1mstderr: 0.00405\u001b[0m                                                                                  \n                                                                                                                   \n\u001b[1mLog:\u001b[0m \u001b]8;id=567720;logs/2025-07-13T06-30-15+00-00_arc-eval-task_ND9xhFSFFPHvykJdSZEnfL.eval\u001b\\logs/2025-07-13T06-30-15+00-00_arc-eval-task_ND9xhFSFFPHvykJdSZEnfL.eval\u001b]8;;\u001b\\                                      \n                                                                                                                   \n"
                },
                "metadata": {},
                "output_type": "display_data"
              }
            ]
          }
        }
      }
    }
  },
  "nbformat": 4,
  "nbformat_minor": 0
}
